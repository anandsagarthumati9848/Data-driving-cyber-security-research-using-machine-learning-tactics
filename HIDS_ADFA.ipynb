{
  "nbformat": 4,
  "nbformat_minor": 0,
  "metadata": {
    "colab": {
      "name": " HIDS_ADFA.ipynb",
      "provenance": [],
      "collapsed_sections": [],
      "include_colab_link": true
    },
    "kernelspec": {
      "display_name": "Python 3",
      "language": "python",
      "name": "python3"
    },
    "language_info": {
      "codemirror_mode": {
        "name": "ipython",
        "version": 3
      },
      "file_extension": ".py",
      "mimetype": "text/x-python",
      "name": "python",
      "nbconvert_exporter": "python",
      "pygments_lexer": "ipython3",
      "version": "3.8.5"
    },
    "accelerator": "GPU",
    "widgets": {
      "application/vnd.jupyter.widget-state+json": {
        "599d65f0aa3b4ed682168e76fe34e861": {
          "model_module": "@jupyter-widgets/controls",
          "model_name": "HBoxModel",
          "state": {
            "_view_name": "HBoxView",
            "_dom_classes": [],
            "_model_name": "HBoxModel",
            "_view_module": "@jupyter-widgets/controls",
            "_model_module_version": "1.5.0",
            "_view_count": null,
            "_view_module_version": "1.5.0",
            "box_style": "",
            "layout": "IPY_MODEL_57e05ca6b7db4292ac9d5b00ce8a3825",
            "_model_module": "@jupyter-widgets/controls",
            "children": [
              "IPY_MODEL_28b34b3bdbf542709570a5ffa1acc43b",
              "IPY_MODEL_bb3a5fef4aa7488db3483994fb5dbf44"
            ]
          }
        },
        "57e05ca6b7db4292ac9d5b00ce8a3825": {
          "model_module": "@jupyter-widgets/base",
          "model_name": "LayoutModel",
          "state": {
            "_view_name": "LayoutView",
            "grid_template_rows": null,
            "right": null,
            "justify_content": null,
            "_view_module": "@jupyter-widgets/base",
            "overflow": null,
            "_model_module_version": "1.2.0",
            "_view_count": null,
            "flex_flow": null,
            "width": null,
            "min_width": null,
            "border": null,
            "align_items": null,
            "bottom": null,
            "_model_module": "@jupyter-widgets/base",
            "top": null,
            "grid_column": null,
            "overflow_y": null,
            "overflow_x": null,
            "grid_auto_flow": null,
            "grid_area": null,
            "grid_template_columns": null,
            "flex": null,
            "_model_name": "LayoutModel",
            "justify_items": null,
            "grid_row": null,
            "max_height": null,
            "align_content": null,
            "visibility": null,
            "align_self": null,
            "height": null,
            "min_height": null,
            "padding": null,
            "grid_auto_rows": null,
            "grid_gap": null,
            "max_width": null,
            "order": null,
            "_view_module_version": "1.2.0",
            "grid_template_areas": null,
            "object_position": null,
            "object_fit": null,
            "grid_auto_columns": null,
            "margin": null,
            "display": null,
            "left": null
          }
        },
        "28b34b3bdbf542709570a5ffa1acc43b": {
          "model_module": "@jupyter-widgets/controls",
          "model_name": "FloatProgressModel",
          "state": {
            "_view_name": "ProgressView",
            "style": "IPY_MODEL_b2ce28df01754ddd83e302d21b719746",
            "_dom_classes": [],
            "description": "Downloading: 100%",
            "_model_name": "FloatProgressModel",
            "bar_style": "success",
            "max": 1042301,
            "_view_module": "@jupyter-widgets/controls",
            "_model_module_version": "1.5.0",
            "value": 1042301,
            "_view_count": null,
            "_view_module_version": "1.5.0",
            "orientation": "horizontal",
            "min": 0,
            "description_tooltip": null,
            "_model_module": "@jupyter-widgets/controls",
            "layout": "IPY_MODEL_8f807215ea3e4b5f9adf3105a4e48c99"
          }
        },
        "bb3a5fef4aa7488db3483994fb5dbf44": {
          "model_module": "@jupyter-widgets/controls",
          "model_name": "HTMLModel",
          "state": {
            "_view_name": "HTMLView",
            "style": "IPY_MODEL_06f8df2ebfbf42f199f44ec1244e17fe",
            "_dom_classes": [],
            "description": "",
            "_model_name": "HTMLModel",
            "placeholder": "​",
            "_view_module": "@jupyter-widgets/controls",
            "_model_module_version": "1.5.0",
            "value": " 1.04M/1.04M [00:00&lt;00:00, 2.77MB/s]",
            "_view_count": null,
            "_view_module_version": "1.5.0",
            "description_tooltip": null,
            "_model_module": "@jupyter-widgets/controls",
            "layout": "IPY_MODEL_6f8391bf4c144c10bd90130ea8a5514f"
          }
        },
        "b2ce28df01754ddd83e302d21b719746": {
          "model_module": "@jupyter-widgets/controls",
          "model_name": "ProgressStyleModel",
          "state": {
            "_view_name": "StyleView",
            "_model_name": "ProgressStyleModel",
            "description_width": "initial",
            "_view_module": "@jupyter-widgets/base",
            "_model_module_version": "1.5.0",
            "_view_count": null,
            "_view_module_version": "1.2.0",
            "bar_color": null,
            "_model_module": "@jupyter-widgets/controls"
          }
        },
        "8f807215ea3e4b5f9adf3105a4e48c99": {
          "model_module": "@jupyter-widgets/base",
          "model_name": "LayoutModel",
          "state": {
            "_view_name": "LayoutView",
            "grid_template_rows": null,
            "right": null,
            "justify_content": null,
            "_view_module": "@jupyter-widgets/base",
            "overflow": null,
            "_model_module_version": "1.2.0",
            "_view_count": null,
            "flex_flow": null,
            "width": null,
            "min_width": null,
            "border": null,
            "align_items": null,
            "bottom": null,
            "_model_module": "@jupyter-widgets/base",
            "top": null,
            "grid_column": null,
            "overflow_y": null,
            "overflow_x": null,
            "grid_auto_flow": null,
            "grid_area": null,
            "grid_template_columns": null,
            "flex": null,
            "_model_name": "LayoutModel",
            "justify_items": null,
            "grid_row": null,
            "max_height": null,
            "align_content": null,
            "visibility": null,
            "align_self": null,
            "height": null,
            "min_height": null,
            "padding": null,
            "grid_auto_rows": null,
            "grid_gap": null,
            "max_width": null,
            "order": null,
            "_view_module_version": "1.2.0",
            "grid_template_areas": null,
            "object_position": null,
            "object_fit": null,
            "grid_auto_columns": null,
            "margin": null,
            "display": null,
            "left": null
          }
        },
        "06f8df2ebfbf42f199f44ec1244e17fe": {
          "model_module": "@jupyter-widgets/controls",
          "model_name": "DescriptionStyleModel",
          "state": {
            "_view_name": "StyleView",
            "_model_name": "DescriptionStyleModel",
            "description_width": "",
            "_view_module": "@jupyter-widgets/base",
            "_model_module_version": "1.5.0",
            "_view_count": null,
            "_view_module_version": "1.2.0",
            "_model_module": "@jupyter-widgets/controls"
          }
        },
        "6f8391bf4c144c10bd90130ea8a5514f": {
          "model_module": "@jupyter-widgets/base",
          "model_name": "LayoutModel",
          "state": {
            "_view_name": "LayoutView",
            "grid_template_rows": null,
            "right": null,
            "justify_content": null,
            "_view_module": "@jupyter-widgets/base",
            "overflow": null,
            "_model_module_version": "1.2.0",
            "_view_count": null,
            "flex_flow": null,
            "width": null,
            "min_width": null,
            "border": null,
            "align_items": null,
            "bottom": null,
            "_model_module": "@jupyter-widgets/base",
            "top": null,
            "grid_column": null,
            "overflow_y": null,
            "overflow_x": null,
            "grid_auto_flow": null,
            "grid_area": null,
            "grid_template_columns": null,
            "flex": null,
            "_model_name": "LayoutModel",
            "justify_items": null,
            "grid_row": null,
            "max_height": null,
            "align_content": null,
            "visibility": null,
            "align_self": null,
            "height": null,
            "min_height": null,
            "padding": null,
            "grid_auto_rows": null,
            "grid_gap": null,
            "max_width": null,
            "order": null,
            "_view_module_version": "1.2.0",
            "grid_template_areas": null,
            "object_position": null,
            "object_fit": null,
            "grid_auto_columns": null,
            "margin": null,
            "display": null,
            "left": null
          }
        },
        "db772d0b12cb47d59248f517e768f07f": {
          "model_module": "@jupyter-widgets/controls",
          "model_name": "HBoxModel",
          "state": {
            "_view_name": "HBoxView",
            "_dom_classes": [],
            "_model_name": "HBoxModel",
            "_view_module": "@jupyter-widgets/controls",
            "_model_module_version": "1.5.0",
            "_view_count": null,
            "_view_module_version": "1.5.0",
            "box_style": "",
            "layout": "IPY_MODEL_266436279345413da845616a2635e16f",
            "_model_module": "@jupyter-widgets/controls",
            "children": [
              "IPY_MODEL_a3bba877f91544be9d414840643d8822",
              "IPY_MODEL_23dd849c73664edabfd5799fe1407e32"
            ]
          }
        },
        "266436279345413da845616a2635e16f": {
          "model_module": "@jupyter-widgets/base",
          "model_name": "LayoutModel",
          "state": {
            "_view_name": "LayoutView",
            "grid_template_rows": null,
            "right": null,
            "justify_content": null,
            "_view_module": "@jupyter-widgets/base",
            "overflow": null,
            "_model_module_version": "1.2.0",
            "_view_count": null,
            "flex_flow": null,
            "width": null,
            "min_width": null,
            "border": null,
            "align_items": null,
            "bottom": null,
            "_model_module": "@jupyter-widgets/base",
            "top": null,
            "grid_column": null,
            "overflow_y": null,
            "overflow_x": null,
            "grid_auto_flow": null,
            "grid_area": null,
            "grid_template_columns": null,
            "flex": null,
            "_model_name": "LayoutModel",
            "justify_items": null,
            "grid_row": null,
            "max_height": null,
            "align_content": null,
            "visibility": null,
            "align_self": null,
            "height": null,
            "min_height": null,
            "padding": null,
            "grid_auto_rows": null,
            "grid_gap": null,
            "max_width": null,
            "order": null,
            "_view_module_version": "1.2.0",
            "grid_template_areas": null,
            "object_position": null,
            "object_fit": null,
            "grid_auto_columns": null,
            "margin": null,
            "display": null,
            "left": null
          }
        },
        "a3bba877f91544be9d414840643d8822": {
          "model_module": "@jupyter-widgets/controls",
          "model_name": "FloatProgressModel",
          "state": {
            "_view_name": "ProgressView",
            "style": "IPY_MODEL_f05d4b99bcf142719a6cc8cec717be6b",
            "_dom_classes": [],
            "description": "Downloading: 100%",
            "_model_name": "FloatProgressModel",
            "bar_style": "success",
            "max": 456318,
            "_view_module": "@jupyter-widgets/controls",
            "_model_module_version": "1.5.0",
            "value": 456318,
            "_view_count": null,
            "_view_module_version": "1.5.0",
            "orientation": "horizontal",
            "min": 0,
            "description_tooltip": null,
            "_model_module": "@jupyter-widgets/controls",
            "layout": "IPY_MODEL_b5883c292187440aaba3968b775d7319"
          }
        },
        "23dd849c73664edabfd5799fe1407e32": {
          "model_module": "@jupyter-widgets/controls",
          "model_name": "HTMLModel",
          "state": {
            "_view_name": "HTMLView",
            "style": "IPY_MODEL_d9d944e4500c4b1fbf6932af54424a4c",
            "_dom_classes": [],
            "description": "",
            "_model_name": "HTMLModel",
            "placeholder": "​",
            "_view_module": "@jupyter-widgets/controls",
            "_model_module_version": "1.5.0",
            "value": " 456k/456k [00:00&lt;00:00, 1.87MB/s]",
            "_view_count": null,
            "_view_module_version": "1.5.0",
            "description_tooltip": null,
            "_model_module": "@jupyter-widgets/controls",
            "layout": "IPY_MODEL_57f538ef6c384c259a9478fcd168800d"
          }
        },
        "f05d4b99bcf142719a6cc8cec717be6b": {
          "model_module": "@jupyter-widgets/controls",
          "model_name": "ProgressStyleModel",
          "state": {
            "_view_name": "StyleView",
            "_model_name": "ProgressStyleModel",
            "description_width": "initial",
            "_view_module": "@jupyter-widgets/base",
            "_model_module_version": "1.5.0",
            "_view_count": null,
            "_view_module_version": "1.2.0",
            "bar_color": null,
            "_model_module": "@jupyter-widgets/controls"
          }
        },
        "b5883c292187440aaba3968b775d7319": {
          "model_module": "@jupyter-widgets/base",
          "model_name": "LayoutModel",
          "state": {
            "_view_name": "LayoutView",
            "grid_template_rows": null,
            "right": null,
            "justify_content": null,
            "_view_module": "@jupyter-widgets/base",
            "overflow": null,
            "_model_module_version": "1.2.0",
            "_view_count": null,
            "flex_flow": null,
            "width": null,
            "min_width": null,
            "border": null,
            "align_items": null,
            "bottom": null,
            "_model_module": "@jupyter-widgets/base",
            "top": null,
            "grid_column": null,
            "overflow_y": null,
            "overflow_x": null,
            "grid_auto_flow": null,
            "grid_area": null,
            "grid_template_columns": null,
            "flex": null,
            "_model_name": "LayoutModel",
            "justify_items": null,
            "grid_row": null,
            "max_height": null,
            "align_content": null,
            "visibility": null,
            "align_self": null,
            "height": null,
            "min_height": null,
            "padding": null,
            "grid_auto_rows": null,
            "grid_gap": null,
            "max_width": null,
            "order": null,
            "_view_module_version": "1.2.0",
            "grid_template_areas": null,
            "object_position": null,
            "object_fit": null,
            "grid_auto_columns": null,
            "margin": null,
            "display": null,
            "left": null
          }
        },
        "d9d944e4500c4b1fbf6932af54424a4c": {
          "model_module": "@jupyter-widgets/controls",
          "model_name": "DescriptionStyleModel",
          "state": {
            "_view_name": "StyleView",
            "_model_name": "DescriptionStyleModel",
            "description_width": "",
            "_view_module": "@jupyter-widgets/base",
            "_model_module_version": "1.5.0",
            "_view_count": null,
            "_view_module_version": "1.2.0",
            "_model_module": "@jupyter-widgets/controls"
          }
        },
        "57f538ef6c384c259a9478fcd168800d": {
          "model_module": "@jupyter-widgets/base",
          "model_name": "LayoutModel",
          "state": {
            "_view_name": "LayoutView",
            "grid_template_rows": null,
            "right": null,
            "justify_content": null,
            "_view_module": "@jupyter-widgets/base",
            "overflow": null,
            "_model_module_version": "1.2.0",
            "_view_count": null,
            "flex_flow": null,
            "width": null,
            "min_width": null,
            "border": null,
            "align_items": null,
            "bottom": null,
            "_model_module": "@jupyter-widgets/base",
            "top": null,
            "grid_column": null,
            "overflow_y": null,
            "overflow_x": null,
            "grid_auto_flow": null,
            "grid_area": null,
            "grid_template_columns": null,
            "flex": null,
            "_model_name": "LayoutModel",
            "justify_items": null,
            "grid_row": null,
            "max_height": null,
            "align_content": null,
            "visibility": null,
            "align_self": null,
            "height": null,
            "min_height": null,
            "padding": null,
            "grid_auto_rows": null,
            "grid_gap": null,
            "max_width": null,
            "order": null,
            "_view_module_version": "1.2.0",
            "grid_template_areas": null,
            "object_position": null,
            "object_fit": null,
            "grid_auto_columns": null,
            "margin": null,
            "display": null,
            "left": null
          }
        },
        "c55e942db3064c3e9d04f42078bf6a7c": {
          "model_module": "@jupyter-widgets/controls",
          "model_name": "HBoxModel",
          "state": {
            "_view_name": "HBoxView",
            "_dom_classes": [],
            "_model_name": "HBoxModel",
            "_view_module": "@jupyter-widgets/controls",
            "_model_module_version": "1.5.0",
            "_view_count": null,
            "_view_module_version": "1.5.0",
            "box_style": "",
            "layout": "IPY_MODEL_5d93fd3d2a014359850071ed5c9c5f05",
            "_model_module": "@jupyter-widgets/controls",
            "children": [
              "IPY_MODEL_c8d3555ffab3480eafc204db884a64db",
              "IPY_MODEL_f2174589c9904cabaae11aa8fc9f2e95"
            ]
          }
        },
        "5d93fd3d2a014359850071ed5c9c5f05": {
          "model_module": "@jupyter-widgets/base",
          "model_name": "LayoutModel",
          "state": {
            "_view_name": "LayoutView",
            "grid_template_rows": null,
            "right": null,
            "justify_content": null,
            "_view_module": "@jupyter-widgets/base",
            "overflow": null,
            "_model_module_version": "1.2.0",
            "_view_count": null,
            "flex_flow": null,
            "width": null,
            "min_width": null,
            "border": null,
            "align_items": null,
            "bottom": null,
            "_model_module": "@jupyter-widgets/base",
            "top": null,
            "grid_column": null,
            "overflow_y": null,
            "overflow_x": null,
            "grid_auto_flow": null,
            "grid_area": null,
            "grid_template_columns": null,
            "flex": null,
            "_model_name": "LayoutModel",
            "justify_items": null,
            "grid_row": null,
            "max_height": null,
            "align_content": null,
            "visibility": null,
            "align_self": null,
            "height": null,
            "min_height": null,
            "padding": null,
            "grid_auto_rows": null,
            "grid_gap": null,
            "max_width": null,
            "order": null,
            "_view_module_version": "1.2.0",
            "grid_template_areas": null,
            "object_position": null,
            "object_fit": null,
            "grid_auto_columns": null,
            "margin": null,
            "display": null,
            "left": null
          }
        },
        "c8d3555ffab3480eafc204db884a64db": {
          "model_module": "@jupyter-widgets/controls",
          "model_name": "FloatProgressModel",
          "state": {
            "_view_name": "ProgressView",
            "style": "IPY_MODEL_813a9f757d0649c6ae7b8c76a9aa4016",
            "_dom_classes": [],
            "description": "Downloading: 100%",
            "_model_name": "FloatProgressModel",
            "bar_style": "success",
            "max": 26,
            "_view_module": "@jupyter-widgets/controls",
            "_model_module_version": "1.5.0",
            "value": 26,
            "_view_count": null,
            "_view_module_version": "1.5.0",
            "orientation": "horizontal",
            "min": 0,
            "description_tooltip": null,
            "_model_module": "@jupyter-widgets/controls",
            "layout": "IPY_MODEL_44fe0d2fb19e42a295bb04b5f4c32033"
          }
        },
        "f2174589c9904cabaae11aa8fc9f2e95": {
          "model_module": "@jupyter-widgets/controls",
          "model_name": "HTMLModel",
          "state": {
            "_view_name": "HTMLView",
            "style": "IPY_MODEL_d503eb92c5474cda9947f80581a77c7c",
            "_dom_classes": [],
            "description": "",
            "_model_name": "HTMLModel",
            "placeholder": "​",
            "_view_module": "@jupyter-widgets/controls",
            "_model_module_version": "1.5.0",
            "value": " 26.0/26.0 [00:00&lt;00:00, 228B/s]",
            "_view_count": null,
            "_view_module_version": "1.5.0",
            "description_tooltip": null,
            "_model_module": "@jupyter-widgets/controls",
            "layout": "IPY_MODEL_34107a018eb24e06ad722c3749c8f136"
          }
        },
        "813a9f757d0649c6ae7b8c76a9aa4016": {
          "model_module": "@jupyter-widgets/controls",
          "model_name": "ProgressStyleModel",
          "state": {
            "_view_name": "StyleView",
            "_model_name": "ProgressStyleModel",
            "description_width": "initial",
            "_view_module": "@jupyter-widgets/base",
            "_model_module_version": "1.5.0",
            "_view_count": null,
            "_view_module_version": "1.2.0",
            "bar_color": null,
            "_model_module": "@jupyter-widgets/controls"
          }
        },
        "44fe0d2fb19e42a295bb04b5f4c32033": {
          "model_module": "@jupyter-widgets/base",
          "model_name": "LayoutModel",
          "state": {
            "_view_name": "LayoutView",
            "grid_template_rows": null,
            "right": null,
            "justify_content": null,
            "_view_module": "@jupyter-widgets/base",
            "overflow": null,
            "_model_module_version": "1.2.0",
            "_view_count": null,
            "flex_flow": null,
            "width": null,
            "min_width": null,
            "border": null,
            "align_items": null,
            "bottom": null,
            "_model_module": "@jupyter-widgets/base",
            "top": null,
            "grid_column": null,
            "overflow_y": null,
            "overflow_x": null,
            "grid_auto_flow": null,
            "grid_area": null,
            "grid_template_columns": null,
            "flex": null,
            "_model_name": "LayoutModel",
            "justify_items": null,
            "grid_row": null,
            "max_height": null,
            "align_content": null,
            "visibility": null,
            "align_self": null,
            "height": null,
            "min_height": null,
            "padding": null,
            "grid_auto_rows": null,
            "grid_gap": null,
            "max_width": null,
            "order": null,
            "_view_module_version": "1.2.0",
            "grid_template_areas": null,
            "object_position": null,
            "object_fit": null,
            "grid_auto_columns": null,
            "margin": null,
            "display": null,
            "left": null
          }
        },
        "d503eb92c5474cda9947f80581a77c7c": {
          "model_module": "@jupyter-widgets/controls",
          "model_name": "DescriptionStyleModel",
          "state": {
            "_view_name": "StyleView",
            "_model_name": "DescriptionStyleModel",
            "description_width": "",
            "_view_module": "@jupyter-widgets/base",
            "_model_module_version": "1.5.0",
            "_view_count": null,
            "_view_module_version": "1.2.0",
            "_model_module": "@jupyter-widgets/controls"
          }
        },
        "34107a018eb24e06ad722c3749c8f136": {
          "model_module": "@jupyter-widgets/base",
          "model_name": "LayoutModel",
          "state": {
            "_view_name": "LayoutView",
            "grid_template_rows": null,
            "right": null,
            "justify_content": null,
            "_view_module": "@jupyter-widgets/base",
            "overflow": null,
            "_model_module_version": "1.2.0",
            "_view_count": null,
            "flex_flow": null,
            "width": null,
            "min_width": null,
            "border": null,
            "align_items": null,
            "bottom": null,
            "_model_module": "@jupyter-widgets/base",
            "top": null,
            "grid_column": null,
            "overflow_y": null,
            "overflow_x": null,
            "grid_auto_flow": null,
            "grid_area": null,
            "grid_template_columns": null,
            "flex": null,
            "_model_name": "LayoutModel",
            "justify_items": null,
            "grid_row": null,
            "max_height": null,
            "align_content": null,
            "visibility": null,
            "align_self": null,
            "height": null,
            "min_height": null,
            "padding": null,
            "grid_auto_rows": null,
            "grid_gap": null,
            "max_width": null,
            "order": null,
            "_view_module_version": "1.2.0",
            "grid_template_areas": null,
            "object_position": null,
            "object_fit": null,
            "grid_auto_columns": null,
            "margin": null,
            "display": null,
            "left": null
          }
        },
        "d1525e8a7bba400e8890b82a2d1bc95d": {
          "model_module": "@jupyter-widgets/controls",
          "model_name": "HBoxModel",
          "state": {
            "_view_name": "HBoxView",
            "_dom_classes": [],
            "_model_name": "HBoxModel",
            "_view_module": "@jupyter-widgets/controls",
            "_model_module_version": "1.5.0",
            "_view_count": null,
            "_view_module_version": "1.5.0",
            "box_style": "",
            "layout": "IPY_MODEL_f9c348b725f24215bd9c6c8f3f951584",
            "_model_module": "@jupyter-widgets/controls",
            "children": [
              "IPY_MODEL_6cfa9fd3f6144f49bdb61bbb18b0b33f",
              "IPY_MODEL_74daf9742123429290839f333c1b16d2"
            ]
          }
        },
        "f9c348b725f24215bd9c6c8f3f951584": {
          "model_module": "@jupyter-widgets/base",
          "model_name": "LayoutModel",
          "state": {
            "_view_name": "LayoutView",
            "grid_template_rows": null,
            "right": null,
            "justify_content": null,
            "_view_module": "@jupyter-widgets/base",
            "overflow": null,
            "_model_module_version": "1.2.0",
            "_view_count": null,
            "flex_flow": null,
            "width": null,
            "min_width": null,
            "border": null,
            "align_items": null,
            "bottom": null,
            "_model_module": "@jupyter-widgets/base",
            "top": null,
            "grid_column": null,
            "overflow_y": null,
            "overflow_x": null,
            "grid_auto_flow": null,
            "grid_area": null,
            "grid_template_columns": null,
            "flex": null,
            "_model_name": "LayoutModel",
            "justify_items": null,
            "grid_row": null,
            "max_height": null,
            "align_content": null,
            "visibility": null,
            "align_self": null,
            "height": null,
            "min_height": null,
            "padding": null,
            "grid_auto_rows": null,
            "grid_gap": null,
            "max_width": null,
            "order": null,
            "_view_module_version": "1.2.0",
            "grid_template_areas": null,
            "object_position": null,
            "object_fit": null,
            "grid_auto_columns": null,
            "margin": null,
            "display": null,
            "left": null
          }
        },
        "6cfa9fd3f6144f49bdb61bbb18b0b33f": {
          "model_module": "@jupyter-widgets/controls",
          "model_name": "FloatProgressModel",
          "state": {
            "_view_name": "ProgressView",
            "style": "IPY_MODEL_7e8285e571bc47f78e054db58913a682",
            "_dom_classes": [],
            "description": "Downloading: 100%",
            "_model_name": "FloatProgressModel",
            "bar_style": "success",
            "max": 641,
            "_view_module": "@jupyter-widgets/controls",
            "_model_module_version": "1.5.0",
            "value": 641,
            "_view_count": null,
            "_view_module_version": "1.5.0",
            "orientation": "horizontal",
            "min": 0,
            "description_tooltip": null,
            "_model_module": "@jupyter-widgets/controls",
            "layout": "IPY_MODEL_1e16cd53ec3646d3be1097789f593e2f"
          }
        },
        "74daf9742123429290839f333c1b16d2": {
          "model_module": "@jupyter-widgets/controls",
          "model_name": "HTMLModel",
          "state": {
            "_view_name": "HTMLView",
            "style": "IPY_MODEL_c6c8aeb552b94c6db37921f70d1d1211",
            "_dom_classes": [],
            "description": "",
            "_model_name": "HTMLModel",
            "placeholder": "​",
            "_view_module": "@jupyter-widgets/controls",
            "_model_module_version": "1.5.0",
            "value": " 641/641 [00:00&lt;00:00, 3.50kB/s]",
            "_view_count": null,
            "_view_module_version": "1.5.0",
            "description_tooltip": null,
            "_model_module": "@jupyter-widgets/controls",
            "layout": "IPY_MODEL_188a31b21c634e52b177cdcccf903304"
          }
        },
        "7e8285e571bc47f78e054db58913a682": {
          "model_module": "@jupyter-widgets/controls",
          "model_name": "ProgressStyleModel",
          "state": {
            "_view_name": "StyleView",
            "_model_name": "ProgressStyleModel",
            "description_width": "initial",
            "_view_module": "@jupyter-widgets/base",
            "_model_module_version": "1.5.0",
            "_view_count": null,
            "_view_module_version": "1.2.0",
            "bar_color": null,
            "_model_module": "@jupyter-widgets/controls"
          }
        },
        "1e16cd53ec3646d3be1097789f593e2f": {
          "model_module": "@jupyter-widgets/base",
          "model_name": "LayoutModel",
          "state": {
            "_view_name": "LayoutView",
            "grid_template_rows": null,
            "right": null,
            "justify_content": null,
            "_view_module": "@jupyter-widgets/base",
            "overflow": null,
            "_model_module_version": "1.2.0",
            "_view_count": null,
            "flex_flow": null,
            "width": null,
            "min_width": null,
            "border": null,
            "align_items": null,
            "bottom": null,
            "_model_module": "@jupyter-widgets/base",
            "top": null,
            "grid_column": null,
            "overflow_y": null,
            "overflow_x": null,
            "grid_auto_flow": null,
            "grid_area": null,
            "grid_template_columns": null,
            "flex": null,
            "_model_name": "LayoutModel",
            "justify_items": null,
            "grid_row": null,
            "max_height": null,
            "align_content": null,
            "visibility": null,
            "align_self": null,
            "height": null,
            "min_height": null,
            "padding": null,
            "grid_auto_rows": null,
            "grid_gap": null,
            "max_width": null,
            "order": null,
            "_view_module_version": "1.2.0",
            "grid_template_areas": null,
            "object_position": null,
            "object_fit": null,
            "grid_auto_columns": null,
            "margin": null,
            "display": null,
            "left": null
          }
        },
        "c6c8aeb552b94c6db37921f70d1d1211": {
          "model_module": "@jupyter-widgets/controls",
          "model_name": "DescriptionStyleModel",
          "state": {
            "_view_name": "StyleView",
            "_model_name": "DescriptionStyleModel",
            "description_width": "",
            "_view_module": "@jupyter-widgets/base",
            "_model_module_version": "1.5.0",
            "_view_count": null,
            "_view_module_version": "1.2.0",
            "_model_module": "@jupyter-widgets/controls"
          }
        },
        "188a31b21c634e52b177cdcccf903304": {
          "model_module": "@jupyter-widgets/base",
          "model_name": "LayoutModel",
          "state": {
            "_view_name": "LayoutView",
            "grid_template_rows": null,
            "right": null,
            "justify_content": null,
            "_view_module": "@jupyter-widgets/base",
            "overflow": null,
            "_model_module_version": "1.2.0",
            "_view_count": null,
            "flex_flow": null,
            "width": null,
            "min_width": null,
            "border": null,
            "align_items": null,
            "bottom": null,
            "_model_module": "@jupyter-widgets/base",
            "top": null,
            "grid_column": null,
            "overflow_y": null,
            "overflow_x": null,
            "grid_auto_flow": null,
            "grid_area": null,
            "grid_template_columns": null,
            "flex": null,
            "_model_name": "LayoutModel",
            "justify_items": null,
            "grid_row": null,
            "max_height": null,
            "align_content": null,
            "visibility": null,
            "align_self": null,
            "height": null,
            "min_height": null,
            "padding": null,
            "grid_auto_rows": null,
            "grid_gap": null,
            "max_width": null,
            "order": null,
            "_view_module_version": "1.2.0",
            "grid_template_areas": null,
            "object_position": null,
            "object_fit": null,
            "grid_auto_columns": null,
            "margin": null,
            "display": null,
            "left": null
          }
        },
        "7325b46faf3d4785bd03d6956ccea186": {
          "model_module": "@jupyter-widgets/controls",
          "model_name": "HBoxModel",
          "state": {
            "_view_name": "HBoxView",
            "_dom_classes": [],
            "_model_name": "HBoxModel",
            "_view_module": "@jupyter-widgets/controls",
            "_model_module_version": "1.5.0",
            "_view_count": null,
            "_view_module_version": "1.5.0",
            "box_style": "",
            "layout": "IPY_MODEL_594804522c7d4796877899cb907d7d5f",
            "_model_module": "@jupyter-widgets/controls",
            "children": [
              "IPY_MODEL_f1c95b0d82004e99a0af8608f4332df5",
              "IPY_MODEL_0cb9a7ab2355490db58c00fe98d2e8b0"
            ]
          }
        },
        "594804522c7d4796877899cb907d7d5f": {
          "model_module": "@jupyter-widgets/base",
          "model_name": "LayoutModel",
          "state": {
            "_view_name": "LayoutView",
            "grid_template_rows": null,
            "right": null,
            "justify_content": null,
            "_view_module": "@jupyter-widgets/base",
            "overflow": null,
            "_model_module_version": "1.2.0",
            "_view_count": null,
            "flex_flow": null,
            "width": null,
            "min_width": null,
            "border": null,
            "align_items": null,
            "bottom": null,
            "_model_module": "@jupyter-widgets/base",
            "top": null,
            "grid_column": null,
            "overflow_y": null,
            "overflow_x": null,
            "grid_auto_flow": null,
            "grid_area": null,
            "grid_template_columns": null,
            "flex": null,
            "_model_name": "LayoutModel",
            "justify_items": null,
            "grid_row": null,
            "max_height": null,
            "align_content": null,
            "visibility": null,
            "align_self": null,
            "height": null,
            "min_height": null,
            "padding": null,
            "grid_auto_rows": null,
            "grid_gap": null,
            "max_width": null,
            "order": null,
            "_view_module_version": "1.2.0",
            "grid_template_areas": null,
            "object_position": null,
            "object_fit": null,
            "grid_auto_columns": null,
            "margin": null,
            "display": null,
            "left": null
          }
        },
        "f1c95b0d82004e99a0af8608f4332df5": {
          "model_module": "@jupyter-widgets/controls",
          "model_name": "FloatProgressModel",
          "state": {
            "_view_name": "ProgressView",
            "style": "IPY_MODEL_3ecd939a6c7344a996e78136b12b1057",
            "_dom_classes": [],
            "description": "Downloading: 100%",
            "_model_name": "FloatProgressModel",
            "bar_style": "success",
            "max": 351265583,
            "_view_module": "@jupyter-widgets/controls",
            "_model_module_version": "1.5.0",
            "value": 351265583,
            "_view_count": null,
            "_view_module_version": "1.5.0",
            "orientation": "horizontal",
            "min": 0,
            "description_tooltip": null,
            "_model_module": "@jupyter-widgets/controls",
            "layout": "IPY_MODEL_6b2cd1aa587041e8866ddc2b8fe27331"
          }
        },
        "0cb9a7ab2355490db58c00fe98d2e8b0": {
          "model_module": "@jupyter-widgets/controls",
          "model_name": "HTMLModel",
          "state": {
            "_view_name": "HTMLView",
            "style": "IPY_MODEL_5333414d84504765bb54aa45203b1160",
            "_dom_classes": [],
            "description": "",
            "_model_name": "HTMLModel",
            "placeholder": "​",
            "_view_module": "@jupyter-widgets/controls",
            "_model_module_version": "1.5.0",
            "value": " 351M/351M [00:09&lt;00:00, 35.3MB/s]",
            "_view_count": null,
            "_view_module_version": "1.5.0",
            "description_tooltip": null,
            "_model_module": "@jupyter-widgets/controls",
            "layout": "IPY_MODEL_95fcbc10e9df418ebe6b71055e6d7bd3"
          }
        },
        "3ecd939a6c7344a996e78136b12b1057": {
          "model_module": "@jupyter-widgets/controls",
          "model_name": "ProgressStyleModel",
          "state": {
            "_view_name": "StyleView",
            "_model_name": "ProgressStyleModel",
            "description_width": "initial",
            "_view_module": "@jupyter-widgets/base",
            "_model_module_version": "1.5.0",
            "_view_count": null,
            "_view_module_version": "1.2.0",
            "bar_color": null,
            "_model_module": "@jupyter-widgets/controls"
          }
        },
        "6b2cd1aa587041e8866ddc2b8fe27331": {
          "model_module": "@jupyter-widgets/base",
          "model_name": "LayoutModel",
          "state": {
            "_view_name": "LayoutView",
            "grid_template_rows": null,
            "right": null,
            "justify_content": null,
            "_view_module": "@jupyter-widgets/base",
            "overflow": null,
            "_model_module_version": "1.2.0",
            "_view_count": null,
            "flex_flow": null,
            "width": null,
            "min_width": null,
            "border": null,
            "align_items": null,
            "bottom": null,
            "_model_module": "@jupyter-widgets/base",
            "top": null,
            "grid_column": null,
            "overflow_y": null,
            "overflow_x": null,
            "grid_auto_flow": null,
            "grid_area": null,
            "grid_template_columns": null,
            "flex": null,
            "_model_name": "LayoutModel",
            "justify_items": null,
            "grid_row": null,
            "max_height": null,
            "align_content": null,
            "visibility": null,
            "align_self": null,
            "height": null,
            "min_height": null,
            "padding": null,
            "grid_auto_rows": null,
            "grid_gap": null,
            "max_width": null,
            "order": null,
            "_view_module_version": "1.2.0",
            "grid_template_areas": null,
            "object_position": null,
            "object_fit": null,
            "grid_auto_columns": null,
            "margin": null,
            "display": null,
            "left": null
          }
        },
        "5333414d84504765bb54aa45203b1160": {
          "model_module": "@jupyter-widgets/controls",
          "model_name": "DescriptionStyleModel",
          "state": {
            "_view_name": "StyleView",
            "_model_name": "DescriptionStyleModel",
            "description_width": "",
            "_view_module": "@jupyter-widgets/base",
            "_model_module_version": "1.5.0",
            "_view_count": null,
            "_view_module_version": "1.2.0",
            "_model_module": "@jupyter-widgets/controls"
          }
        },
        "95fcbc10e9df418ebe6b71055e6d7bd3": {
          "model_module": "@jupyter-widgets/base",
          "model_name": "LayoutModel",
          "state": {
            "_view_name": "LayoutView",
            "grid_template_rows": null,
            "right": null,
            "justify_content": null,
            "_view_module": "@jupyter-widgets/base",
            "overflow": null,
            "_model_module_version": "1.2.0",
            "_view_count": null,
            "flex_flow": null,
            "width": null,
            "min_width": null,
            "border": null,
            "align_items": null,
            "bottom": null,
            "_model_module": "@jupyter-widgets/base",
            "top": null,
            "grid_column": null,
            "overflow_y": null,
            "overflow_x": null,
            "grid_auto_flow": null,
            "grid_area": null,
            "grid_template_columns": null,
            "flex": null,
            "_model_name": "LayoutModel",
            "justify_items": null,
            "grid_row": null,
            "max_height": null,
            "align_content": null,
            "visibility": null,
            "align_self": null,
            "height": null,
            "min_height": null,
            "padding": null,
            "grid_auto_rows": null,
            "grid_gap": null,
            "max_width": null,
            "order": null,
            "_view_module_version": "1.2.0",
            "grid_template_areas": null,
            "object_position": null,
            "object_fit": null,
            "grid_auto_columns": null,
            "margin": null,
            "display": null,
            "left": null
          }
        }
      }
    }
  },
  "cells": [
    {
      "cell_type": "markdown",
      "metadata": {
        "id": "view-in-github",
        "colab_type": "text"
      },
      "source": [
        "<a href=\"https://colab.research.google.com/github/anandsagarthumati9848/Data-driving-cyber-security-research-using-machine-learning-tactics/blob/main/HIDS_ADFA.ipynb\" target=\"_parent\"><img src=\"https://colab.research.google.com/assets/colab-badge.svg\" alt=\"Open In Colab\"/></a>"
      ]
    },
    {
      "cell_type": "markdown",
      "metadata": {
        "id": "F4SwCY4NVnCL"
      },
      "source": [
        "#**Processing data**"
      ]
    },
    {
      "cell_type": "code",
      "metadata": {
        "id": "dDDU0UkRplxK"
      },
      "source": [
        "import pandas as pd\n",
        "import numpy as np\n",
        "import matplotlib.pyplot as plt\n",
        "from scipy import stats\n",
        "from sklearn.metrics import confusion_matrix, classification_report, roc_auc_score, accuracy_score, roc_curve, auc, recall_score, precision_score,plot_confusion_matrix\n",
        "\n",
        "from sklearn.model_selection import train_test_split\n",
        "%matplotlib inline\n",
        "\n",
        "DATA = 'ADFA-LD'"
      ],
      "execution_count": 30,
      "outputs": []
    },
    {
      "cell_type": "code",
      "metadata": {
        "id": "pLwz1U-8pkEo",
        "colab": {
          "base_uri": "https://localhost:8080/"
        },
        "outputId": "00876d3d-e36d-44c3-e33b-3e6f8188e050"
      },
      "source": [
        "# Load data and unzip them\n",
        "\n",
        "! unzip Training_Data_Master.zip\n",
        "! unzip Attack_Data_Master.zip"
      ],
      "execution_count": 2,
      "outputs": [
        {
          "output_type": "stream",
          "text": [
            "Archive:  Training_Data_Master.zip\n",
            "  inflating: Training_Data_Master/UTD-0001.txt  \n",
            "  inflating: Training_Data_Master/UTD-0002.txt  \n",
            "  inflating: Training_Data_Master/UTD-0003.txt  \n",
            "  inflating: Training_Data_Master/UTD-0004.txt  \n",
            "  inflating: Training_Data_Master/UTD-0005.txt  \n",
            "  inflating: Training_Data_Master/UTD-0006.txt  \n",
            "  inflating: Training_Data_Master/UTD-0007.txt  \n",
            "  inflating: Training_Data_Master/UTD-0008.txt  \n",
            "  inflating: Training_Data_Master/UTD-0009.txt  \n",
            "  inflating: Training_Data_Master/UTD-0010.txt  \n",
            "  inflating: Training_Data_Master/UTD-0011.txt  \n",
            "  inflating: Training_Data_Master/UTD-0012.txt  \n",
            "  inflating: Training_Data_Master/UTD-0013.txt  \n",
            "  inflating: Training_Data_Master/UTD-0014.txt  \n",
            "  inflating: Training_Data_Master/UTD-0015.txt  \n",
            "  inflating: Training_Data_Master/UTD-0016.txt  \n",
            "  inflating: Training_Data_Master/UTD-0017.txt  \n",
            "  inflating: Training_Data_Master/UTD-0018.txt  \n",
            "  inflating: Training_Data_Master/UTD-0019.txt  \n",
            "  inflating: Training_Data_Master/UTD-0020.txt  \n",
            "  inflating: Training_Data_Master/UTD-0021.txt  \n",
            "  inflating: Training_Data_Master/UTD-0022.txt  \n",
            "  inflating: Training_Data_Master/UTD-0023.txt  \n",
            "  inflating: Training_Data_Master/UTD-0024.txt  \n",
            "  inflating: Training_Data_Master/UTD-0025.txt  \n",
            "  inflating: Training_Data_Master/UTD-0026.txt  \n",
            "  inflating: Training_Data_Master/UTD-0027.txt  \n",
            "  inflating: Training_Data_Master/UTD-0028.txt  \n",
            "  inflating: Training_Data_Master/UTD-0029.txt  \n",
            "  inflating: Training_Data_Master/UTD-0030.txt  \n",
            "  inflating: Training_Data_Master/UTD-0031.txt  \n",
            "  inflating: Training_Data_Master/UTD-0032.txt  \n",
            "  inflating: Training_Data_Master/UTD-0033.txt  \n",
            "  inflating: Training_Data_Master/UTD-0034.txt  \n",
            "  inflating: Training_Data_Master/UTD-0035.txt  \n",
            "  inflating: Training_Data_Master/UTD-0036.txt  \n",
            "  inflating: Training_Data_Master/UTD-0037.txt  \n",
            "  inflating: Training_Data_Master/UTD-0038.txt  \n",
            "  inflating: Training_Data_Master/UTD-0039.txt  \n",
            "  inflating: Training_Data_Master/UTD-0040.txt  \n",
            "  inflating: Training_Data_Master/UTD-0041.txt  \n",
            "  inflating: Training_Data_Master/UTD-0042.txt  \n",
            "  inflating: Training_Data_Master/UTD-0043.txt  \n",
            "  inflating: Training_Data_Master/UTD-0044.txt  \n",
            "  inflating: Training_Data_Master/UTD-0045.txt  \n",
            "  inflating: Training_Data_Master/UTD-0046.txt  \n",
            "  inflating: Training_Data_Master/UTD-0047.txt  \n",
            "  inflating: Training_Data_Master/UTD-0048.txt  \n",
            "  inflating: Training_Data_Master/UTD-0049.txt  \n",
            "  inflating: Training_Data_Master/UTD-0050.txt  \n",
            "  inflating: Training_Data_Master/UTD-0051.txt  \n",
            "  inflating: Training_Data_Master/UTD-0052.txt  \n",
            "  inflating: Training_Data_Master/UTD-0053.txt  \n",
            "  inflating: Training_Data_Master/UTD-0054.txt  \n",
            "  inflating: Training_Data_Master/UTD-0055.txt  \n",
            "  inflating: Training_Data_Master/UTD-0056.txt  \n",
            "  inflating: Training_Data_Master/UTD-0057.txt  \n",
            "  inflating: Training_Data_Master/UTD-0058.txt  \n",
            "  inflating: Training_Data_Master/UTD-0059.txt  \n",
            "  inflating: Training_Data_Master/UTD-0060.txt  \n",
            "  inflating: Training_Data_Master/UTD-0061.txt  \n",
            "  inflating: Training_Data_Master/UTD-0062.txt  \n",
            "  inflating: Training_Data_Master/UTD-0063.txt  \n",
            "  inflating: Training_Data_Master/UTD-0064.txt  \n",
            "  inflating: Training_Data_Master/UTD-0065.txt  \n",
            "  inflating: Training_Data_Master/UTD-0066.txt  \n",
            "  inflating: Training_Data_Master/UTD-0067.txt  \n",
            "  inflating: Training_Data_Master/UTD-0068.txt  \n",
            "  inflating: Training_Data_Master/UTD-0069.txt  \n",
            "  inflating: Training_Data_Master/UTD-0070.txt  \n",
            "  inflating: Training_Data_Master/UTD-0071.txt  \n",
            "  inflating: Training_Data_Master/UTD-0072.txt  \n",
            "  inflating: Training_Data_Master/UTD-0073.txt  \n",
            "  inflating: Training_Data_Master/UTD-0074.txt  \n",
            "  inflating: Training_Data_Master/UTD-0075.txt  \n",
            "  inflating: Training_Data_Master/UTD-0076.txt  \n",
            "  inflating: Training_Data_Master/UTD-0077.txt  \n",
            "  inflating: Training_Data_Master/UTD-0078.txt  \n",
            "  inflating: Training_Data_Master/UTD-0079.txt  \n",
            "  inflating: Training_Data_Master/UTD-0080.txt  \n",
            "  inflating: Training_Data_Master/UTD-0081.txt  \n",
            "  inflating: Training_Data_Master/UTD-0082.txt  \n",
            "  inflating: Training_Data_Master/UTD-0083.txt  \n",
            "  inflating: Training_Data_Master/UTD-0084.txt  \n",
            "  inflating: Training_Data_Master/UTD-0085.txt  \n",
            "  inflating: Training_Data_Master/UTD-0086.txt  \n",
            "  inflating: Training_Data_Master/UTD-0087.txt  \n",
            "  inflating: Training_Data_Master/UTD-0088.txt  \n",
            "  inflating: Training_Data_Master/UTD-0089.txt  \n",
            "  inflating: Training_Data_Master/UTD-0090.txt  \n",
            "  inflating: Training_Data_Master/UTD-0091.txt  \n",
            "  inflating: Training_Data_Master/UTD-0092.txt  \n",
            "  inflating: Training_Data_Master/UTD-0093.txt  \n",
            "  inflating: Training_Data_Master/UTD-0094.txt  \n",
            "  inflating: Training_Data_Master/UTD-0095.txt  \n",
            "  inflating: Training_Data_Master/UTD-0096.txt  \n",
            "  inflating: Training_Data_Master/UTD-0097.txt  \n",
            "  inflating: Training_Data_Master/UTD-0098.txt  \n",
            "  inflating: Training_Data_Master/UTD-0099.txt  \n",
            "  inflating: Training_Data_Master/UTD-0100.txt  \n",
            "  inflating: Training_Data_Master/UTD-0101.txt  \n",
            "  inflating: Training_Data_Master/UTD-0102.txt  \n",
            "  inflating: Training_Data_Master/UTD-0103.txt  \n",
            "  inflating: Training_Data_Master/UTD-0104.txt  \n",
            "  inflating: Training_Data_Master/UTD-0105.txt  \n",
            "  inflating: Training_Data_Master/UTD-0106.txt  \n",
            "  inflating: Training_Data_Master/UTD-0107.txt  \n",
            "  inflating: Training_Data_Master/UTD-0108.txt  \n",
            "  inflating: Training_Data_Master/UTD-0109.txt  \n",
            "  inflating: Training_Data_Master/UTD-0110.txt  \n",
            "  inflating: Training_Data_Master/UTD-0111.txt  \n",
            "  inflating: Training_Data_Master/UTD-0112.txt  \n",
            "  inflating: Training_Data_Master/UTD-0113.txt  \n",
            "  inflating: Training_Data_Master/UTD-0114.txt  \n",
            "  inflating: Training_Data_Master/UTD-0115.txt  \n",
            "  inflating: Training_Data_Master/UTD-0116.txt  \n",
            "  inflating: Training_Data_Master/UTD-0117.txt  \n",
            "  inflating: Training_Data_Master/UTD-0118.txt  \n",
            "  inflating: Training_Data_Master/UTD-0119.txt  \n",
            "  inflating: Training_Data_Master/UTD-0120.txt  \n",
            "  inflating: Training_Data_Master/UTD-0121.txt  \n",
            "  inflating: Training_Data_Master/UTD-0122.txt  \n",
            "  inflating: Training_Data_Master/UTD-0123.txt  \n",
            "  inflating: Training_Data_Master/UTD-0124.txt  \n",
            "  inflating: Training_Data_Master/UTD-0125.txt  \n",
            "  inflating: Training_Data_Master/UTD-0126.txt  \n",
            "  inflating: Training_Data_Master/UTD-0127.txt  \n",
            "  inflating: Training_Data_Master/UTD-0128.txt  \n",
            "  inflating: Training_Data_Master/UTD-0129.txt  \n",
            "  inflating: Training_Data_Master/UTD-0130.txt  \n",
            "  inflating: Training_Data_Master/UTD-0131.txt  \n",
            "  inflating: Training_Data_Master/UTD-0132.txt  \n",
            "  inflating: Training_Data_Master/UTD-0133.txt  \n",
            "  inflating: Training_Data_Master/UTD-0134.txt  \n",
            "  inflating: Training_Data_Master/UTD-0135.txt  \n",
            "  inflating: Training_Data_Master/UTD-0136.txt  \n",
            "  inflating: Training_Data_Master/UTD-0137.txt  \n",
            "  inflating: Training_Data_Master/UTD-0138.txt  \n",
            "  inflating: Training_Data_Master/UTD-0139.txt  \n",
            "  inflating: Training_Data_Master/UTD-0140.txt  \n",
            "  inflating: Training_Data_Master/UTD-0141.txt  \n",
            "  inflating: Training_Data_Master/UTD-0142.txt  \n",
            "  inflating: Training_Data_Master/UTD-0143.txt  \n",
            "  inflating: Training_Data_Master/UTD-0144.txt  \n",
            "  inflating: Training_Data_Master/UTD-0145.txt  \n",
            "  inflating: Training_Data_Master/UTD-0146.txt  \n",
            "  inflating: Training_Data_Master/UTD-0147.txt  \n",
            "  inflating: Training_Data_Master/UTD-0148.txt  \n",
            "  inflating: Training_Data_Master/UTD-0149.txt  \n",
            "  inflating: Training_Data_Master/UTD-0150.txt  \n",
            "  inflating: Training_Data_Master/UTD-0151.txt  \n",
            "  inflating: Training_Data_Master/UTD-0152.txt  \n",
            "  inflating: Training_Data_Master/UTD-0153.txt  \n",
            "  inflating: Training_Data_Master/UTD-0154.txt  \n",
            "  inflating: Training_Data_Master/UTD-0155.txt  \n",
            "  inflating: Training_Data_Master/UTD-0156.txt  \n",
            "  inflating: Training_Data_Master/UTD-0157.txt  \n",
            "  inflating: Training_Data_Master/UTD-0158.txt  \n",
            "  inflating: Training_Data_Master/UTD-0159.txt  \n",
            "  inflating: Training_Data_Master/UTD-0160.txt  \n",
            "  inflating: Training_Data_Master/UTD-0161.txt  \n",
            "  inflating: Training_Data_Master/UTD-0162.txt  \n",
            "  inflating: Training_Data_Master/UTD-0163.txt  \n",
            "  inflating: Training_Data_Master/UTD-0164.txt  \n",
            "  inflating: Training_Data_Master/UTD-0165.txt  \n",
            "  inflating: Training_Data_Master/UTD-0166.txt  \n",
            "  inflating: Training_Data_Master/UTD-0167.txt  \n",
            "  inflating: Training_Data_Master/UTD-0168.txt  \n",
            "  inflating: Training_Data_Master/UTD-0169.txt  \n",
            "  inflating: Training_Data_Master/UTD-0170.txt  \n",
            "  inflating: Training_Data_Master/UTD-0171.txt  \n",
            "  inflating: Training_Data_Master/UTD-0172.txt  \n",
            "  inflating: Training_Data_Master/UTD-0173.txt  \n",
            "  inflating: Training_Data_Master/UTD-0174.txt  \n",
            "  inflating: Training_Data_Master/UTD-0175.txt  \n",
            "  inflating: Training_Data_Master/UTD-0176.txt  \n",
            "  inflating: Training_Data_Master/UTD-0177.txt  \n",
            "  inflating: Training_Data_Master/UTD-0178.txt  \n",
            "  inflating: Training_Data_Master/UTD-0179.txt  \n",
            "  inflating: Training_Data_Master/UTD-0180.txt  \n",
            "  inflating: Training_Data_Master/UTD-0181.txt  \n",
            "  inflating: Training_Data_Master/UTD-0182.txt  \n",
            "  inflating: Training_Data_Master/UTD-0183.txt  \n",
            "  inflating: Training_Data_Master/UTD-0184.txt  \n",
            "  inflating: Training_Data_Master/UTD-0185.txt  \n",
            "  inflating: Training_Data_Master/UTD-0186.txt  \n",
            "  inflating: Training_Data_Master/UTD-0187.txt  \n",
            "  inflating: Training_Data_Master/UTD-0188.txt  \n",
            "  inflating: Training_Data_Master/UTD-0189.txt  \n",
            "  inflating: Training_Data_Master/UTD-0190.txt  \n",
            "  inflating: Training_Data_Master/UTD-0191.txt  \n",
            "  inflating: Training_Data_Master/UTD-0192.txt  \n",
            "  inflating: Training_Data_Master/UTD-0193.txt  \n",
            "  inflating: Training_Data_Master/UTD-0194.txt  \n",
            "  inflating: Training_Data_Master/UTD-0195.txt  \n",
            "  inflating: Training_Data_Master/UTD-0196.txt  \n",
            "  inflating: Training_Data_Master/UTD-0197.txt  \n",
            "  inflating: Training_Data_Master/UTD-0198.txt  \n",
            "  inflating: Training_Data_Master/UTD-0199.txt  \n",
            "  inflating: Training_Data_Master/UTD-0200.txt  \n",
            "  inflating: Training_Data_Master/UTD-0201.txt  \n",
            "  inflating: Training_Data_Master/UTD-0202.txt  \n",
            "  inflating: Training_Data_Master/UTD-0203.txt  \n",
            "  inflating: Training_Data_Master/UTD-0204.txt  \n",
            "  inflating: Training_Data_Master/UTD-0205.txt  \n",
            "  inflating: Training_Data_Master/UTD-0206.txt  \n",
            "  inflating: Training_Data_Master/UTD-0207.txt  \n",
            "  inflating: Training_Data_Master/UTD-0208.txt  \n",
            "  inflating: Training_Data_Master/UTD-0209.txt  \n",
            "  inflating: Training_Data_Master/UTD-0210.txt  \n",
            "  inflating: Training_Data_Master/UTD-0211.txt  \n",
            "  inflating: Training_Data_Master/UTD-0212.txt  \n",
            "  inflating: Training_Data_Master/UTD-0213.txt  \n",
            "  inflating: Training_Data_Master/UTD-0214.txt  \n",
            "  inflating: Training_Data_Master/UTD-0215.txt  \n",
            "  inflating: Training_Data_Master/UTD-0216.txt  \n",
            "  inflating: Training_Data_Master/UTD-0217.txt  \n",
            "  inflating: Training_Data_Master/UTD-0218.txt  \n",
            "  inflating: Training_Data_Master/UTD-0219.txt  \n",
            "  inflating: Training_Data_Master/UTD-0220.txt  \n",
            "  inflating: Training_Data_Master/UTD-0221.txt  \n",
            "  inflating: Training_Data_Master/UTD-0222.txt  \n",
            "  inflating: Training_Data_Master/UTD-0223.txt  \n",
            "  inflating: Training_Data_Master/UTD-0224.txt  \n",
            "  inflating: Training_Data_Master/UTD-0225.txt  \n",
            "  inflating: Training_Data_Master/UTD-0226.txt  \n",
            "  inflating: Training_Data_Master/UTD-0227.txt  \n",
            "  inflating: Training_Data_Master/UTD-0228.txt  \n",
            "  inflating: Training_Data_Master/UTD-0229.txt  \n",
            "  inflating: Training_Data_Master/UTD-0230.txt  \n",
            "  inflating: Training_Data_Master/UTD-0231.txt  \n",
            "  inflating: Training_Data_Master/UTD-0232.txt  \n",
            "  inflating: Training_Data_Master/UTD-0233.txt  \n",
            "  inflating: Training_Data_Master/UTD-0234.txt  \n",
            "  inflating: Training_Data_Master/UTD-0235.txt  \n",
            "  inflating: Training_Data_Master/UTD-0236.txt  \n",
            "  inflating: Training_Data_Master/UTD-0237.txt  \n",
            "  inflating: Training_Data_Master/UTD-0238.txt  \n",
            "  inflating: Training_Data_Master/UTD-0239.txt  \n",
            "  inflating: Training_Data_Master/UTD-0240.txt  \n",
            "  inflating: Training_Data_Master/UTD-0241.txt  \n",
            "  inflating: Training_Data_Master/UTD-0242.txt  \n",
            "  inflating: Training_Data_Master/UTD-0243.txt  \n",
            "  inflating: Training_Data_Master/UTD-0244.txt  \n",
            "  inflating: Training_Data_Master/UTD-0245.txt  \n",
            "  inflating: Training_Data_Master/UTD-0246.txt  \n",
            "  inflating: Training_Data_Master/UTD-0247.txt  \n",
            "  inflating: Training_Data_Master/UTD-0248.txt  \n",
            "  inflating: Training_Data_Master/UTD-0249.txt  \n",
            "  inflating: Training_Data_Master/UTD-0250.txt  \n",
            "  inflating: Training_Data_Master/UTD-0251.txt  \n",
            "  inflating: Training_Data_Master/UTD-0252.txt  \n",
            "  inflating: Training_Data_Master/UTD-0253.txt  \n",
            "  inflating: Training_Data_Master/UTD-0254.txt  \n",
            "  inflating: Training_Data_Master/UTD-0255.txt  \n",
            "  inflating: Training_Data_Master/UTD-0256.txt  \n",
            "  inflating: Training_Data_Master/UTD-0257.txt  \n",
            "  inflating: Training_Data_Master/UTD-0258.txt  \n",
            "  inflating: Training_Data_Master/UTD-0259.txt  \n",
            "  inflating: Training_Data_Master/UTD-0260.txt  \n",
            "  inflating: Training_Data_Master/UTD-0261.txt  \n",
            "  inflating: Training_Data_Master/UTD-0262.txt  \n",
            "  inflating: Training_Data_Master/UTD-0263.txt  \n",
            "  inflating: Training_Data_Master/UTD-0264.txt  \n",
            "  inflating: Training_Data_Master/UTD-0265.txt  \n",
            "  inflating: Training_Data_Master/UTD-0266.txt  \n",
            "  inflating: Training_Data_Master/UTD-0267.txt  \n",
            "  inflating: Training_Data_Master/UTD-0268.txt  \n",
            "  inflating: Training_Data_Master/UTD-0269.txt  \n",
            "  inflating: Training_Data_Master/UTD-0270.txt  \n",
            "  inflating: Training_Data_Master/UTD-0271.txt  \n",
            "  inflating: Training_Data_Master/UTD-0272.txt  \n",
            "  inflating: Training_Data_Master/UTD-0273.txt  \n",
            "  inflating: Training_Data_Master/UTD-0274.txt  \n",
            "  inflating: Training_Data_Master/UTD-0275.txt  \n",
            "  inflating: Training_Data_Master/UTD-0276.txt  \n",
            "  inflating: Training_Data_Master/UTD-0277.txt  \n",
            "  inflating: Training_Data_Master/UTD-0278.txt  \n",
            "  inflating: Training_Data_Master/UTD-0279.txt  \n",
            "  inflating: Training_Data_Master/UTD-0280.txt  \n",
            "  inflating: Training_Data_Master/UTD-0281.txt  \n",
            "  inflating: Training_Data_Master/UTD-0282.txt  \n",
            "  inflating: Training_Data_Master/UTD-0283.txt  \n",
            "  inflating: Training_Data_Master/UTD-0284.txt  \n",
            "  inflating: Training_Data_Master/UTD-0285.txt  \n",
            "  inflating: Training_Data_Master/UTD-0286.txt  \n",
            "  inflating: Training_Data_Master/UTD-0287.txt  \n",
            "  inflating: Training_Data_Master/UTD-0288.txt  \n",
            "  inflating: Training_Data_Master/UTD-0289.txt  \n",
            "  inflating: Training_Data_Master/UTD-0290.txt  \n",
            "  inflating: Training_Data_Master/UTD-0291.txt  \n",
            "  inflating: Training_Data_Master/UTD-0292.txt  \n",
            "  inflating: Training_Data_Master/UTD-0293.txt  \n",
            "  inflating: Training_Data_Master/UTD-0294.txt  \n",
            "  inflating: Training_Data_Master/UTD-0295.txt  \n",
            "  inflating: Training_Data_Master/UTD-0296.txt  \n",
            "  inflating: Training_Data_Master/UTD-0297.txt  \n",
            "  inflating: Training_Data_Master/UTD-0298.txt  \n",
            "  inflating: Training_Data_Master/UTD-0299.txt  \n",
            "  inflating: Training_Data_Master/UTD-0300.txt  \n",
            "  inflating: Training_Data_Master/UTD-0301.txt  \n",
            "  inflating: Training_Data_Master/UTD-0302.txt  \n",
            "  inflating: Training_Data_Master/UTD-0303.txt  \n",
            "  inflating: Training_Data_Master/UTD-0304.txt  \n",
            "  inflating: Training_Data_Master/UTD-0305.txt  \n",
            "  inflating: Training_Data_Master/UTD-0306.txt  \n",
            "  inflating: Training_Data_Master/UTD-0307.txt  \n",
            "  inflating: Training_Data_Master/UTD-0308.txt  \n",
            "  inflating: Training_Data_Master/UTD-0309.txt  \n",
            "  inflating: Training_Data_Master/UTD-0310.txt  \n",
            "  inflating: Training_Data_Master/UTD-0311.txt  \n",
            "  inflating: Training_Data_Master/UTD-0312.txt  \n",
            "  inflating: Training_Data_Master/UTD-0313.txt  \n",
            "  inflating: Training_Data_Master/UTD-0314.txt  \n",
            "  inflating: Training_Data_Master/UTD-0315.txt  \n",
            "  inflating: Training_Data_Master/UTD-0316.txt  \n",
            "  inflating: Training_Data_Master/UTD-0317.txt  \n",
            "  inflating: Training_Data_Master/UTD-0318.txt  \n",
            "  inflating: Training_Data_Master/UTD-0319.txt  \n",
            "  inflating: Training_Data_Master/UTD-0320.txt  \n",
            "  inflating: Training_Data_Master/UTD-0321.txt  \n",
            "  inflating: Training_Data_Master/UTD-0322.txt  \n",
            "  inflating: Training_Data_Master/UTD-0323.txt  \n",
            "  inflating: Training_Data_Master/UTD-0324.txt  \n",
            "  inflating: Training_Data_Master/UTD-0325.txt  \n",
            "  inflating: Training_Data_Master/UTD-0326.txt  \n",
            "  inflating: Training_Data_Master/UTD-0327.txt  \n",
            "  inflating: Training_Data_Master/UTD-0328.txt  \n",
            "  inflating: Training_Data_Master/UTD-0329.txt  \n",
            "  inflating: Training_Data_Master/UTD-0330.txt  \n",
            "  inflating: Training_Data_Master/UTD-0331.txt  \n",
            "  inflating: Training_Data_Master/UTD-0332.txt  \n",
            "  inflating: Training_Data_Master/UTD-0333.txt  \n",
            "  inflating: Training_Data_Master/UTD-0334.txt  \n",
            "  inflating: Training_Data_Master/UTD-0335.txt  \n",
            "  inflating: Training_Data_Master/UTD-0336.txt  \n",
            "  inflating: Training_Data_Master/UTD-0337.txt  \n",
            "  inflating: Training_Data_Master/UTD-0338.txt  \n",
            "  inflating: Training_Data_Master/UTD-0339.txt  \n",
            "  inflating: Training_Data_Master/UTD-0340.txt  \n",
            "  inflating: Training_Data_Master/UTD-0341.txt  \n",
            "  inflating: Training_Data_Master/UTD-0342.txt  \n",
            "  inflating: Training_Data_Master/UTD-0343.txt  \n",
            "  inflating: Training_Data_Master/UTD-0344.txt  \n",
            "  inflating: Training_Data_Master/UTD-0345.txt  \n",
            "  inflating: Training_Data_Master/UTD-0346.txt  \n",
            "  inflating: Training_Data_Master/UTD-0347.txt  \n",
            "  inflating: Training_Data_Master/UTD-0348.txt  \n",
            "  inflating: Training_Data_Master/UTD-0349.txt  \n",
            "  inflating: Training_Data_Master/UTD-0350.txt  \n",
            "  inflating: Training_Data_Master/UTD-0351.txt  \n",
            "  inflating: Training_Data_Master/UTD-0352.txt  \n",
            "  inflating: Training_Data_Master/UTD-0353.txt  \n",
            "  inflating: Training_Data_Master/UTD-0354.txt  \n",
            "  inflating: Training_Data_Master/UTD-0355.txt  \n",
            "  inflating: Training_Data_Master/UTD-0356.txt  \n",
            "  inflating: Training_Data_Master/UTD-0357.txt  \n",
            "  inflating: Training_Data_Master/UTD-0358.txt  \n",
            "  inflating: Training_Data_Master/UTD-0359.txt  \n",
            "  inflating: Training_Data_Master/UTD-0360.txt  \n",
            "  inflating: Training_Data_Master/UTD-0361.txt  \n",
            "  inflating: Training_Data_Master/UTD-0362.txt  \n",
            "  inflating: Training_Data_Master/UTD-0363.txt  \n",
            "  inflating: Training_Data_Master/UTD-0364.txt  \n",
            "  inflating: Training_Data_Master/UTD-0365.txt  \n",
            "  inflating: Training_Data_Master/UTD-0366.txt  \n",
            "  inflating: Training_Data_Master/UTD-0367.txt  \n",
            "  inflating: Training_Data_Master/UTD-0368.txt  \n",
            "  inflating: Training_Data_Master/UTD-0369.txt  \n",
            "  inflating: Training_Data_Master/UTD-0370.txt  \n",
            "  inflating: Training_Data_Master/UTD-0371.txt  \n",
            "  inflating: Training_Data_Master/UTD-0372.txt  \n",
            "  inflating: Training_Data_Master/UTD-0373.txt  \n",
            "  inflating: Training_Data_Master/UTD-0374.txt  \n",
            "  inflating: Training_Data_Master/UTD-0375.txt  \n",
            "  inflating: Training_Data_Master/UTD-0376.txt  \n",
            "  inflating: Training_Data_Master/UTD-0377.txt  \n",
            "  inflating: Training_Data_Master/UTD-0378.txt  \n",
            "  inflating: Training_Data_Master/UTD-0379.txt  \n",
            "  inflating: Training_Data_Master/UTD-0380.txt  \n",
            "  inflating: Training_Data_Master/UTD-0381.txt  \n",
            "  inflating: Training_Data_Master/UTD-0382.txt  \n",
            "  inflating: Training_Data_Master/UTD-0383.txt  \n",
            "  inflating: Training_Data_Master/UTD-0384.txt  \n",
            "  inflating: Training_Data_Master/UTD-0385.txt  \n",
            "  inflating: Training_Data_Master/UTD-0386.txt  \n",
            "  inflating: Training_Data_Master/UTD-0387.txt  \n",
            "  inflating: Training_Data_Master/UTD-0388.txt  \n",
            "  inflating: Training_Data_Master/UTD-0389.txt  \n",
            "  inflating: Training_Data_Master/UTD-0390.txt  \n",
            "  inflating: Training_Data_Master/UTD-0391.txt  \n",
            "  inflating: Training_Data_Master/UTD-0392.txt  \n",
            "  inflating: Training_Data_Master/UTD-0393.txt  \n",
            "  inflating: Training_Data_Master/UTD-0394.txt  \n",
            "  inflating: Training_Data_Master/UTD-0395.txt  \n",
            "  inflating: Training_Data_Master/UTD-0396.txt  \n",
            "  inflating: Training_Data_Master/UTD-0397.txt  \n",
            "  inflating: Training_Data_Master/UTD-0398.txt  \n",
            "  inflating: Training_Data_Master/UTD-0399.txt  \n",
            "  inflating: Training_Data_Master/UTD-0400.txt  \n",
            "  inflating: Training_Data_Master/UTD-0401.txt  \n",
            "  inflating: Training_Data_Master/UTD-0402.txt  \n",
            "  inflating: Training_Data_Master/UTD-0403.txt  \n",
            "  inflating: Training_Data_Master/UTD-0404.txt  \n",
            "  inflating: Training_Data_Master/UTD-0405.txt  \n",
            "  inflating: Training_Data_Master/UTD-0406.txt  \n",
            "  inflating: Training_Data_Master/UTD-0407.txt  \n",
            "  inflating: Training_Data_Master/UTD-0408.txt  \n",
            "  inflating: Training_Data_Master/UTD-0409.txt  \n",
            "  inflating: Training_Data_Master/UTD-0410.txt  \n",
            "  inflating: Training_Data_Master/UTD-0411.txt  \n",
            "  inflating: Training_Data_Master/UTD-0412.txt  \n",
            "  inflating: Training_Data_Master/UTD-0413.txt  \n",
            "  inflating: Training_Data_Master/UTD-0414.txt  \n",
            "  inflating: Training_Data_Master/UTD-0415.txt  \n",
            "  inflating: Training_Data_Master/UTD-0416.txt  \n",
            "  inflating: Training_Data_Master/UTD-0417.txt  \n",
            "  inflating: Training_Data_Master/UTD-0418.txt  \n",
            "  inflating: Training_Data_Master/UTD-0419.txt  \n",
            "  inflating: Training_Data_Master/UTD-0420.txt  \n",
            "  inflating: Training_Data_Master/UTD-0421.txt  \n",
            "  inflating: Training_Data_Master/UTD-0422.txt  \n",
            "  inflating: Training_Data_Master/UTD-0423.txt  \n",
            "  inflating: Training_Data_Master/UTD-0424.txt  \n",
            "  inflating: Training_Data_Master/UTD-0425.txt  \n",
            "  inflating: Training_Data_Master/UTD-0426.txt  \n",
            "  inflating: Training_Data_Master/UTD-0427.txt  \n",
            "  inflating: Training_Data_Master/UTD-0428.txt  \n",
            "  inflating: Training_Data_Master/UTD-0429.txt  \n",
            "  inflating: Training_Data_Master/UTD-0430.txt  \n",
            "  inflating: Training_Data_Master/UTD-0431.txt  \n",
            "  inflating: Training_Data_Master/UTD-0432.txt  \n",
            "  inflating: Training_Data_Master/UTD-0433.txt  \n",
            "  inflating: Training_Data_Master/UTD-0434.txt  \n",
            "  inflating: Training_Data_Master/UTD-0435.txt  \n",
            "  inflating: Training_Data_Master/UTD-0436.txt  \n",
            "  inflating: Training_Data_Master/UTD-0437.txt  \n",
            "  inflating: Training_Data_Master/UTD-0438.txt  \n",
            "  inflating: Training_Data_Master/UTD-0439.txt  \n",
            "  inflating: Training_Data_Master/UTD-0440.txt  \n",
            "  inflating: Training_Data_Master/UTD-0441.txt  \n",
            "  inflating: Training_Data_Master/UTD-0442.txt  \n",
            "  inflating: Training_Data_Master/UTD-0443.txt  \n",
            "  inflating: Training_Data_Master/UTD-0444.txt  \n",
            "  inflating: Training_Data_Master/UTD-0445.txt  \n",
            "  inflating: Training_Data_Master/UTD-0446.txt  \n",
            "  inflating: Training_Data_Master/UTD-0447.txt  \n",
            "  inflating: Training_Data_Master/UTD-0448.txt  \n",
            "  inflating: Training_Data_Master/UTD-0449.txt  \n",
            "  inflating: Training_Data_Master/UTD-0450.txt  \n",
            "  inflating: Training_Data_Master/UTD-0451.txt  \n",
            "  inflating: Training_Data_Master/UTD-0452.txt  \n",
            "  inflating: Training_Data_Master/UTD-0453.txt  \n",
            "  inflating: Training_Data_Master/UTD-0454.txt  \n",
            "  inflating: Training_Data_Master/UTD-0455.txt  \n",
            "  inflating: Training_Data_Master/UTD-0456.txt  \n",
            "  inflating: Training_Data_Master/UTD-0457.txt  \n",
            "  inflating: Training_Data_Master/UTD-0458.txt  \n",
            "  inflating: Training_Data_Master/UTD-0459.txt  \n",
            "  inflating: Training_Data_Master/UTD-0460.txt  \n",
            "  inflating: Training_Data_Master/UTD-0461.txt  \n",
            "  inflating: Training_Data_Master/UTD-0462.txt  \n",
            "  inflating: Training_Data_Master/UTD-0463.txt  \n",
            "  inflating: Training_Data_Master/UTD-0464.txt  \n",
            "  inflating: Training_Data_Master/UTD-0465.txt  \n",
            "  inflating: Training_Data_Master/UTD-0466.txt  \n",
            "  inflating: Training_Data_Master/UTD-0467.txt  \n",
            "  inflating: Training_Data_Master/UTD-0468.txt  \n",
            "  inflating: Training_Data_Master/UTD-0469.txt  \n",
            "  inflating: Training_Data_Master/UTD-0470.txt  \n",
            "  inflating: Training_Data_Master/UTD-0471.txt  \n",
            "  inflating: Training_Data_Master/UTD-0472.txt  \n",
            "  inflating: Training_Data_Master/UTD-0473.txt  \n",
            "  inflating: Training_Data_Master/UTD-0474.txt  \n",
            "  inflating: Training_Data_Master/UTD-0475.txt  \n",
            "  inflating: Training_Data_Master/UTD-0476.txt  \n",
            "  inflating: Training_Data_Master/UTD-0477.txt  \n",
            "  inflating: Training_Data_Master/UTD-0478.txt  \n",
            "  inflating: Training_Data_Master/UTD-0479.txt  \n",
            "  inflating: Training_Data_Master/UTD-0480.txt  \n",
            "  inflating: Training_Data_Master/UTD-0481.txt  \n",
            "  inflating: Training_Data_Master/UTD-0482.txt  \n",
            "  inflating: Training_Data_Master/UTD-0483.txt  \n",
            "  inflating: Training_Data_Master/UTD-0484.txt  \n",
            "  inflating: Training_Data_Master/UTD-0485.txt  \n",
            "  inflating: Training_Data_Master/UTD-0486.txt  \n",
            "  inflating: Training_Data_Master/UTD-0487.txt  \n",
            "  inflating: Training_Data_Master/UTD-0488.txt  \n",
            "  inflating: Training_Data_Master/UTD-0489.txt  \n",
            "  inflating: Training_Data_Master/UTD-0490.txt  \n",
            "  inflating: Training_Data_Master/UTD-0491.txt  \n",
            "  inflating: Training_Data_Master/UTD-0492.txt  \n",
            "  inflating: Training_Data_Master/UTD-0493.txt  \n",
            "  inflating: Training_Data_Master/UTD-0494.txt  \n",
            "  inflating: Training_Data_Master/UTD-0495.txt  \n",
            "  inflating: Training_Data_Master/UTD-0496.txt  \n",
            "  inflating: Training_Data_Master/UTD-0497.txt  \n",
            "  inflating: Training_Data_Master/UTD-0498.txt  \n",
            "  inflating: Training_Data_Master/UTD-0499.txt  \n",
            "  inflating: Training_Data_Master/UTD-0500.txt  \n",
            "  inflating: Training_Data_Master/UTD-0501.txt  \n",
            "  inflating: Training_Data_Master/UTD-0502.txt  \n",
            "  inflating: Training_Data_Master/UTD-0503.txt  \n",
            "  inflating: Training_Data_Master/UTD-0504.txt  \n",
            "  inflating: Training_Data_Master/UTD-0505.txt  \n",
            "  inflating: Training_Data_Master/UTD-0506.txt  \n",
            "  inflating: Training_Data_Master/UTD-0507.txt  \n",
            "  inflating: Training_Data_Master/UTD-0508.txt  \n",
            "  inflating: Training_Data_Master/UTD-0509.txt  \n",
            "  inflating: Training_Data_Master/UTD-0510.txt  \n",
            "  inflating: Training_Data_Master/UTD-0511.txt  \n",
            "  inflating: Training_Data_Master/UTD-0512.txt  \n",
            "  inflating: Training_Data_Master/UTD-0513.txt  \n",
            "  inflating: Training_Data_Master/UTD-0514.txt  \n",
            "  inflating: Training_Data_Master/UTD-0515.txt  \n",
            "  inflating: Training_Data_Master/UTD-0516.txt  \n",
            "  inflating: Training_Data_Master/UTD-0517.txt  \n",
            "  inflating: Training_Data_Master/UTD-0518.txt  \n",
            "  inflating: Training_Data_Master/UTD-0519.txt  \n",
            "  inflating: Training_Data_Master/UTD-0520.txt  \n",
            "  inflating: Training_Data_Master/UTD-0521.txt  \n",
            "  inflating: Training_Data_Master/UTD-0522.txt  \n",
            "  inflating: Training_Data_Master/UTD-0523.txt  \n",
            "  inflating: Training_Data_Master/UTD-0524.txt  \n",
            "  inflating: Training_Data_Master/UTD-0525.txt  \n",
            "  inflating: Training_Data_Master/UTD-0526.txt  \n",
            "  inflating: Training_Data_Master/UTD-0527.txt  \n",
            "  inflating: Training_Data_Master/UTD-0528.txt  \n",
            "  inflating: Training_Data_Master/UTD-0529.txt  \n",
            "  inflating: Training_Data_Master/UTD-0530.txt  \n",
            "  inflating: Training_Data_Master/UTD-0531.txt  \n",
            "  inflating: Training_Data_Master/UTD-0532.txt  \n",
            "  inflating: Training_Data_Master/UTD-0533.txt  \n",
            "  inflating: Training_Data_Master/UTD-0534.txt  \n",
            "  inflating: Training_Data_Master/UTD-0535.txt  \n",
            "  inflating: Training_Data_Master/UTD-0536.txt  \n",
            "  inflating: Training_Data_Master/UTD-0537.txt  \n",
            "  inflating: Training_Data_Master/UTD-0538.txt  \n",
            "  inflating: Training_Data_Master/UTD-0539.txt  \n",
            "  inflating: Training_Data_Master/UTD-0540.txt  \n",
            "  inflating: Training_Data_Master/UTD-0541.txt  \n",
            "  inflating: Training_Data_Master/UTD-0542.txt  \n",
            "  inflating: Training_Data_Master/UTD-0543.txt  \n",
            "  inflating: Training_Data_Master/UTD-0544.txt  \n",
            "  inflating: Training_Data_Master/UTD-0545.txt  \n",
            "  inflating: Training_Data_Master/UTD-0546.txt  \n",
            "  inflating: Training_Data_Master/UTD-0547.txt  \n",
            "  inflating: Training_Data_Master/UTD-0548.txt  \n",
            "  inflating: Training_Data_Master/UTD-0549.txt  \n",
            "  inflating: Training_Data_Master/UTD-0550.txt  \n",
            "  inflating: Training_Data_Master/UTD-0551.txt  \n",
            "  inflating: Training_Data_Master/UTD-0552.txt  \n",
            "  inflating: Training_Data_Master/UTD-0553.txt  \n",
            "  inflating: Training_Data_Master/UTD-0554.txt  \n",
            "  inflating: Training_Data_Master/UTD-0555.txt  \n",
            "  inflating: Training_Data_Master/UTD-0556.txt  \n",
            "  inflating: Training_Data_Master/UTD-0557.txt  \n",
            "  inflating: Training_Data_Master/UTD-0558.txt  \n",
            "  inflating: Training_Data_Master/UTD-0559.txt  \n",
            "  inflating: Training_Data_Master/UTD-0560.txt  \n",
            "  inflating: Training_Data_Master/UTD-0561.txt  \n",
            "  inflating: Training_Data_Master/UTD-0562.txt  \n",
            "  inflating: Training_Data_Master/UTD-0563.txt  \n",
            "  inflating: Training_Data_Master/UTD-0564.txt  \n",
            "  inflating: Training_Data_Master/UTD-0565.txt  \n",
            "  inflating: Training_Data_Master/UTD-0566.txt  \n",
            "  inflating: Training_Data_Master/UTD-0567.txt  \n",
            "  inflating: Training_Data_Master/UTD-0568.txt  \n",
            "  inflating: Training_Data_Master/UTD-0569.txt  \n",
            "  inflating: Training_Data_Master/UTD-0570.txt  \n",
            "  inflating: Training_Data_Master/UTD-0571.txt  \n",
            "  inflating: Training_Data_Master/UTD-0572.txt  \n",
            "  inflating: Training_Data_Master/UTD-0573.txt  \n",
            "  inflating: Training_Data_Master/UTD-0574.txt  \n",
            "  inflating: Training_Data_Master/UTD-0575.txt  \n",
            "  inflating: Training_Data_Master/UTD-0576.txt  \n",
            "  inflating: Training_Data_Master/UTD-0577.txt  \n",
            "  inflating: Training_Data_Master/UTD-0578.txt  \n",
            "  inflating: Training_Data_Master/UTD-0579.txt  \n",
            "  inflating: Training_Data_Master/UTD-0580.txt  \n",
            "  inflating: Training_Data_Master/UTD-0581.txt  \n",
            "  inflating: Training_Data_Master/UTD-0582.txt  \n",
            "  inflating: Training_Data_Master/UTD-0583.txt  \n",
            "  inflating: Training_Data_Master/UTD-0584.txt  \n",
            "  inflating: Training_Data_Master/UTD-0585.txt  \n",
            "  inflating: Training_Data_Master/UTD-0586.txt  \n",
            "  inflating: Training_Data_Master/UTD-0587.txt  \n",
            "  inflating: Training_Data_Master/UTD-0588.txt  \n",
            "  inflating: Training_Data_Master/UTD-0589.txt  \n",
            "  inflating: Training_Data_Master/UTD-0590.txt  \n",
            "  inflating: Training_Data_Master/UTD-0591.txt  \n",
            "  inflating: Training_Data_Master/UTD-0592.txt  \n",
            "  inflating: Training_Data_Master/UTD-0593.txt  \n",
            "  inflating: Training_Data_Master/UTD-0594.txt  \n",
            "  inflating: Training_Data_Master/UTD-0595.txt  \n",
            "  inflating: Training_Data_Master/UTD-0596.txt  \n",
            "  inflating: Training_Data_Master/UTD-0597.txt  \n",
            "  inflating: Training_Data_Master/UTD-0598.txt  \n",
            "  inflating: Training_Data_Master/UTD-0599.txt  \n",
            "  inflating: Training_Data_Master/UTD-0600.txt  \n",
            "  inflating: Training_Data_Master/UTD-0601.txt  \n",
            "  inflating: Training_Data_Master/UTD-0602.txt  \n",
            "  inflating: Training_Data_Master/UTD-0603.txt  \n",
            "  inflating: Training_Data_Master/UTD-0604.txt  \n",
            "  inflating: Training_Data_Master/UTD-0605.txt  \n",
            "  inflating: Training_Data_Master/UTD-0606.txt  \n",
            "  inflating: Training_Data_Master/UTD-0607.txt  \n",
            "  inflating: Training_Data_Master/UTD-0608.txt  \n",
            "  inflating: Training_Data_Master/UTD-0609.txt  \n",
            "  inflating: Training_Data_Master/UTD-0610.txt  \n",
            "  inflating: Training_Data_Master/UTD-0611.txt  \n",
            "  inflating: Training_Data_Master/UTD-0612.txt  \n",
            "  inflating: Training_Data_Master/UTD-0613.txt  \n",
            "  inflating: Training_Data_Master/UTD-0614.txt  \n",
            "  inflating: Training_Data_Master/UTD-0615.txt  \n",
            "  inflating: Training_Data_Master/UTD-0616.txt  \n",
            "  inflating: Training_Data_Master/UTD-0617.txt  \n",
            "  inflating: Training_Data_Master/UTD-0618.txt  \n",
            "  inflating: Training_Data_Master/UTD-0619.txt  \n",
            "  inflating: Training_Data_Master/UTD-0620.txt  \n",
            "  inflating: Training_Data_Master/UTD-0621.txt  \n",
            "  inflating: Training_Data_Master/UTD-0622.txt  \n",
            "  inflating: Training_Data_Master/UTD-0623.txt  \n",
            "  inflating: Training_Data_Master/UTD-0624.txt  \n",
            "  inflating: Training_Data_Master/UTD-0625.txt  \n",
            "  inflating: Training_Data_Master/UTD-0626.txt  \n",
            "  inflating: Training_Data_Master/UTD-0627.txt  \n",
            "  inflating: Training_Data_Master/UTD-0628.txt  \n",
            "  inflating: Training_Data_Master/UTD-0629.txt  \n",
            "  inflating: Training_Data_Master/UTD-0630.txt  \n",
            "  inflating: Training_Data_Master/UTD-0631.txt  \n",
            "  inflating: Training_Data_Master/UTD-0632.txt  \n",
            "  inflating: Training_Data_Master/UTD-0633.txt  \n",
            "  inflating: Training_Data_Master/UTD-0634.txt  \n",
            "  inflating: Training_Data_Master/UTD-0635.txt  \n",
            "  inflating: Training_Data_Master/UTD-0636.txt  \n",
            "  inflating: Training_Data_Master/UTD-0637.txt  \n",
            "  inflating: Training_Data_Master/UTD-0638.txt  \n",
            "  inflating: Training_Data_Master/UTD-0639.txt  \n",
            "  inflating: Training_Data_Master/UTD-0640.txt  \n",
            "  inflating: Training_Data_Master/UTD-0641.txt  \n",
            "  inflating: Training_Data_Master/UTD-0642.txt  \n",
            "  inflating: Training_Data_Master/UTD-0643.txt  \n",
            "  inflating: Training_Data_Master/UTD-0644.txt  \n",
            "  inflating: Training_Data_Master/UTD-0645.txt  \n",
            "  inflating: Training_Data_Master/UTD-0646.txt  \n",
            "  inflating: Training_Data_Master/UTD-0647.txt  \n",
            "  inflating: Training_Data_Master/UTD-0648.txt  \n",
            "  inflating: Training_Data_Master/UTD-0649.txt  \n",
            "  inflating: Training_Data_Master/UTD-0650.txt  \n",
            "  inflating: Training_Data_Master/UTD-0651.txt  \n",
            "  inflating: Training_Data_Master/UTD-0652.txt  \n",
            "  inflating: Training_Data_Master/UTD-0653.txt  \n",
            "  inflating: Training_Data_Master/UTD-0654.txt  \n",
            "  inflating: Training_Data_Master/UTD-0655.txt  \n",
            "  inflating: Training_Data_Master/UTD-0656.txt  \n",
            "  inflating: Training_Data_Master/UTD-0657.txt  \n",
            "  inflating: Training_Data_Master/UTD-0658.txt  \n",
            "  inflating: Training_Data_Master/UTD-0659.txt  \n",
            "  inflating: Training_Data_Master/UTD-0660.txt  \n",
            "  inflating: Training_Data_Master/UTD-0661.txt  \n",
            "  inflating: Training_Data_Master/UTD-0662.txt  \n",
            "  inflating: Training_Data_Master/UTD-0663.txt  \n",
            "  inflating: Training_Data_Master/UTD-0664.txt  \n",
            "  inflating: Training_Data_Master/UTD-0665.txt  \n",
            "  inflating: Training_Data_Master/UTD-0666.txt  \n",
            "  inflating: Training_Data_Master/UTD-0667.txt  \n",
            "  inflating: Training_Data_Master/UTD-0668.txt  \n",
            "  inflating: Training_Data_Master/UTD-0669.txt  \n",
            "  inflating: Training_Data_Master/UTD-0670.txt  \n",
            "  inflating: Training_Data_Master/UTD-0671.txt  \n",
            "  inflating: Training_Data_Master/UTD-0672.txt  \n",
            "  inflating: Training_Data_Master/UTD-0673.txt  \n",
            "  inflating: Training_Data_Master/UTD-0674.txt  \n",
            "  inflating: Training_Data_Master/UTD-0675.txt  \n",
            "  inflating: Training_Data_Master/UTD-0676.txt  \n",
            "  inflating: Training_Data_Master/UTD-0677.txt  \n",
            "  inflating: Training_Data_Master/UTD-0678.txt  \n",
            "  inflating: Training_Data_Master/UTD-0679.txt  \n",
            "  inflating: Training_Data_Master/UTD-0680.txt  \n",
            "  inflating: Training_Data_Master/UTD-0681.txt  \n",
            "  inflating: Training_Data_Master/UTD-0682.txt  \n",
            "  inflating: Training_Data_Master/UTD-0683.txt  \n",
            "  inflating: Training_Data_Master/UTD-0684.txt  \n",
            "  inflating: Training_Data_Master/UTD-0685.txt  \n",
            "  inflating: Training_Data_Master/UTD-0686.txt  \n",
            "  inflating: Training_Data_Master/UTD-0687.txt  \n",
            "  inflating: Training_Data_Master/UTD-0688.txt  \n",
            "  inflating: Training_Data_Master/UTD-0689.txt  \n",
            "  inflating: Training_Data_Master/UTD-0690.txt  \n",
            "  inflating: Training_Data_Master/UTD-0691.txt  \n",
            "  inflating: Training_Data_Master/UTD-0692.txt  \n",
            "  inflating: Training_Data_Master/UTD-0693.txt  \n",
            "  inflating: Training_Data_Master/UTD-0694.txt  \n",
            "  inflating: Training_Data_Master/UTD-0695.txt  \n",
            "  inflating: Training_Data_Master/UTD-0696.txt  \n",
            "  inflating: Training_Data_Master/UTD-0697.txt  \n",
            "  inflating: Training_Data_Master/UTD-0698.txt  \n",
            "  inflating: Training_Data_Master/UTD-0699.txt  \n",
            "  inflating: Training_Data_Master/UTD-0700.txt  \n",
            "  inflating: Training_Data_Master/UTD-0701.txt  \n",
            "  inflating: Training_Data_Master/UTD-0702.txt  \n",
            "  inflating: Training_Data_Master/UTD-0703.txt  \n",
            "  inflating: Training_Data_Master/UTD-0704.txt  \n",
            "  inflating: Training_Data_Master/UTD-0705.txt  \n",
            "  inflating: Training_Data_Master/UTD-0706.txt  \n",
            "  inflating: Training_Data_Master/UTD-0707.txt  \n",
            "  inflating: Training_Data_Master/UTD-0708.txt  \n",
            "  inflating: Training_Data_Master/UTD-0709.txt  \n",
            "  inflating: Training_Data_Master/UTD-0710.txt  \n",
            "  inflating: Training_Data_Master/UTD-0711.txt  \n",
            "  inflating: Training_Data_Master/UTD-0712.txt  \n",
            "  inflating: Training_Data_Master/UTD-0713.txt  \n",
            "  inflating: Training_Data_Master/UTD-0714.txt  \n",
            "  inflating: Training_Data_Master/UTD-0715.txt  \n",
            "  inflating: Training_Data_Master/UTD-0716.txt  \n",
            "  inflating: Training_Data_Master/UTD-0717.txt  \n",
            "  inflating: Training_Data_Master/UTD-0718.txt  \n",
            "  inflating: Training_Data_Master/UTD-0719.txt  \n",
            "  inflating: Training_Data_Master/UTD-0720.txt  \n",
            "  inflating: Training_Data_Master/UTD-0721.txt  \n",
            "  inflating: Training_Data_Master/UTD-0722.txt  \n",
            "  inflating: Training_Data_Master/UTD-0723.txt  \n",
            "  inflating: Training_Data_Master/UTD-0724.txt  \n",
            "  inflating: Training_Data_Master/UTD-0725.txt  \n",
            "  inflating: Training_Data_Master/UTD-0726.txt  \n",
            "  inflating: Training_Data_Master/UTD-0727.txt  \n",
            "  inflating: Training_Data_Master/UTD-0728.txt  \n",
            "  inflating: Training_Data_Master/UTD-0729.txt  \n",
            "  inflating: Training_Data_Master/UTD-0730.txt  \n",
            "  inflating: Training_Data_Master/UTD-0731.txt  \n",
            "  inflating: Training_Data_Master/UTD-0732.txt  \n",
            "  inflating: Training_Data_Master/UTD-0733.txt  \n",
            "  inflating: Training_Data_Master/UTD-0734.txt  \n",
            "  inflating: Training_Data_Master/UTD-0735.txt  \n",
            "  inflating: Training_Data_Master/UTD-0736.txt  \n",
            "  inflating: Training_Data_Master/UTD-0737.txt  \n",
            "  inflating: Training_Data_Master/UTD-0738.txt  \n",
            "  inflating: Training_Data_Master/UTD-0739.txt  \n",
            "  inflating: Training_Data_Master/UTD-0740.txt  \n",
            "  inflating: Training_Data_Master/UTD-0741.txt  \n",
            "  inflating: Training_Data_Master/UTD-0742.txt  \n",
            "  inflating: Training_Data_Master/UTD-0743.txt  \n",
            "  inflating: Training_Data_Master/UTD-0744.txt  \n",
            "  inflating: Training_Data_Master/UTD-0745.txt  \n",
            "  inflating: Training_Data_Master/UTD-0746.txt  \n",
            "  inflating: Training_Data_Master/UTD-0747.txt  \n",
            "  inflating: Training_Data_Master/UTD-0748.txt  \n",
            "  inflating: Training_Data_Master/UTD-0749.txt  \n",
            "  inflating: Training_Data_Master/UTD-0750.txt  \n",
            "  inflating: Training_Data_Master/UTD-0751.txt  \n",
            "  inflating: Training_Data_Master/UTD-0752.txt  \n",
            "  inflating: Training_Data_Master/UTD-0753.txt  \n",
            "  inflating: Training_Data_Master/UTD-0754.txt  \n",
            "  inflating: Training_Data_Master/UTD-0755.txt  \n",
            "  inflating: Training_Data_Master/UTD-0756.txt  \n",
            "  inflating: Training_Data_Master/UTD-0757.txt  \n",
            "  inflating: Training_Data_Master/UTD-0758.txt  \n",
            "  inflating: Training_Data_Master/UTD-0759.txt  \n",
            "  inflating: Training_Data_Master/UTD-0760.txt  \n",
            "  inflating: Training_Data_Master/UTD-0761.txt  \n",
            "  inflating: Training_Data_Master/UTD-0762.txt  \n",
            "  inflating: Training_Data_Master/UTD-0763.txt  \n",
            "  inflating: Training_Data_Master/UTD-0764.txt  \n",
            "  inflating: Training_Data_Master/UTD-0765.txt  \n",
            "  inflating: Training_Data_Master/UTD-0766.txt  \n",
            "  inflating: Training_Data_Master/UTD-0767.txt  \n",
            "  inflating: Training_Data_Master/UTD-0768.txt  \n",
            "  inflating: Training_Data_Master/UTD-0769.txt  \n",
            "  inflating: Training_Data_Master/UTD-0770.txt  \n",
            "  inflating: Training_Data_Master/UTD-0771.txt  \n",
            "  inflating: Training_Data_Master/UTD-0772.txt  \n",
            "  inflating: Training_Data_Master/UTD-0773.txt  \n",
            "  inflating: Training_Data_Master/UTD-0774.txt  \n",
            "  inflating: Training_Data_Master/UTD-0775.txt  \n",
            "  inflating: Training_Data_Master/UTD-0776.txt  \n",
            "  inflating: Training_Data_Master/UTD-0777.txt  \n",
            "  inflating: Training_Data_Master/UTD-0778.txt  \n",
            "  inflating: Training_Data_Master/UTD-0779.txt  \n",
            "  inflating: Training_Data_Master/UTD-0780.txt  \n",
            "  inflating: Training_Data_Master/UTD-0781.txt  \n",
            "  inflating: Training_Data_Master/UTD-0782.txt  \n",
            "  inflating: Training_Data_Master/UTD-0783.txt  \n",
            "  inflating: Training_Data_Master/UTD-0784.txt  \n",
            "  inflating: Training_Data_Master/UTD-0785.txt  \n",
            "  inflating: Training_Data_Master/UTD-0786.txt  \n",
            "  inflating: Training_Data_Master/UTD-0787.txt  \n",
            "  inflating: Training_Data_Master/UTD-0788.txt  \n",
            "  inflating: Training_Data_Master/UTD-0789.txt  \n",
            "  inflating: Training_Data_Master/UTD-0790.txt  \n",
            "  inflating: Training_Data_Master/UTD-0791.txt  \n",
            "  inflating: Training_Data_Master/UTD-0792.txt  \n",
            "  inflating: Training_Data_Master/UTD-0793.txt  \n",
            "  inflating: Training_Data_Master/UTD-0794.txt  \n",
            "  inflating: Training_Data_Master/UTD-0795.txt  \n",
            "  inflating: Training_Data_Master/UTD-0796.txt  \n",
            "  inflating: Training_Data_Master/UTD-0797.txt  \n",
            "  inflating: Training_Data_Master/UTD-0798.txt  \n",
            "  inflating: Training_Data_Master/UTD-0799.txt  \n",
            "  inflating: Training_Data_Master/UTD-0800.txt  \n",
            "  inflating: Training_Data_Master/UTD-0801.txt  \n",
            "  inflating: Training_Data_Master/UTD-0802.txt  \n",
            "  inflating: Training_Data_Master/UTD-0803.txt  \n",
            "  inflating: Training_Data_Master/UTD-0804.txt  \n",
            "  inflating: Training_Data_Master/UTD-0805.txt  \n",
            "  inflating: Training_Data_Master/UTD-0806.txt  \n",
            "  inflating: Training_Data_Master/UTD-0807.txt  \n",
            "  inflating: Training_Data_Master/UTD-0808.txt  \n",
            "  inflating: Training_Data_Master/UTD-0809.txt  \n",
            "  inflating: Training_Data_Master/UTD-0810.txt  \n",
            "  inflating: Training_Data_Master/UTD-0811.txt  \n",
            "  inflating: Training_Data_Master/UTD-0812.txt  \n",
            "  inflating: Training_Data_Master/UTD-0813.txt  \n",
            "  inflating: Training_Data_Master/UTD-0814.txt  \n",
            "  inflating: Training_Data_Master/UTD-0815.txt  \n",
            "  inflating: Training_Data_Master/UTD-0816.txt  \n",
            "  inflating: Training_Data_Master/UTD-0817.txt  \n",
            "  inflating: Training_Data_Master/UTD-0818.txt  \n",
            "  inflating: Training_Data_Master/UTD-0819.txt  \n",
            "  inflating: Training_Data_Master/UTD-0820.txt  \n",
            "  inflating: Training_Data_Master/UTD-0821.txt  \n",
            "  inflating: Training_Data_Master/UTD-0822.txt  \n",
            "  inflating: Training_Data_Master/UTD-0823.txt  \n",
            "  inflating: Training_Data_Master/UTD-0824.txt  \n",
            "  inflating: Training_Data_Master/UTD-0825.txt  \n",
            "  inflating: Training_Data_Master/UTD-0826.txt  \n",
            "  inflating: Training_Data_Master/UTD-0827.txt  \n",
            "  inflating: Training_Data_Master/UTD-0828.txt  \n",
            "  inflating: Training_Data_Master/UTD-0829.txt  \n",
            "  inflating: Training_Data_Master/UTD-0830.txt  \n",
            "  inflating: Training_Data_Master/UTD-0831.txt  \n",
            "  inflating: Training_Data_Master/UTD-0832.txt  \n",
            "  inflating: Training_Data_Master/UTD-0833.txt  \n",
            "Archive:  Attack_Data_Master.zip\n",
            "   creating: Attack_Data_Master/Adduser_1/\n",
            "  inflating: Attack_Data_Master/Adduser_1/UAD-Adduser-1-=1.txt  \n",
            "  inflating: Attack_Data_Master/Adduser_1/UAD-Adduser-1-1371.txt  \n",
            "  inflating: Attack_Data_Master/Adduser_1/UAD-Adduser-1-1613.txt  \n",
            "  inflating: Attack_Data_Master/Adduser_1/UAD-Adduser-1-2311.txt  \n",
            "  inflating: Attack_Data_Master/Adduser_1/UAD-Adduser-1-2377.txt  \n",
            "  inflating: Attack_Data_Master/Adduser_1/UAD-Adduser-1-2462.txt  \n",
            "  inflating: Attack_Data_Master/Adduser_1/UAD-Adduser-1-2783.txt  \n",
            "   creating: Attack_Data_Master/Adduser_10/\n",
            "  inflating: Attack_Data_Master/Adduser_10/UAD-Adduser-10-=1.txt  \n",
            "  inflating: Attack_Data_Master/Adduser_10/UAD-Adduser-10-1371.txt  \n",
            "  inflating: Attack_Data_Master/Adduser_10/UAD-Adduser-10-1613.txt  \n",
            "  inflating: Attack_Data_Master/Adduser_10/UAD-Adduser-10-2311.txt  \n",
            "  inflating: Attack_Data_Master/Adduser_10/UAD-Adduser-10-2462.txt  \n",
            "  inflating: Attack_Data_Master/Adduser_10/UAD-Adduser-10-2783.txt  \n",
            "   creating: Attack_Data_Master/Adduser_2/\n",
            "  inflating: Attack_Data_Master/Adduser_2/UAD-Adduser-2-=1.txt  \n",
            "  inflating: Attack_Data_Master/Adduser_2/UAD-Adduser-2-1371.txt  \n",
            "  inflating: Attack_Data_Master/Adduser_2/UAD-Adduser-2-1613.txt  \n",
            "  inflating: Attack_Data_Master/Adduser_2/UAD-Adduser-2-18548.txt  \n",
            "  inflating: Attack_Data_Master/Adduser_2/UAD-Adduser-2-2311.txt  \n",
            "  inflating: Attack_Data_Master/Adduser_2/UAD-Adduser-2-2377.txt  \n",
            "  inflating: Attack_Data_Master/Adduser_2/UAD-Adduser-2-2462.txt  \n",
            "  inflating: Attack_Data_Master/Adduser_2/UAD-Adduser-2-2783.txt  \n",
            "   creating: Attack_Data_Master/Adduser_3/\n",
            "  inflating: Attack_Data_Master/Adduser_3/UAD-Adduser-3-=1.txt  \n",
            "  inflating: Attack_Data_Master/Adduser_3/UAD-Adduser-3-1371.txt  \n",
            "  inflating: Attack_Data_Master/Adduser_3/UAD-Adduser-3-1613.txt  \n",
            "  inflating: Attack_Data_Master/Adduser_3/UAD-Adduser-3-18618.txt  \n",
            "  inflating: Attack_Data_Master/Adduser_3/UAD-Adduser-3-2311.txt  \n",
            "  inflating: Attack_Data_Master/Adduser_3/UAD-Adduser-3-2377.txt  \n",
            "  inflating: Attack_Data_Master/Adduser_3/UAD-Adduser-3-2462.txt  \n",
            "  inflating: Attack_Data_Master/Adduser_3/UAD-Adduser-3-2783.txt  \n",
            "   creating: Attack_Data_Master/Adduser_4/\n",
            "  inflating: Attack_Data_Master/Adduser_4/UAD-Adduser-4-=1.txt  \n",
            "  inflating: Attack_Data_Master/Adduser_4/UAD-Adduser-4-1371.txt  \n",
            "  inflating: Attack_Data_Master/Adduser_4/UAD-Adduser-4-1613.txt  \n",
            "  inflating: Attack_Data_Master/Adduser_4/UAD-Adduser-4-2311.txt  \n",
            "  inflating: Attack_Data_Master/Adduser_4/UAD-Adduser-4-2377.txt  \n",
            "  inflating: Attack_Data_Master/Adduser_4/UAD-Adduser-4-2462.txt  \n",
            "  inflating: Attack_Data_Master/Adduser_4/UAD-Adduser-4-2783.txt  \n",
            "   creating: Attack_Data_Master/Adduser_5/\n",
            "  inflating: Attack_Data_Master/Adduser_5/UAD-Adduser-5-=1.txt  \n",
            "  inflating: Attack_Data_Master/Adduser_5/UAD-Adduser-5-=5738.txt  \n",
            "  inflating: Attack_Data_Master/Adduser_5/UAD-Adduser-5-1371.txt  \n",
            "  inflating: Attack_Data_Master/Adduser_5/UAD-Adduser-5-1613.txt  \n",
            "  inflating: Attack_Data_Master/Adduser_5/UAD-Adduser-5-18714.txt  \n",
            "  inflating: Attack_Data_Master/Adduser_5/UAD-Adduser-5-2311.txt  \n",
            "  inflating: Attack_Data_Master/Adduser_5/UAD-Adduser-5-2377.txt  \n",
            "  inflating: Attack_Data_Master/Adduser_5/UAD-Adduser-5-2462.txt  \n",
            "  inflating: Attack_Data_Master/Adduser_5/UAD-Adduser-5-2783.txt  \n",
            "  inflating: Attack_Data_Master/Adduser_5/UAD-Adduser-5-961.txt  \n",
            "   creating: Attack_Data_Master/Adduser_6/\n",
            "  inflating: Attack_Data_Master/Adduser_6/UAD-Adduser-6-=1.txt  \n",
            "  inflating: Attack_Data_Master/Adduser_6/UAD-Adduser-6-1371.txt  \n",
            "  inflating: Attack_Data_Master/Adduser_6/UAD-Adduser-6-1613.txt  \n",
            "  inflating: Attack_Data_Master/Adduser_6/UAD-Adduser-6-18759.txt  \n",
            "  inflating: Attack_Data_Master/Adduser_6/UAD-Adduser-6-2311.txt  \n",
            "  inflating: Attack_Data_Master/Adduser_6/UAD-Adduser-6-2462.txt  \n",
            "  inflating: Attack_Data_Master/Adduser_6/UAD-Adduser-6-2783.txt  \n",
            "  inflating: Attack_Data_Master/Adduser_6/UAD-Adduser-6-961.txt  \n",
            "   creating: Attack_Data_Master/Adduser_7/\n",
            "  inflating: Attack_Data_Master/Adduser_7/UAD-Adduser-7-=1.txt  \n",
            "  inflating: Attack_Data_Master/Adduser_7/UAD-Adduser-7-1371.txt  \n",
            "  inflating: Attack_Data_Master/Adduser_7/UAD-Adduser-7-1613.txt  \n",
            "  inflating: Attack_Data_Master/Adduser_7/UAD-Adduser-7-18802.txt  \n",
            "  inflating: Attack_Data_Master/Adduser_7/UAD-Adduser-7-2311.txt  \n",
            "  inflating: Attack_Data_Master/Adduser_7/UAD-Adduser-7-2462.txt  \n",
            "  inflating: Attack_Data_Master/Adduser_7/UAD-Adduser-7-2783.txt  \n",
            "  inflating: Attack_Data_Master/Adduser_7/UAD-Adduser-7-961.txt  \n",
            "   creating: Attack_Data_Master/Adduser_8/\n",
            "  inflating: Attack_Data_Master/Adduser_8/UAD-Adduser-8-=1.txt  \n",
            "  inflating: Attack_Data_Master/Adduser_8/UAD-Adduser-8-1371.txt  \n",
            "  inflating: Attack_Data_Master/Adduser_8/UAD-Adduser-8-1613.txt  \n",
            "  inflating: Attack_Data_Master/Adduser_8/UAD-Adduser-8-18868.txt  \n",
            "  inflating: Attack_Data_Master/Adduser_8/UAD-Adduser-8-2311.txt  \n",
            "  inflating: Attack_Data_Master/Adduser_8/UAD-Adduser-8-2462.txt  \n",
            "  inflating: Attack_Data_Master/Adduser_8/UAD-Adduser-8-2783.txt  \n",
            "   creating: Attack_Data_Master/Adduser_9/\n",
            "  inflating: Attack_Data_Master/Adduser_9/UAD-Adduser-9-=1.txt  \n",
            "  inflating: Attack_Data_Master/Adduser_9/UAD-Adduser-9-1371.txt  \n",
            "  inflating: Attack_Data_Master/Adduser_9/UAD-Adduser-9-17612.txt  \n",
            "  inflating: Attack_Data_Master/Adduser_9/UAD-Adduser-9-17614.txt  \n",
            "  inflating: Attack_Data_Master/Adduser_9/UAD-Adduser-9-17617.txt  \n",
            "  inflating: Attack_Data_Master/Adduser_9/UAD-Adduser-9-17622.txt  \n",
            "  inflating: Attack_Data_Master/Adduser_9/UAD-Adduser-9-17626.txt  \n",
            "  inflating: Attack_Data_Master/Adduser_9/UAD-Adduser-9-17627.txt  \n",
            "  inflating: Attack_Data_Master/Adduser_9/UAD-Adduser-9-17629.txt  \n",
            "  inflating: Attack_Data_Master/Adduser_9/UAD-Adduser-9-17636.txt  \n",
            "  inflating: Attack_Data_Master/Adduser_9/UAD-Adduser-9-18903.txt  \n",
            "  inflating: Attack_Data_Master/Adduser_9/UAD-Adduser-9-18907.txt  \n",
            "  inflating: Attack_Data_Master/Adduser_9/UAD-Adduser-9-18911.txt  \n",
            "  inflating: Attack_Data_Master/Adduser_9/UAD-Adduser-9-18939.txt  \n",
            "  inflating: Attack_Data_Master/Adduser_9/UAD-Adduser-9-18999.txt  \n",
            "  inflating: Attack_Data_Master/Adduser_9/UAD-Adduser-9-2224.txt  \n",
            "  inflating: Attack_Data_Master/Adduser_9/UAD-Adduser-9-2257.txt  \n",
            "  inflating: Attack_Data_Master/Adduser_9/UAD-Adduser-9-2277.txt  \n",
            "  inflating: Attack_Data_Master/Adduser_9/UAD-Adduser-9-2311.txt  \n",
            "  inflating: Attack_Data_Master/Adduser_9/UAD-Adduser-9-2462.txt  \n",
            "  inflating: Attack_Data_Master/Adduser_9/UAD-Adduser-9-2783.txt  \n",
            "  inflating: Attack_Data_Master/Adduser_9/UAD-Adduser-9-961.txt  \n",
            "   creating: Attack_Data_Master/Hydra_FTP_1/\n",
            "  inflating: Attack_Data_Master/Hydra_FTP_1/UAD-Hydra-FTP-1-1371.txt  \n",
            "  inflating: Attack_Data_Master/Hydra_FTP_1/UAD-Hydra-FTP-1-1442.txt  \n",
            "  inflating: Attack_Data_Master/Hydra_FTP_1/UAD-Hydra-FTP-1-1613.txt  \n",
            "  inflating: Attack_Data_Master/Hydra_FTP_1/UAD-Hydra-FTP-1-2311.txt  \n",
            "  inflating: Attack_Data_Master/Hydra_FTP_1/UAD-Hydra-FTP-1-2462.txt  \n",
            "  inflating: Attack_Data_Master/Hydra_FTP_1/UAD-Hydra-FTP-1-2783.txt  \n",
            "  inflating: Attack_Data_Master/Hydra_FTP_1/UAD-Hydra-FTP-1-3523.txt  \n",
            "  inflating: Attack_Data_Master/Hydra_FTP_1/UAD-Hydra-FTP-1-3524.txt  \n",
            "  inflating: Attack_Data_Master/Hydra_FTP_1/UAD-Hydra-FTP-1-8990.txt  \n",
            "  inflating: Attack_Data_Master/Hydra_FTP_1/UAD-Hydra-FTP-1-9044.txt  \n",
            "  inflating: Attack_Data_Master/Hydra_FTP_1/UAD-Hydra-FTP-1-9178.txt  \n",
            "  inflating: Attack_Data_Master/Hydra_FTP_1/UAD-Hydra-FTP-1-9186.txt  \n",
            "   creating: Attack_Data_Master/Hydra_FTP_10/\n",
            "  inflating: Attack_Data_Master/Hydra_FTP_10/UAD-Hydra-FTP-10-13541.txt  \n",
            "  inflating: Attack_Data_Master/Hydra_FTP_10/UAD-Hydra-FTP-10-1371.txt  \n",
            "  inflating: Attack_Data_Master/Hydra_FTP_10/UAD-Hydra-FTP-10-1442.txt  \n",
            "  inflating: Attack_Data_Master/Hydra_FTP_10/UAD-Hydra-FTP-10-15866.txt  \n",
            "  inflating: Attack_Data_Master/Hydra_FTP_10/UAD-Hydra-FTP-10-15879.txt  \n",
            "  inflating: Attack_Data_Master/Hydra_FTP_10/UAD-Hydra-FTP-10-15910.txt  \n",
            "  inflating: Attack_Data_Master/Hydra_FTP_10/UAD-Hydra-FTP-10-15933.txt  \n",
            "  inflating: Attack_Data_Master/Hydra_FTP_10/UAD-Hydra-FTP-10-1613.txt  \n",
            "  inflating: Attack_Data_Master/Hydra_FTP_10/UAD-Hydra-FTP-10-2311.txt  \n",
            "  inflating: Attack_Data_Master/Hydra_FTP_10/UAD-Hydra-FTP-10-2462.txt  \n",
            "  inflating: Attack_Data_Master/Hydra_FTP_10/UAD-Hydra-FTP-10-2783.txt  \n",
            "  inflating: Attack_Data_Master/Hydra_FTP_10/UAD-Hydra-FTP-10-3523.txt  \n",
            "  inflating: Attack_Data_Master/Hydra_FTP_10/UAD-Hydra-FTP-10-3524.txt  \n",
            "   creating: Attack_Data_Master/Hydra_FTP_2/\n",
            "  inflating: Attack_Data_Master/Hydra_FTP_2/UAD-Hydra-FTP-2-1371.txt  \n",
            "  inflating: Attack_Data_Master/Hydra_FTP_2/UAD-Hydra-FTP-2-1442.txt  \n",
            "  inflating: Attack_Data_Master/Hydra_FTP_2/UAD-Hydra-FTP-2-1613.txt  \n",
            "  inflating: Attack_Data_Master/Hydra_FTP_2/UAD-Hydra-FTP-2-2311.txt  \n",
            "  inflating: Attack_Data_Master/Hydra_FTP_2/UAD-Hydra-FTP-2-2462.txt  \n",
            "  inflating: Attack_Data_Master/Hydra_FTP_2/UAD-Hydra-FTP-2-2783.txt  \n",
            "  inflating: Attack_Data_Master/Hydra_FTP_2/UAD-Hydra-FTP-2-3523.txt  \n",
            "  inflating: Attack_Data_Master/Hydra_FTP_2/UAD-Hydra-FTP-2-3524.txt  \n",
            "  inflating: Attack_Data_Master/Hydra_FTP_2/UAD-Hydra-FTP-2-9300.txt  \n",
            "  inflating: Attack_Data_Master/Hydra_FTP_2/UAD-Hydra-FTP-2-9310.txt  \n",
            "  inflating: Attack_Data_Master/Hydra_FTP_2/UAD-Hydra-FTP-2-9374.txt  \n",
            "  inflating: Attack_Data_Master/Hydra_FTP_2/UAD-Hydra-FTP-2-9400.txt  \n",
            "  inflating: Attack_Data_Master/Hydra_FTP_2/UAD-Hydra-FTP-2-9402.txt  \n",
            "  inflating: Attack_Data_Master/Hydra_FTP_2/UAD-Hydra-FTP-2-9454.txt  \n",
            "  inflating: Attack_Data_Master/Hydra_FTP_2/UAD-Hydra-FTP-2-9476.txt  \n",
            "  inflating: Attack_Data_Master/Hydra_FTP_2/UAD-Hydra-FTP-2-9506.txt  \n",
            "  inflating: Attack_Data_Master/Hydra_FTP_2/UAD-Hydra-FTP-2-9637.txt  \n",
            "   creating: Attack_Data_Master/Hydra_FTP_3/\n",
            "  inflating: Attack_Data_Master/Hydra_FTP_3/UAD-Hydra-FTP-3-10487.txt  \n",
            "  inflating: Attack_Data_Master/Hydra_FTP_3/UAD-Hydra-FTP-3-10640.txt  \n",
            "  inflating: Attack_Data_Master/Hydra_FTP_3/UAD-Hydra-FTP-3-10746.txt  \n",
            "  inflating: Attack_Data_Master/Hydra_FTP_3/UAD-Hydra-FTP-3-10800.txt  \n",
            "  inflating: Attack_Data_Master/Hydra_FTP_3/UAD-Hydra-FTP-3-10824.txt  \n",
            "  inflating: Attack_Data_Master/Hydra_FTP_3/UAD-Hydra-FTP-3-10829.txt  \n",
            "  inflating: Attack_Data_Master/Hydra_FTP_3/UAD-Hydra-FTP-3-11010.txt  \n",
            "  inflating: Attack_Data_Master/Hydra_FTP_3/UAD-Hydra-FTP-3-1371.txt  \n",
            "  inflating: Attack_Data_Master/Hydra_FTP_3/UAD-Hydra-FTP-3-1442.txt  \n",
            "  inflating: Attack_Data_Master/Hydra_FTP_3/UAD-Hydra-FTP-3-1613.txt  \n",
            "  inflating: Attack_Data_Master/Hydra_FTP_3/UAD-Hydra-FTP-3-2311.txt  \n",
            "  inflating: Attack_Data_Master/Hydra_FTP_3/UAD-Hydra-FTP-3-2462.txt  \n",
            "  inflating: Attack_Data_Master/Hydra_FTP_3/UAD-Hydra-FTP-3-2783.txt  \n",
            "  inflating: Attack_Data_Master/Hydra_FTP_3/UAD-Hydra-FTP-3-3523.txt  \n",
            "  inflating: Attack_Data_Master/Hydra_FTP_3/UAD-Hydra-FTP-3-3524.txt  \n",
            "  inflating: Attack_Data_Master/Hydra_FTP_3/UAD-Hydra-FTP-3-3754.txt  \n",
            "  inflating: Attack_Data_Master/Hydra_FTP_3/UAD-Hydra-FTP-3-3761.txt  \n",
            "  inflating: Attack_Data_Master/Hydra_FTP_3/UAD-Hydra-FTP-3-8978.txt  \n",
            "  inflating: Attack_Data_Master/Hydra_FTP_3/UAD-Hydra-FTP-3-9300.txt  \n",
            "  inflating: Attack_Data_Master/Hydra_FTP_3/UAD-Hydra-FTP-3-961.txt  \n",
            "   creating: Attack_Data_Master/Hydra_FTP_4/\n",
            "  inflating: Attack_Data_Master/Hydra_FTP_4/UAD-Hydra-FTP-4-11173.txt  \n",
            "  inflating: Attack_Data_Master/Hydra_FTP_4/UAD-Hydra-FTP-4-11184.txt  \n",
            "  inflating: Attack_Data_Master/Hydra_FTP_4/UAD-Hydra-FTP-4-11254.txt  \n",
            "  inflating: Attack_Data_Master/Hydra_FTP_4/UAD-Hydra-FTP-4-11258.txt  \n",
            "  inflating: Attack_Data_Master/Hydra_FTP_4/UAD-Hydra-FTP-4-11316.txt  \n",
            "  inflating: Attack_Data_Master/Hydra_FTP_4/UAD-Hydra-FTP-4-11384.txt  \n",
            "  inflating: Attack_Data_Master/Hydra_FTP_4/UAD-Hydra-FTP-4-1371.txt  \n",
            "  inflating: Attack_Data_Master/Hydra_FTP_4/UAD-Hydra-FTP-4-1442.txt  \n",
            "  inflating: Attack_Data_Master/Hydra_FTP_4/UAD-Hydra-FTP-4-1613.txt  \n",
            "  inflating: Attack_Data_Master/Hydra_FTP_4/UAD-Hydra-FTP-4-2311.txt  \n",
            "  inflating: Attack_Data_Master/Hydra_FTP_4/UAD-Hydra-FTP-4-2462.txt  \n",
            "  inflating: Attack_Data_Master/Hydra_FTP_4/UAD-Hydra-FTP-4-2783.txt  \n",
            "  inflating: Attack_Data_Master/Hydra_FTP_4/UAD-Hydra-FTP-4-3523.txt  \n",
            "  inflating: Attack_Data_Master/Hydra_FTP_4/UAD-Hydra-FTP-4-3524.txt  \n",
            "   creating: Attack_Data_Master/Hydra_FTP_5/\n",
            "  inflating: Attack_Data_Master/Hydra_FTP_5/UAD-Hydra-FTP-5-11504.txt  \n",
            "  inflating: Attack_Data_Master/Hydra_FTP_5/UAD-Hydra-FTP-5-11539.txt  \n",
            "  inflating: Attack_Data_Master/Hydra_FTP_5/UAD-Hydra-FTP-5-11611.txt  \n",
            "  inflating: Attack_Data_Master/Hydra_FTP_5/UAD-Hydra-FTP-5-11642.txt  \n",
            "  inflating: Attack_Data_Master/Hydra_FTP_5/UAD-Hydra-FTP-5-11650.txt  \n",
            "  inflating: Attack_Data_Master/Hydra_FTP_5/UAD-Hydra-FTP-5-11665.txt  \n",
            "  inflating: Attack_Data_Master/Hydra_FTP_5/UAD-Hydra-FTP-5-11763.txt  \n",
            "  inflating: Attack_Data_Master/Hydra_FTP_5/UAD-Hydra-FTP-5-11784.txt  \n",
            "  inflating: Attack_Data_Master/Hydra_FTP_5/UAD-Hydra-FTP-5-11908.txt  \n",
            "  inflating: Attack_Data_Master/Hydra_FTP_5/UAD-Hydra-FTP-5-1371.txt  \n",
            "  inflating: Attack_Data_Master/Hydra_FTP_5/UAD-Hydra-FTP-5-1442.txt  \n",
            "  inflating: Attack_Data_Master/Hydra_FTP_5/UAD-Hydra-FTP-5-1613.txt  \n",
            "  inflating: Attack_Data_Master/Hydra_FTP_5/UAD-Hydra-FTP-5-2311.txt  \n",
            "  inflating: Attack_Data_Master/Hydra_FTP_5/UAD-Hydra-FTP-5-2462.txt  \n",
            "  inflating: Attack_Data_Master/Hydra_FTP_5/UAD-Hydra-FTP-5-2783.txt  \n",
            "  inflating: Attack_Data_Master/Hydra_FTP_5/UAD-Hydra-FTP-5-3523.txt  \n",
            "  inflating: Attack_Data_Master/Hydra_FTP_5/UAD-Hydra-FTP-5-3524.txt  \n",
            "  inflating: Attack_Data_Master/Hydra_FTP_5/UAD-Hydra-FTP-5-961.txt  \n",
            "   creating: Attack_Data_Master/Hydra_FTP_6/\n",
            "  inflating: Attack_Data_Master/Hydra_FTP_6/UAD-Hydra-FTP-6=5738.txt  \n",
            "  inflating: Attack_Data_Master/Hydra_FTP_6/UAD-Hydra-FTP-611504.txt  \n",
            "  inflating: Attack_Data_Master/Hydra_FTP_6/UAD-Hydra-FTP-612564.txt  \n",
            "  inflating: Attack_Data_Master/Hydra_FTP_6/UAD-Hydra-FTP-612596.txt  \n",
            "  inflating: Attack_Data_Master/Hydra_FTP_6/UAD-Hydra-FTP-612700.txt  \n",
            "  inflating: Attack_Data_Master/Hydra_FTP_6/UAD-Hydra-FTP-612865.txt  \n",
            "  inflating: Attack_Data_Master/Hydra_FTP_6/UAD-Hydra-FTP-612872.txt  \n",
            "  inflating: Attack_Data_Master/Hydra_FTP_6/UAD-Hydra-FTP-612982.txt  \n",
            "  inflating: Attack_Data_Master/Hydra_FTP_6/UAD-Hydra-FTP-613008.txt  \n",
            "  inflating: Attack_Data_Master/Hydra_FTP_6/UAD-Hydra-FTP-613099.txt  \n",
            "  inflating: Attack_Data_Master/Hydra_FTP_6/UAD-Hydra-FTP-61371.txt  \n",
            "  inflating: Attack_Data_Master/Hydra_FTP_6/UAD-Hydra-FTP-61442.txt  \n",
            "  inflating: Attack_Data_Master/Hydra_FTP_6/UAD-Hydra-FTP-61613.txt  \n",
            "  inflating: Attack_Data_Master/Hydra_FTP_6/UAD-Hydra-FTP-62311.txt  \n",
            "  inflating: Attack_Data_Master/Hydra_FTP_6/UAD-Hydra-FTP-62462.txt  \n",
            "  inflating: Attack_Data_Master/Hydra_FTP_6/UAD-Hydra-FTP-62783.txt  \n",
            "  inflating: Attack_Data_Master/Hydra_FTP_6/UAD-Hydra-FTP-63523.txt  \n",
            "  inflating: Attack_Data_Master/Hydra_FTP_6/UAD-Hydra-FTP-63524.txt  \n",
            "  inflating: Attack_Data_Master/Hydra_FTP_6/UAD-Hydra-FTP-68978.txt  \n",
            "  inflating: Attack_Data_Master/Hydra_FTP_6/UAD-Hydra-FTP-6961.txt  \n",
            "   creating: Attack_Data_Master/Hydra_FTP_7/\n",
            "  inflating: Attack_Data_Master/Hydra_FTP_7/UAD-Hydra-FTP-713277.txt  \n",
            "  inflating: Attack_Data_Master/Hydra_FTP_7/UAD-Hydra-FTP-713288.txt  \n",
            "  inflating: Attack_Data_Master/Hydra_FTP_7/UAD-Hydra-FTP-713292.txt  \n",
            "  inflating: Attack_Data_Master/Hydra_FTP_7/UAD-Hydra-FTP-713305.txt  \n",
            "  inflating: Attack_Data_Master/Hydra_FTP_7/UAD-Hydra-FTP-713306.txt  \n",
            "  inflating: Attack_Data_Master/Hydra_FTP_7/UAD-Hydra-FTP-713394.txt  \n",
            "  inflating: Attack_Data_Master/Hydra_FTP_7/UAD-Hydra-FTP-71371.txt  \n",
            "  inflating: Attack_Data_Master/Hydra_FTP_7/UAD-Hydra-FTP-71442.txt  \n",
            "  inflating: Attack_Data_Master/Hydra_FTP_7/UAD-Hydra-FTP-71613.txt  \n",
            "  inflating: Attack_Data_Master/Hydra_FTP_7/UAD-Hydra-FTP-72311.txt  \n",
            "  inflating: Attack_Data_Master/Hydra_FTP_7/UAD-Hydra-FTP-72462.txt  \n",
            "  inflating: Attack_Data_Master/Hydra_FTP_7/UAD-Hydra-FTP-72783.txt  \n",
            "  inflating: Attack_Data_Master/Hydra_FTP_7/UAD-Hydra-FTP-73523.txt  \n",
            "  inflating: Attack_Data_Master/Hydra_FTP_7/UAD-Hydra-FTP-73524.txt  \n",
            "   creating: Attack_Data_Master/Hydra_FTP_8/\n",
            "  inflating: Attack_Data_Master/Hydra_FTP_8/UAD-Hydra-FTP-8-13541.txt  \n",
            "  inflating: Attack_Data_Master/Hydra_FTP_8/UAD-Hydra-FTP-8-13561.txt  \n",
            "  inflating: Attack_Data_Master/Hydra_FTP_8/UAD-Hydra-FTP-8-13638.txt  \n",
            "  inflating: Attack_Data_Master/Hydra_FTP_8/UAD-Hydra-FTP-8-1371.txt  \n",
            "  inflating: Attack_Data_Master/Hydra_FTP_8/UAD-Hydra-FTP-8-13849.txt  \n",
            "  inflating: Attack_Data_Master/Hydra_FTP_8/UAD-Hydra-FTP-8-1442.txt  \n",
            "  inflating: Attack_Data_Master/Hydra_FTP_8/UAD-Hydra-FTP-8-1613.txt  \n",
            "  inflating: Attack_Data_Master/Hydra_FTP_8/UAD-Hydra-FTP-8-2311.txt  \n",
            "  inflating: Attack_Data_Master/Hydra_FTP_8/UAD-Hydra-FTP-8-2462.txt  \n",
            "  inflating: Attack_Data_Master/Hydra_FTP_8/UAD-Hydra-FTP-8-2783.txt  \n",
            "  inflating: Attack_Data_Master/Hydra_FTP_8/UAD-Hydra-FTP-8-3523.txt  \n",
            "  inflating: Attack_Data_Master/Hydra_FTP_8/UAD-Hydra-FTP-8-3524.txt  \n",
            "   creating: Attack_Data_Master/Hydra_FTP_9/\n",
            "  inflating: Attack_Data_Master/Hydra_FTP_9/UAD-Hydra-FTP-9-13541.txt  \n",
            "  inflating: Attack_Data_Master/Hydra_FTP_9/UAD-Hydra-FTP-9-1371.txt  \n",
            "  inflating: Attack_Data_Master/Hydra_FTP_9/UAD-Hydra-FTP-9-14414.txt  \n",
            "  inflating: Attack_Data_Master/Hydra_FTP_9/UAD-Hydra-FTP-9-1442.txt  \n",
            "  inflating: Attack_Data_Master/Hydra_FTP_9/UAD-Hydra-FTP-9-14423.txt  \n",
            "  inflating: Attack_Data_Master/Hydra_FTP_9/UAD-Hydra-FTP-9-14457.txt  \n",
            "  inflating: Attack_Data_Master/Hydra_FTP_9/UAD-Hydra-FTP-9-14493.txt  \n",
            "  inflating: Attack_Data_Master/Hydra_FTP_9/UAD-Hydra-FTP-9-14651.txt  \n",
            "  inflating: Attack_Data_Master/Hydra_FTP_9/UAD-Hydra-FTP-9-14661.txt  \n",
            "  inflating: Attack_Data_Master/Hydra_FTP_9/UAD-Hydra-FTP-9-14668.txt  \n",
            "  inflating: Attack_Data_Master/Hydra_FTP_9/UAD-Hydra-FTP-9-14700.txt  \n",
            "  inflating: Attack_Data_Master/Hydra_FTP_9/UAD-Hydra-FTP-9-14814.txt  \n",
            "  inflating: Attack_Data_Master/Hydra_FTP_9/UAD-Hydra-FTP-9-14853.txt  \n",
            "  inflating: Attack_Data_Master/Hydra_FTP_9/UAD-Hydra-FTP-9-14945.txt  \n",
            "  inflating: Attack_Data_Master/Hydra_FTP_9/UAD-Hydra-FTP-9-1613.txt  \n",
            "  inflating: Attack_Data_Master/Hydra_FTP_9/UAD-Hydra-FTP-9-2311.txt  \n",
            "  inflating: Attack_Data_Master/Hydra_FTP_9/UAD-Hydra-FTP-9-2462.txt  \n",
            "  inflating: Attack_Data_Master/Hydra_FTP_9/UAD-Hydra-FTP-9-2783.txt  \n",
            "  inflating: Attack_Data_Master/Hydra_FTP_9/UAD-Hydra-FTP-9-3523.txt  \n",
            "  inflating: Attack_Data_Master/Hydra_FTP_9/UAD-Hydra-FTP-9-3524.txt  \n",
            "  inflating: Attack_Data_Master/Hydra_FTP_9/UAD-Hydra-FTP-9-8978.txt  \n",
            "  inflating: Attack_Data_Master/Hydra_FTP_9/UAD-Hydra-FTP-9-961.txt  \n",
            "   creating: Attack_Data_Master/Hydra_SSH_1/\n",
            "  inflating: Attack_Data_Master/Hydra_SSH_1/UAD-Hydra-SSH-1-1371.txt  \n",
            "  inflating: Attack_Data_Master/Hydra_SSH_1/UAD-Hydra-SSH-1-1613.txt  \n",
            "  inflating: Attack_Data_Master/Hydra_SSH_1/UAD-Hydra-SSH-1-2257.txt  \n",
            "  inflating: Attack_Data_Master/Hydra_SSH_1/UAD-Hydra-SSH-1-2277.txt  \n",
            "  inflating: Attack_Data_Master/Hydra_SSH_1/UAD-Hydra-SSH-1-2311.txt  \n",
            "  inflating: Attack_Data_Master/Hydra_SSH_1/UAD-Hydra-SSH-1-2462.txt  \n",
            "  inflating: Attack_Data_Master/Hydra_SSH_1/UAD-Hydra-SSH-1-5941.txt  \n",
            "  inflating: Attack_Data_Master/Hydra_SSH_1/UAD-Hydra-SSH-1-6011.txt  \n",
            "   creating: Attack_Data_Master/Hydra_SSH_10/\n",
            "  inflating: Attack_Data_Master/Hydra_SSH_10/UAD-Hydra-SSH-10-1371.txt  \n",
            "  inflating: Attack_Data_Master/Hydra_SSH_10/UAD-Hydra-SSH-10-1442.txt  \n",
            "  inflating: Attack_Data_Master/Hydra_SSH_10/UAD-Hydra-SSH-10-1613.txt  \n",
            "  inflating: Attack_Data_Master/Hydra_SSH_10/UAD-Hydra-SSH-10-2311.txt  \n",
            "  inflating: Attack_Data_Master/Hydra_SSH_10/UAD-Hydra-SSH-10-2462.txt  \n",
            "  inflating: Attack_Data_Master/Hydra_SSH_10/UAD-Hydra-SSH-10-2783.txt  \n",
            "  inflating: Attack_Data_Master/Hydra_SSH_10/UAD-Hydra-SSH-10-8445.txt  \n",
            "  inflating: Attack_Data_Master/Hydra_SSH_10/UAD-Hydra-SSH-10-8456.txt  \n",
            "  inflating: Attack_Data_Master/Hydra_SSH_10/UAD-Hydra-SSH-10-8462.txt  \n",
            "  inflating: Attack_Data_Master/Hydra_SSH_10/UAD-Hydra-SSH-10-8480.txt  \n",
            "  inflating: Attack_Data_Master/Hydra_SSH_10/UAD-Hydra-SSH-10-8498.txt  \n",
            "  inflating: Attack_Data_Master/Hydra_SSH_10/UAD-Hydra-SSH-10-8501.txt  \n",
            "   creating: Attack_Data_Master/Hydra_SSH_2/\n",
            "  inflating: Attack_Data_Master/Hydra_SSH_2/UAD-Hydra-SSH-2-=5738.txt  \n",
            "  inflating: Attack_Data_Master/Hydra_SSH_2/UAD-Hydra-SSH-2-1371.txt  \n",
            "  inflating: Attack_Data_Master/Hydra_SSH_2/UAD-Hydra-SSH-2-1442.txt  \n",
            "  inflating: Attack_Data_Master/Hydra_SSH_2/UAD-Hydra-SSH-2-1613.txt  \n",
            "  inflating: Attack_Data_Master/Hydra_SSH_2/UAD-Hydra-SSH-2-2311.txt  \n",
            "  inflating: Attack_Data_Master/Hydra_SSH_2/UAD-Hydra-SSH-2-2424.txt  \n",
            "  inflating: Attack_Data_Master/Hydra_SSH_2/UAD-Hydra-SSH-2-2462.txt  \n",
            "  inflating: Attack_Data_Master/Hydra_SSH_2/UAD-Hydra-SSH-2-2783.txt  \n",
            "  inflating: Attack_Data_Master/Hydra_SSH_2/UAD-Hydra-SSH-2-3754.txt  \n",
            "  inflating: Attack_Data_Master/Hydra_SSH_2/UAD-Hydra-SSH-2-6130.txt  \n",
            "  inflating: Attack_Data_Master/Hydra_SSH_2/UAD-Hydra-SSH-2-6154.txt  \n",
            "  inflating: Attack_Data_Master/Hydra_SSH_2/UAD-Hydra-SSH-2-6182.txt  \n",
            "  inflating: Attack_Data_Master/Hydra_SSH_2/UAD-Hydra-SSH-2-6189.txt  \n",
            "  inflating: Attack_Data_Master/Hydra_SSH_2/UAD-Hydra-SSH-2-6221.txt  \n",
            "  inflating: Attack_Data_Master/Hydra_SSH_2/UAD-Hydra-SSH-2-6237.txt  \n",
            "  inflating: Attack_Data_Master/Hydra_SSH_2/UAD-Hydra-SSH-2-6243.txt  \n",
            "  inflating: Attack_Data_Master/Hydra_SSH_2/UAD-Hydra-SSH-2-6365.txt  \n",
            "  inflating: Attack_Data_Master/Hydra_SSH_2/UAD-Hydra-SSH-2-6384.txt  \n",
            "  inflating: Attack_Data_Master/Hydra_SSH_2/UAD-Hydra-SSH-2-6398.txt  \n",
            "  inflating: Attack_Data_Master/Hydra_SSH_2/UAD-Hydra-SSH-2-6414.txt  \n",
            "  inflating: Attack_Data_Master/Hydra_SSH_2/UAD-Hydra-SSH-2-6426.txt  \n",
            "  inflating: Attack_Data_Master/Hydra_SSH_2/UAD-Hydra-SSH-2-6452.txt  \n",
            "  inflating: Attack_Data_Master/Hydra_SSH_2/UAD-Hydra-SSH-2-6461.txt  \n",
            "  inflating: Attack_Data_Master/Hydra_SSH_2/UAD-Hydra-SSH-2-6470.txt  \n",
            "  inflating: Attack_Data_Master/Hydra_SSH_2/UAD-Hydra-SSH-2-961.txt  \n",
            "   creating: Attack_Data_Master/Hydra_SSH_3/\n",
            "  inflating: Attack_Data_Master/Hydra_SSH_3/UAD-Hydra-SSH-3-1371.txt  \n",
            "  inflating: Attack_Data_Master/Hydra_SSH_3/UAD-Hydra-SSH-3-1442.txt  \n",
            "  inflating: Attack_Data_Master/Hydra_SSH_3/UAD-Hydra-SSH-3-1613.txt  \n",
            "  inflating: Attack_Data_Master/Hydra_SSH_3/UAD-Hydra-SSH-3-2311.txt  \n",
            "  inflating: Attack_Data_Master/Hydra_SSH_3/UAD-Hydra-SSH-3-2462.txt  \n",
            "  inflating: Attack_Data_Master/Hydra_SSH_3/UAD-Hydra-SSH-3-2783.txt  \n",
            "  inflating: Attack_Data_Master/Hydra_SSH_3/UAD-Hydra-SSH-3-6511.txt  \n",
            "  inflating: Attack_Data_Master/Hydra_SSH_3/UAD-Hydra-SSH-3-6522.txt  \n",
            "  inflating: Attack_Data_Master/Hydra_SSH_3/UAD-Hydra-SSH-3-6525.txt  \n",
            "  inflating: Attack_Data_Master/Hydra_SSH_3/UAD-Hydra-SSH-3-6548.txt  \n",
            "  inflating: Attack_Data_Master/Hydra_SSH_3/UAD-Hydra-SSH-3-6579.txt  \n",
            "  inflating: Attack_Data_Master/Hydra_SSH_3/UAD-Hydra-SSH-3-6582.txt  \n",
            "  inflating: Attack_Data_Master/Hydra_SSH_3/UAD-Hydra-SSH-3-6589.txt  \n",
            "  inflating: Attack_Data_Master/Hydra_SSH_3/UAD-Hydra-SSH-3-6595.txt  \n",
            "  inflating: Attack_Data_Master/Hydra_SSH_3/UAD-Hydra-SSH-3-6599.txt  \n",
            "  inflating: Attack_Data_Master/Hydra_SSH_3/UAD-Hydra-SSH-3-6624.txt  \n",
            "  inflating: Attack_Data_Master/Hydra_SSH_3/UAD-Hydra-SSH-3-6633.txt  \n",
            "  inflating: Attack_Data_Master/Hydra_SSH_3/UAD-Hydra-SSH-3-6636.txt  \n",
            "  inflating: Attack_Data_Master/Hydra_SSH_3/UAD-Hydra-SSH-3-6653.txt  \n",
            "  inflating: Attack_Data_Master/Hydra_SSH_3/UAD-Hydra-SSH-3-6661.txt  \n",
            "  inflating: Attack_Data_Master/Hydra_SSH_3/UAD-Hydra-SSH-3-6667.txt  \n",
            "  inflating: Attack_Data_Master/Hydra_SSH_3/UAD-Hydra-SSH-3-6676.txt  \n",
            "   creating: Attack_Data_Master/Hydra_SSH_4/\n",
            "  inflating: Attack_Data_Master/Hydra_SSH_4/UAD-Hydra-SSH-4-1371.txt  \n",
            "  inflating: Attack_Data_Master/Hydra_SSH_4/UAD-Hydra-SSH-4-1442.txt  \n",
            "  inflating: Attack_Data_Master/Hydra_SSH_4/UAD-Hydra-SSH-4-1613.txt  \n",
            "  inflating: Attack_Data_Master/Hydra_SSH_4/UAD-Hydra-SSH-4-2311.txt  \n",
            "  inflating: Attack_Data_Master/Hydra_SSH_4/UAD-Hydra-SSH-4-2462.txt  \n",
            "  inflating: Attack_Data_Master/Hydra_SSH_4/UAD-Hydra-SSH-4-2783.txt  \n",
            "  inflating: Attack_Data_Master/Hydra_SSH_4/UAD-Hydra-SSH-4-6747.txt  \n",
            "  inflating: Attack_Data_Master/Hydra_SSH_4/UAD-Hydra-SSH-4-6784.txt  \n",
            "  inflating: Attack_Data_Master/Hydra_SSH_4/UAD-Hydra-SSH-4-6814.txt  \n",
            "  inflating: Attack_Data_Master/Hydra_SSH_4/UAD-Hydra-SSH-4-6839.txt  \n",
            "  inflating: Attack_Data_Master/Hydra_SSH_4/UAD-Hydra-SSH-4-6871.txt  \n",
            "  inflating: Attack_Data_Master/Hydra_SSH_4/UAD-Hydra-SSH-4-6904.txt  \n",
            "   creating: Attack_Data_Master/Hydra_SSH_5/\n",
            "  inflating: Attack_Data_Master/Hydra_SSH_5/UAD-Hydra-SSH-5-=5738.txt  \n",
            "  inflating: Attack_Data_Master/Hydra_SSH_5/UAD-Hydra-SSH-5-1371.txt  \n",
            "  inflating: Attack_Data_Master/Hydra_SSH_5/UAD-Hydra-SSH-5-1442.txt  \n",
            "  inflating: Attack_Data_Master/Hydra_SSH_5/UAD-Hydra-SSH-5-1613.txt  \n",
            "  inflating: Attack_Data_Master/Hydra_SSH_5/UAD-Hydra-SSH-5-2311.txt  \n",
            "  inflating: Attack_Data_Master/Hydra_SSH_5/UAD-Hydra-SSH-5-2424.txt  \n",
            "  inflating: Attack_Data_Master/Hydra_SSH_5/UAD-Hydra-SSH-5-2462.txt  \n",
            "  inflating: Attack_Data_Master/Hydra_SSH_5/UAD-Hydra-SSH-5-2783.txt  \n",
            "  inflating: Attack_Data_Master/Hydra_SSH_5/UAD-Hydra-SSH-5-6938.txt  \n",
            "  inflating: Attack_Data_Master/Hydra_SSH_5/UAD-Hydra-SSH-5-6949.txt  \n",
            "  inflating: Attack_Data_Master/Hydra_SSH_5/UAD-Hydra-SSH-5-6988.txt  \n",
            "  inflating: Attack_Data_Master/Hydra_SSH_5/UAD-Hydra-SSH-5-7033.txt  \n",
            "  inflating: Attack_Data_Master/Hydra_SSH_5/UAD-Hydra-SSH-5-7045.txt  \n",
            "  inflating: Attack_Data_Master/Hydra_SSH_5/UAD-Hydra-SSH-5-7061.txt  \n",
            "  inflating: Attack_Data_Master/Hydra_SSH_5/UAD-Hydra-SSH-5-7077.txt  \n",
            "  inflating: Attack_Data_Master/Hydra_SSH_5/UAD-Hydra-SSH-5-7098.txt  \n",
            "  inflating: Attack_Data_Master/Hydra_SSH_5/UAD-Hydra-SSH-5-7145.txt  \n",
            "  inflating: Attack_Data_Master/Hydra_SSH_5/UAD-Hydra-SSH-5-7157.txt  \n",
            "  inflating: Attack_Data_Master/Hydra_SSH_5/UAD-Hydra-SSH-5-7253.txt  \n",
            "  inflating: Attack_Data_Master/Hydra_SSH_5/UAD-Hydra-SSH-5-961.txt  \n",
            "   creating: Attack_Data_Master/Hydra_SSH_6/\n",
            "  inflating: Attack_Data_Master/Hydra_SSH_6/UAD-Hydra-SSH-6-=5738.txt  \n",
            "  inflating: Attack_Data_Master/Hydra_SSH_6/UAD-Hydra-SSH-6-1371.txt  \n",
            "  inflating: Attack_Data_Master/Hydra_SSH_6/UAD-Hydra-SSH-6-1442.txt  \n",
            "  inflating: Attack_Data_Master/Hydra_SSH_6/UAD-Hydra-SSH-6-1613.txt  \n",
            "  inflating: Attack_Data_Master/Hydra_SSH_6/UAD-Hydra-SSH-6-2311.txt  \n",
            "  inflating: Attack_Data_Master/Hydra_SSH_6/UAD-Hydra-SSH-6-2462.txt  \n",
            "  inflating: Attack_Data_Master/Hydra_SSH_6/UAD-Hydra-SSH-6-2783.txt  \n",
            "  inflating: Attack_Data_Master/Hydra_SSH_6/UAD-Hydra-SSH-6-7326.txt  \n",
            "  inflating: Attack_Data_Master/Hydra_SSH_6/UAD-Hydra-SSH-6-7337.txt  \n",
            "  inflating: Attack_Data_Master/Hydra_SSH_6/UAD-Hydra-SSH-6-7392.txt  \n",
            "  inflating: Attack_Data_Master/Hydra_SSH_6/UAD-Hydra-SSH-6-7426.txt  \n",
            "  inflating: Attack_Data_Master/Hydra_SSH_6/UAD-Hydra-SSH-6-7428.txt  \n",
            "  inflating: Attack_Data_Master/Hydra_SSH_6/UAD-Hydra-SSH-6-7434.txt  \n",
            "  inflating: Attack_Data_Master/Hydra_SSH_6/UAD-Hydra-SSH-6-7448.txt  \n",
            "  inflating: Attack_Data_Master/Hydra_SSH_6/UAD-Hydra-SSH-6-7472.txt  \n",
            "  inflating: Attack_Data_Master/Hydra_SSH_6/UAD-Hydra-SSH-6-7501.txt  \n",
            "  inflating: Attack_Data_Master/Hydra_SSH_6/UAD-Hydra-SSH-6-7514.txt  \n",
            "  inflating: Attack_Data_Master/Hydra_SSH_6/UAD-Hydra-SSH-6-7524.txt  \n",
            "  inflating: Attack_Data_Master/Hydra_SSH_6/UAD-Hydra-SSH-6-961.txt  \n",
            "   creating: Attack_Data_Master/Hydra_SSH_7/\n",
            "  inflating: Attack_Data_Master/Hydra_SSH_7/UAD-Hydra-SSH-7-1371.txt  \n",
            "  inflating: Attack_Data_Master/Hydra_SSH_7/UAD-Hydra-SSH-7-1442.txt  \n",
            "  inflating: Attack_Data_Master/Hydra_SSH_7/UAD-Hydra-SSH-7-1613.txt  \n",
            "  inflating: Attack_Data_Master/Hydra_SSH_7/UAD-Hydra-SSH-7-2311.txt  \n",
            "  inflating: Attack_Data_Master/Hydra_SSH_7/UAD-Hydra-SSH-7-2462.txt  \n",
            "  inflating: Attack_Data_Master/Hydra_SSH_7/UAD-Hydra-SSH-7-2783.txt  \n",
            "  inflating: Attack_Data_Master/Hydra_SSH_7/UAD-Hydra-SSH-7-7613.txt  \n",
            "  inflating: Attack_Data_Master/Hydra_SSH_7/UAD-Hydra-SSH-7-7624.txt  \n",
            "  inflating: Attack_Data_Master/Hydra_SSH_7/UAD-Hydra-SSH-7-7684.txt  \n",
            "  inflating: Attack_Data_Master/Hydra_SSH_7/UAD-Hydra-SSH-7-7686.txt  \n",
            "  inflating: Attack_Data_Master/Hydra_SSH_7/UAD-Hydra-SSH-7-7723.txt  \n",
            "   creating: Attack_Data_Master/Hydra_SSH_8/\n",
            "  inflating: Attack_Data_Master/Hydra_SSH_8/UAD-Hydra-SSH-8-=5738.txt  \n",
            "  inflating: Attack_Data_Master/Hydra_SSH_8/UAD-Hydra-SSH-8-1371.txt  \n",
            "  inflating: Attack_Data_Master/Hydra_SSH_8/UAD-Hydra-SSH-8-1442.txt  \n",
            "  inflating: Attack_Data_Master/Hydra_SSH_8/UAD-Hydra-SSH-8-1613.txt  \n",
            "  inflating: Attack_Data_Master/Hydra_SSH_8/UAD-Hydra-SSH-8-2301.txt  \n",
            "  inflating: Attack_Data_Master/Hydra_SSH_8/UAD-Hydra-SSH-8-2311.txt  \n",
            "  inflating: Attack_Data_Master/Hydra_SSH_8/UAD-Hydra-SSH-8-2462.txt  \n",
            "  inflating: Attack_Data_Master/Hydra_SSH_8/UAD-Hydra-SSH-8-2783.txt  \n",
            "  inflating: Attack_Data_Master/Hydra_SSH_8/UAD-Hydra-SSH-8-7820.txt  \n",
            "  inflating: Attack_Data_Master/Hydra_SSH_8/UAD-Hydra-SSH-8-7840.txt  \n",
            "  inflating: Attack_Data_Master/Hydra_SSH_8/UAD-Hydra-SSH-8-7892.txt  \n",
            "  inflating: Attack_Data_Master/Hydra_SSH_8/UAD-Hydra-SSH-8-7933.txt  \n",
            "  inflating: Attack_Data_Master/Hydra_SSH_8/UAD-Hydra-SSH-8-7954.txt  \n",
            "  inflating: Attack_Data_Master/Hydra_SSH_8/UAD-Hydra-SSH-8-7964.txt  \n",
            "  inflating: Attack_Data_Master/Hydra_SSH_8/UAD-Hydra-SSH-8-7971.txt  \n",
            "  inflating: Attack_Data_Master/Hydra_SSH_8/UAD-Hydra-SSH-8-8012.txt  \n",
            "  inflating: Attack_Data_Master/Hydra_SSH_8/UAD-Hydra-SSH-8-8017.txt  \n",
            "  inflating: Attack_Data_Master/Hydra_SSH_8/UAD-Hydra-SSH-8-8052.txt  \n",
            "  inflating: Attack_Data_Master/Hydra_SSH_8/UAD-Hydra-SSH-8-8059.txt  \n",
            "   creating: Attack_Data_Master/Hydra_SSH_9/\n",
            "  inflating: Attack_Data_Master/Hydra_SSH_9/UAD-Hydra-SSH-9-=5738.txt  \n",
            "  inflating: Attack_Data_Master/Hydra_SSH_9/UAD-Hydra-SSH-9-1371.txt  \n",
            "  inflating: Attack_Data_Master/Hydra_SSH_9/UAD-Hydra-SSH-9-1442.txt  \n",
            "  inflating: Attack_Data_Master/Hydra_SSH_9/UAD-Hydra-SSH-9-1613.txt  \n",
            "  inflating: Attack_Data_Master/Hydra_SSH_9/UAD-Hydra-SSH-9-2311.txt  \n",
            "  inflating: Attack_Data_Master/Hydra_SSH_9/UAD-Hydra-SSH-9-2462.txt  \n",
            "  inflating: Attack_Data_Master/Hydra_SSH_9/UAD-Hydra-SSH-9-2783.txt  \n",
            "  inflating: Attack_Data_Master/Hydra_SSH_9/UAD-Hydra-SSH-9-3754.txt  \n",
            "  inflating: Attack_Data_Master/Hydra_SSH_9/UAD-Hydra-SSH-9-8177.txt  \n",
            "  inflating: Attack_Data_Master/Hydra_SSH_9/UAD-Hydra-SSH-9-8188.txt  \n",
            "  inflating: Attack_Data_Master/Hydra_SSH_9/UAD-Hydra-SSH-9-8194.txt  \n",
            "  inflating: Attack_Data_Master/Hydra_SSH_9/UAD-Hydra-SSH-9-8223.txt  \n",
            "  inflating: Attack_Data_Master/Hydra_SSH_9/UAD-Hydra-SSH-9-8235.txt  \n",
            "  inflating: Attack_Data_Master/Hydra_SSH_9/UAD-Hydra-SSH-9-8254.txt  \n",
            "  inflating: Attack_Data_Master/Hydra_SSH_9/UAD-Hydra-SSH-9-8257.txt  \n",
            "  inflating: Attack_Data_Master/Hydra_SSH_9/UAD-Hydra-SSH-9-8258.txt  \n",
            "  inflating: Attack_Data_Master/Hydra_SSH_9/UAD-Hydra-SSH-9-8259.txt  \n",
            "  inflating: Attack_Data_Master/Hydra_SSH_9/UAD-Hydra-SSH-9-8278.txt  \n",
            "  inflating: Attack_Data_Master/Hydra_SSH_9/UAD-Hydra-SSH-9-8303.txt  \n",
            "  inflating: Attack_Data_Master/Hydra_SSH_9/UAD-Hydra-SSH-9-8312.txt  \n",
            "  inflating: Attack_Data_Master/Hydra_SSH_9/UAD-Hydra-SSH-9-8314.txt  \n",
            "  inflating: Attack_Data_Master/Hydra_SSH_9/UAD-Hydra-SSH-9-8315.txt  \n",
            "  inflating: Attack_Data_Master/Hydra_SSH_9/UAD-Hydra-SSH-9-8316.txt  \n",
            "  inflating: Attack_Data_Master/Hydra_SSH_9/UAD-Hydra-SSH-9-8327.txt  \n",
            "  inflating: Attack_Data_Master/Hydra_SSH_9/UAD-Hydra-SSH-9-8334.txt  \n",
            "  inflating: Attack_Data_Master/Hydra_SSH_9/UAD-Hydra-SSH-9-8346.txt  \n",
            "  inflating: Attack_Data_Master/Hydra_SSH_9/UAD-Hydra-SSH-9-8347.txt  \n",
            "  inflating: Attack_Data_Master/Hydra_SSH_9/UAD-Hydra-SSH-9-8360.txt  \n",
            "   creating: Attack_Data_Master/Java_Meterpreter_1/\n",
            "  inflating: Attack_Data_Master/Java_Meterpreter_1/UAD-Java-Meterpreter-1-=1.txt  \n",
            "  inflating: Attack_Data_Master/Java_Meterpreter_1/UAD-Java-Meterpreter-1-1371.txt  \n",
            "  inflating: Attack_Data_Master/Java_Meterpreter_1/UAD-Java-Meterpreter-1-1613.txt  \n",
            "  inflating: Attack_Data_Master/Java_Meterpreter_1/UAD-Java-Meterpreter-1-19425.txt  \n",
            "  inflating: Attack_Data_Master/Java_Meterpreter_1/UAD-Java-Meterpreter-1-19444.txt  \n",
            "  inflating: Attack_Data_Master/Java_Meterpreter_1/UAD-Java-Meterpreter-1-19463.txt  \n",
            "  inflating: Attack_Data_Master/Java_Meterpreter_1/UAD-Java-Meterpreter-1-19479.txt  \n",
            "  inflating: Attack_Data_Master/Java_Meterpreter_1/UAD-Java-Meterpreter-1-2311.txt  \n",
            "  inflating: Attack_Data_Master/Java_Meterpreter_1/UAD-Java-Meterpreter-1-2462.txt  \n",
            "  inflating: Attack_Data_Master/Java_Meterpreter_1/UAD-Java-Meterpreter-1-2783.txt  \n",
            "  inflating: Attack_Data_Master/Java_Meterpreter_1/UAD-Java-Meterpreter-1-961.txt  \n",
            "   creating: Attack_Data_Master/Java_Meterpreter_10/\n",
            "  inflating: Attack_Data_Master/Java_Meterpreter_10/UAD-Java-Meterpreter-10-=1.txt  \n",
            "  inflating: Attack_Data_Master/Java_Meterpreter_10/UAD-Java-Meterpreter-10-1371.txt  \n",
            "  inflating: Attack_Data_Master/Java_Meterpreter_10/UAD-Java-Meterpreter-10-1613.txt  \n",
            "  inflating: Attack_Data_Master/Java_Meterpreter_10/UAD-Java-Meterpreter-10-19826.txt  \n",
            "  inflating: Attack_Data_Master/Java_Meterpreter_10/UAD-Java-Meterpreter-10-19833.txt  \n",
            "  inflating: Attack_Data_Master/Java_Meterpreter_10/UAD-Java-Meterpreter-10-19852.txt  \n",
            "  inflating: Attack_Data_Master/Java_Meterpreter_10/UAD-Java-Meterpreter-10-19880.txt  \n",
            "  inflating: Attack_Data_Master/Java_Meterpreter_10/UAD-Java-Meterpreter-10-19887.txt  \n",
            "  inflating: Attack_Data_Master/Java_Meterpreter_10/UAD-Java-Meterpreter-10-2311.txt  \n",
            "  inflating: Attack_Data_Master/Java_Meterpreter_10/UAD-Java-Meterpreter-10-2377.txt  \n",
            "  inflating: Attack_Data_Master/Java_Meterpreter_10/UAD-Java-Meterpreter-10-2462.txt  \n",
            "  inflating: Attack_Data_Master/Java_Meterpreter_10/UAD-Java-Meterpreter-10-2783.txt  \n",
            "   creating: Attack_Data_Master/Java_Meterpreter_2/\n",
            "  inflating: Attack_Data_Master/Java_Meterpreter_2/UAD-Java-Meterpreter-2-=1.txt  \n",
            "  inflating: Attack_Data_Master/Java_Meterpreter_2/UAD-Java-Meterpreter-2-1371.txt  \n",
            "  inflating: Attack_Data_Master/Java_Meterpreter_2/UAD-Java-Meterpreter-2-1613.txt  \n",
            "  inflating: Attack_Data_Master/Java_Meterpreter_2/UAD-Java-Meterpreter-2-19531.txt  \n",
            "  inflating: Attack_Data_Master/Java_Meterpreter_2/UAD-Java-Meterpreter-2-19544.txt  \n",
            "  inflating: Attack_Data_Master/Java_Meterpreter_2/UAD-Java-Meterpreter-2-19563.txt  \n",
            "  inflating: Attack_Data_Master/Java_Meterpreter_2/UAD-Java-Meterpreter-2-19582.txt  \n",
            "  inflating: Attack_Data_Master/Java_Meterpreter_2/UAD-Java-Meterpreter-2-19598.txt  \n",
            "  inflating: Attack_Data_Master/Java_Meterpreter_2/UAD-Java-Meterpreter-2-2311.txt  \n",
            "  inflating: Attack_Data_Master/Java_Meterpreter_2/UAD-Java-Meterpreter-2-2462.txt  \n",
            "  inflating: Attack_Data_Master/Java_Meterpreter_2/UAD-Java-Meterpreter-2-2783.txt  \n",
            "   creating: Attack_Data_Master/Java_Meterpreter_3/\n",
            "  inflating: Attack_Data_Master/Java_Meterpreter_3/UAD-Java-Meterpreter-3-=1.txt  \n",
            "  inflating: Attack_Data_Master/Java_Meterpreter_3/UAD-Java-Meterpreter-3-1371.txt  \n",
            "  inflating: Attack_Data_Master/Java_Meterpreter_3/UAD-Java-Meterpreter-3-1613.txt  \n",
            "  inflating: Attack_Data_Master/Java_Meterpreter_3/UAD-Java-Meterpreter-3-19676.txt  \n",
            "  inflating: Attack_Data_Master/Java_Meterpreter_3/UAD-Java-Meterpreter-3-19681.txt  \n",
            "  inflating: Attack_Data_Master/Java_Meterpreter_3/UAD-Java-Meterpreter-3-19700.txt  \n",
            "  inflating: Attack_Data_Master/Java_Meterpreter_3/UAD-Java-Meterpreter-3-19719.txt  \n",
            "  inflating: Attack_Data_Master/Java_Meterpreter_3/UAD-Java-Meterpreter-3-19735.txt  \n",
            "  inflating: Attack_Data_Master/Java_Meterpreter_3/UAD-Java-Meterpreter-3-2311.txt  \n",
            "  inflating: Attack_Data_Master/Java_Meterpreter_3/UAD-Java-Meterpreter-3-2462.txt  \n",
            "  inflating: Attack_Data_Master/Java_Meterpreter_3/UAD-Java-Meterpreter-3-2783.txt  \n",
            "  inflating: Attack_Data_Master/Java_Meterpreter_3/UAD-Java-Meterpreter-3-961.txt  \n",
            "   creating: Attack_Data_Master/Java_Meterpreter_4/\n",
            "  inflating: Attack_Data_Master/Java_Meterpreter_4/UAD-Java-Meterpreter-4-=1.txt  \n",
            "  inflating: Attack_Data_Master/Java_Meterpreter_4/UAD-Java-Meterpreter-4-1371.txt  \n",
            "  inflating: Attack_Data_Master/Java_Meterpreter_4/UAD-Java-Meterpreter-4-1613.txt  \n",
            "  inflating: Attack_Data_Master/Java_Meterpreter_4/UAD-Java-Meterpreter-4-20017.txt  \n",
            "  inflating: Attack_Data_Master/Java_Meterpreter_4/UAD-Java-Meterpreter-4-20024.txt  \n",
            "  inflating: Attack_Data_Master/Java_Meterpreter_4/UAD-Java-Meterpreter-4-20043.txt  \n",
            "  inflating: Attack_Data_Master/Java_Meterpreter_4/UAD-Java-Meterpreter-4-20062.txt  \n",
            "  inflating: Attack_Data_Master/Java_Meterpreter_4/UAD-Java-Meterpreter-4-20078.txt  \n",
            "  inflating: Attack_Data_Master/Java_Meterpreter_4/UAD-Java-Meterpreter-4-2311.txt  \n",
            "  inflating: Attack_Data_Master/Java_Meterpreter_4/UAD-Java-Meterpreter-4-2342.txt  \n",
            "  inflating: Attack_Data_Master/Java_Meterpreter_4/UAD-Java-Meterpreter-4-2377.txt  \n",
            "  inflating: Attack_Data_Master/Java_Meterpreter_4/UAD-Java-Meterpreter-4-2462.txt  \n",
            "  inflating: Attack_Data_Master/Java_Meterpreter_4/UAD-Java-Meterpreter-4-2783.txt  \n",
            "   creating: Attack_Data_Master/Java_Meterpreter_5/\n",
            "  inflating: Attack_Data_Master/Java_Meterpreter_5/UAD-Java-Meterpreter-5-=1.txt  \n",
            "  inflating: Attack_Data_Master/Java_Meterpreter_5/UAD-Java-Meterpreter-5-1371.txt  \n",
            "  inflating: Attack_Data_Master/Java_Meterpreter_5/UAD-Java-Meterpreter-5-1613.txt  \n",
            "  inflating: Attack_Data_Master/Java_Meterpreter_5/UAD-Java-Meterpreter-5-20142.txt  \n",
            "  inflating: Attack_Data_Master/Java_Meterpreter_5/UAD-Java-Meterpreter-5-20145.txt  \n",
            "  inflating: Attack_Data_Master/Java_Meterpreter_5/UAD-Java-Meterpreter-5-20164.txt  \n",
            "  inflating: Attack_Data_Master/Java_Meterpreter_5/UAD-Java-Meterpreter-5-20183.txt  \n",
            "  inflating: Attack_Data_Master/Java_Meterpreter_5/UAD-Java-Meterpreter-5-20199.txt  \n",
            "  inflating: Attack_Data_Master/Java_Meterpreter_5/UAD-Java-Meterpreter-5-2311.txt  \n",
            "  inflating: Attack_Data_Master/Java_Meterpreter_5/UAD-Java-Meterpreter-5-2462.txt  \n",
            "  inflating: Attack_Data_Master/Java_Meterpreter_5/UAD-Java-Meterpreter-5-2783.txt  \n",
            "  inflating: Attack_Data_Master/Java_Meterpreter_5/UAD-Java-Meterpreter-5-961.txt  \n",
            "   creating: Attack_Data_Master/Java_Meterpreter_6/\n",
            "  inflating: Attack_Data_Master/Java_Meterpreter_6/UAD-Java-Meterpreter-6-=1.txt  \n",
            "  inflating: Attack_Data_Master/Java_Meterpreter_6/UAD-Java-Meterpreter-6-1371.txt  \n",
            "  inflating: Attack_Data_Master/Java_Meterpreter_6/UAD-Java-Meterpreter-6-1613.txt  \n",
            "  inflating: Attack_Data_Master/Java_Meterpreter_6/UAD-Java-Meterpreter-6-20253.txt  \n",
            "  inflating: Attack_Data_Master/Java_Meterpreter_6/UAD-Java-Meterpreter-6-20256.txt  \n",
            "  inflating: Attack_Data_Master/Java_Meterpreter_6/UAD-Java-Meterpreter-6-20275.txt  \n",
            "  inflating: Attack_Data_Master/Java_Meterpreter_6/UAD-Java-Meterpreter-6-20294.txt  \n",
            "  inflating: Attack_Data_Master/Java_Meterpreter_6/UAD-Java-Meterpreter-6-20310.txt  \n",
            "  inflating: Attack_Data_Master/Java_Meterpreter_6/UAD-Java-Meterpreter-6-2311.txt  \n",
            "  inflating: Attack_Data_Master/Java_Meterpreter_6/UAD-Java-Meterpreter-6-2462.txt  \n",
            "  inflating: Attack_Data_Master/Java_Meterpreter_6/UAD-Java-Meterpreter-6-2783.txt  \n",
            "  inflating: Attack_Data_Master/Java_Meterpreter_6/UAD-Java-Meterpreter-6-961.txt  \n",
            "   creating: Attack_Data_Master/Java_Meterpreter_7/\n",
            "  inflating: Attack_Data_Master/Java_Meterpreter_7/UAD-Java-Meterpreter-7-=1.txt  \n",
            "  inflating: Attack_Data_Master/Java_Meterpreter_7/UAD-Java-Meterpreter-7-1371.txt  \n",
            "  inflating: Attack_Data_Master/Java_Meterpreter_7/UAD-Java-Meterpreter-7-1613.txt  \n",
            "  inflating: Attack_Data_Master/Java_Meterpreter_7/UAD-Java-Meterpreter-7-20347.txt  \n",
            "  inflating: Attack_Data_Master/Java_Meterpreter_7/UAD-Java-Meterpreter-7-20371.txt  \n",
            "  inflating: Attack_Data_Master/Java_Meterpreter_7/UAD-Java-Meterpreter-7-20390.txt  \n",
            "  inflating: Attack_Data_Master/Java_Meterpreter_7/UAD-Java-Meterpreter-7-20409.txt  \n",
            "  inflating: Attack_Data_Master/Java_Meterpreter_7/UAD-Java-Meterpreter-7-20425.txt  \n",
            "  inflating: Attack_Data_Master/Java_Meterpreter_7/UAD-Java-Meterpreter-7-20435.txt  \n",
            "  inflating: Attack_Data_Master/Java_Meterpreter_7/UAD-Java-Meterpreter-7-20447.txt  \n",
            "  inflating: Attack_Data_Master/Java_Meterpreter_7/UAD-Java-Meterpreter-7-2311.txt  \n",
            "  inflating: Attack_Data_Master/Java_Meterpreter_7/UAD-Java-Meterpreter-7-2462.txt  \n",
            "  inflating: Attack_Data_Master/Java_Meterpreter_7/UAD-Java-Meterpreter-7-2783.txt  \n",
            "   creating: Attack_Data_Master/Java_Meterpreter_8/\n",
            "  inflating: Attack_Data_Master/Java_Meterpreter_8/UAD-Java-Meterpreter-8-=1.txt  \n",
            "  inflating: Attack_Data_Master/Java_Meterpreter_8/UAD-Java-Meterpreter-8-1371.txt  \n",
            "  inflating: Attack_Data_Master/Java_Meterpreter_8/UAD-Java-Meterpreter-8-1533.txt  \n",
            "  inflating: Attack_Data_Master/Java_Meterpreter_8/UAD-Java-Meterpreter-8-1613.txt  \n",
            "  inflating: Attack_Data_Master/Java_Meterpreter_8/UAD-Java-Meterpreter-8-20507.txt  \n",
            "  inflating: Attack_Data_Master/Java_Meterpreter_8/UAD-Java-Meterpreter-8-20529.txt  \n",
            "  inflating: Attack_Data_Master/Java_Meterpreter_8/UAD-Java-Meterpreter-8-20548.txt  \n",
            "  inflating: Attack_Data_Master/Java_Meterpreter_8/UAD-Java-Meterpreter-8-20567.txt  \n",
            "  inflating: Attack_Data_Master/Java_Meterpreter_8/UAD-Java-Meterpreter-8-20583.txt  \n",
            "  inflating: Attack_Data_Master/Java_Meterpreter_8/UAD-Java-Meterpreter-8-2311.txt  \n",
            "  inflating: Attack_Data_Master/Java_Meterpreter_8/UAD-Java-Meterpreter-8-2377.txt  \n",
            "  inflating: Attack_Data_Master/Java_Meterpreter_8/UAD-Java-Meterpreter-8-2462.txt  \n",
            "  inflating: Attack_Data_Master/Java_Meterpreter_8/UAD-Java-Meterpreter-8-2783.txt  \n",
            "   creating: Attack_Data_Master/Java_Meterpreter_9/\n",
            "  inflating: Attack_Data_Master/Java_Meterpreter_9/UAD-Java-Meterpreter-9-=1.txt  \n",
            "  inflating: Attack_Data_Master/Java_Meterpreter_9/UAD-Java-Meterpreter-9-1371.txt  \n",
            "  inflating: Attack_Data_Master/Java_Meterpreter_9/UAD-Java-Meterpreter-9-1613.txt  \n",
            "  inflating: Attack_Data_Master/Java_Meterpreter_9/UAD-Java-Meterpreter-9-20674.txt  \n",
            "  inflating: Attack_Data_Master/Java_Meterpreter_9/UAD-Java-Meterpreter-9-20693.txt  \n",
            "  inflating: Attack_Data_Master/Java_Meterpreter_9/UAD-Java-Meterpreter-9-20712.txt  \n",
            "  inflating: Attack_Data_Master/Java_Meterpreter_9/UAD-Java-Meterpreter-9-20720.txt  \n",
            "  inflating: Attack_Data_Master/Java_Meterpreter_9/UAD-Java-Meterpreter-9-20721.txt  \n",
            "  inflating: Attack_Data_Master/Java_Meterpreter_9/UAD-Java-Meterpreter-9-20728.txt  \n",
            "  inflating: Attack_Data_Master/Java_Meterpreter_9/UAD-Java-Meterpreter-9-20730.txt  \n",
            "  inflating: Attack_Data_Master/Java_Meterpreter_9/UAD-Java-Meterpreter-9-20748.txt  \n",
            "  inflating: Attack_Data_Master/Java_Meterpreter_9/UAD-Java-Meterpreter-9-2311.txt  \n",
            "  inflating: Attack_Data_Master/Java_Meterpreter_9/UAD-Java-Meterpreter-9-2462.txt  \n",
            "  inflating: Attack_Data_Master/Java_Meterpreter_9/UAD-Java-Meterpreter-9-2783.txt  \n",
            "  inflating: Attack_Data_Master/Java_Meterpreter_9/UAD-Java-Meterpreter-9-961.txt  \n",
            "   creating: Attack_Data_Master/Meterpreter_1/\n",
            "  inflating: Attack_Data_Master/Meterpreter_1/UAD-Meterpreter-1-1371.txt  \n",
            "  inflating: Attack_Data_Master/Meterpreter_1/UAD-Meterpreter-1-1613.txt  \n",
            "  inflating: Attack_Data_Master/Meterpreter_1/UAD-Meterpreter-1-16391.txt  \n",
            "  inflating: Attack_Data_Master/Meterpreter_1/UAD-Meterpreter-1-2293.txt  \n",
            "  inflating: Attack_Data_Master/Meterpreter_1/UAD-Meterpreter-1-2311.txt  \n",
            "  inflating: Attack_Data_Master/Meterpreter_1/UAD-Meterpreter-1-2462.txt  \n",
            "  inflating: Attack_Data_Master/Meterpreter_1/UAD-Meterpreter-1-2783.txt  \n",
            "   creating: Attack_Data_Master/Meterpreter_10/\n",
            "  inflating: Attack_Data_Master/Meterpreter_10/UAD-Meterpreter-10-1371.txt  \n",
            "  inflating: Attack_Data_Master/Meterpreter_10/UAD-Meterpreter-10-1533.txt  \n",
            "  inflating: Attack_Data_Master/Meterpreter_10/UAD-Meterpreter-10-1613.txt  \n",
            "  inflating: Attack_Data_Master/Meterpreter_10/UAD-Meterpreter-10-17465.txt  \n",
            "  inflating: Attack_Data_Master/Meterpreter_10/UAD-Meterpreter-10-2293.txt  \n",
            "  inflating: Attack_Data_Master/Meterpreter_10/UAD-Meterpreter-10-2311.txt  \n",
            "  inflating: Attack_Data_Master/Meterpreter_10/UAD-Meterpreter-10-2462.txt  \n",
            "  inflating: Attack_Data_Master/Meterpreter_10/UAD-Meterpreter-10-961.txt  \n",
            "   creating: Attack_Data_Master/Meterpreter_2/\n",
            "  inflating: Attack_Data_Master/Meterpreter_2/UAD-Meterpreter-2-1371.txt  \n",
            "  inflating: Attack_Data_Master/Meterpreter_2/UAD-Meterpreter-2-1533.txt  \n",
            "  inflating: Attack_Data_Master/Meterpreter_2/UAD-Meterpreter-2-1613.txt  \n",
            "  inflating: Attack_Data_Master/Meterpreter_2/UAD-Meterpreter-2-16493.txt  \n",
            "  inflating: Attack_Data_Master/Meterpreter_2/UAD-Meterpreter-2-16513.txt  \n",
            "  inflating: Attack_Data_Master/Meterpreter_2/UAD-Meterpreter-2-16592.txt  \n",
            "  inflating: Attack_Data_Master/Meterpreter_2/UAD-Meterpreter-2-2293.txt  \n",
            "  inflating: Attack_Data_Master/Meterpreter_2/UAD-Meterpreter-2-2311.txt  \n",
            "  inflating: Attack_Data_Master/Meterpreter_2/UAD-Meterpreter-2-2462.txt  \n",
            "  inflating: Attack_Data_Master/Meterpreter_2/UAD-Meterpreter-2-2783.txt  \n",
            "   creating: Attack_Data_Master/Meterpreter_3/\n",
            "  inflating: Attack_Data_Master/Meterpreter_3/UAD-Meterpreter-3-=16719.txt  \n",
            "  inflating: Attack_Data_Master/Meterpreter_3/UAD-Meterpreter-3-1371.txt  \n",
            "  inflating: Attack_Data_Master/Meterpreter_3/UAD-Meterpreter-3-1613.txt  \n",
            "  inflating: Attack_Data_Master/Meterpreter_3/UAD-Meterpreter-3-16644.txt  \n",
            "  inflating: Attack_Data_Master/Meterpreter_3/UAD-Meterpreter-3-2293.txt  \n",
            "  inflating: Attack_Data_Master/Meterpreter_3/UAD-Meterpreter-3-2301.txt  \n",
            "  inflating: Attack_Data_Master/Meterpreter_3/UAD-Meterpreter-3-2311.txt  \n",
            "  inflating: Attack_Data_Master/Meterpreter_3/UAD-Meterpreter-3-2462.txt  \n",
            "   creating: Attack_Data_Master/Meterpreter_4/\n",
            "  inflating: Attack_Data_Master/Meterpreter_4/UAD-Meterpreter-4-1371.txt  \n",
            "  inflating: Attack_Data_Master/Meterpreter_4/UAD-Meterpreter-4-1613.txt  \n",
            "  inflating: Attack_Data_Master/Meterpreter_4/UAD-Meterpreter-4-16801.txt  \n",
            "  inflating: Attack_Data_Master/Meterpreter_4/UAD-Meterpreter-4-2293.txt  \n",
            "  inflating: Attack_Data_Master/Meterpreter_4/UAD-Meterpreter-4-2311.txt  \n",
            "  inflating: Attack_Data_Master/Meterpreter_4/UAD-Meterpreter-4-2462.txt  \n",
            "   creating: Attack_Data_Master/Meterpreter_5/\n",
            "  inflating: Attack_Data_Master/Meterpreter_5/UAD-Meterpreter-5-1371.txt  \n",
            "  inflating: Attack_Data_Master/Meterpreter_5/UAD-Meterpreter-5-1613.txt  \n",
            "  inflating: Attack_Data_Master/Meterpreter_5/UAD-Meterpreter-5-16878.txt  \n",
            "  inflating: Attack_Data_Master/Meterpreter_5/UAD-Meterpreter-5-2311.txt  \n",
            "  inflating: Attack_Data_Master/Meterpreter_5/UAD-Meterpreter-5-2462.txt  \n",
            "   creating: Attack_Data_Master/Meterpreter_6/\n",
            "  inflating: Attack_Data_Master/Meterpreter_6/UAD-Meterpreter-6-1371.txt  \n",
            "  inflating: Attack_Data_Master/Meterpreter_6/UAD-Meterpreter-6-1533.txt  \n",
            "  inflating: Attack_Data_Master/Meterpreter_6/UAD-Meterpreter-6-1613.txt  \n",
            "  inflating: Attack_Data_Master/Meterpreter_6/UAD-Meterpreter-6-16991.txt  \n",
            "  inflating: Attack_Data_Master/Meterpreter_6/UAD-Meterpreter-6-17027.txt  \n",
            "  inflating: Attack_Data_Master/Meterpreter_6/UAD-Meterpreter-6-17041.txt  \n",
            "  inflating: Attack_Data_Master/Meterpreter_6/UAD-Meterpreter-6-17044.txt  \n",
            "  inflating: Attack_Data_Master/Meterpreter_6/UAD-Meterpreter-6-17082.txt  \n",
            "  inflating: Attack_Data_Master/Meterpreter_6/UAD-Meterpreter-6-2293.txt  \n",
            "  inflating: Attack_Data_Master/Meterpreter_6/UAD-Meterpreter-6-2311.txt  \n",
            "  inflating: Attack_Data_Master/Meterpreter_6/UAD-Meterpreter-6-2462.txt  \n",
            "  inflating: Attack_Data_Master/Meterpreter_6/UAD-Meterpreter-6-2783.txt  \n",
            "  inflating: Attack_Data_Master/Meterpreter_6/UAD-Meterpreter-6-961.txt  \n",
            "   creating: Attack_Data_Master/Meterpreter_7/\n",
            "  inflating: Attack_Data_Master/Meterpreter_7/UAD-Meterpreter-7-1371.txt  \n",
            "  inflating: Attack_Data_Master/Meterpreter_7/UAD-Meterpreter-7-1613.txt  \n",
            "  inflating: Attack_Data_Master/Meterpreter_7/UAD-Meterpreter-7-17144.txt  \n",
            "  inflating: Attack_Data_Master/Meterpreter_7/UAD-Meterpreter-7-2293.txt  \n",
            "  inflating: Attack_Data_Master/Meterpreter_7/UAD-Meterpreter-7-2311.txt  \n",
            "  inflating: Attack_Data_Master/Meterpreter_7/UAD-Meterpreter-7-2462.txt  \n",
            "   creating: Attack_Data_Master/Meterpreter_8/\n",
            "  inflating: Attack_Data_Master/Meterpreter_8/UAD-Meterpreter-8-1371.txt  \n",
            "  inflating: Attack_Data_Master/Meterpreter_8/UAD-Meterpreter-8-1613.txt  \n",
            "  inflating: Attack_Data_Master/Meterpreter_8/UAD-Meterpreter-8-17243.txt  \n",
            "  inflating: Attack_Data_Master/Meterpreter_8/UAD-Meterpreter-8-2293.txt  \n",
            "  inflating: Attack_Data_Master/Meterpreter_8/UAD-Meterpreter-8-2311.txt  \n",
            "  inflating: Attack_Data_Master/Meterpreter_8/UAD-Meterpreter-8-2462.txt  \n",
            "  inflating: Attack_Data_Master/Meterpreter_8/UAD-Meterpreter-8-2783.txt  \n",
            "   creating: Attack_Data_Master/Meterpreter_9/\n",
            "  inflating: Attack_Data_Master/Meterpreter_9/UAD-Meterpreter-9-1371.txt  \n",
            "  inflating: Attack_Data_Master/Meterpreter_9/UAD-Meterpreter-9-1613.txt  \n",
            "  inflating: Attack_Data_Master/Meterpreter_9/UAD-Meterpreter-9-17366.txt  \n",
            "  inflating: Attack_Data_Master/Meterpreter_9/UAD-Meterpreter-9-2311.txt  \n",
            "  inflating: Attack_Data_Master/Meterpreter_9/UAD-Meterpreter-9-2462.txt  \n",
            "   creating: Attack_Data_Master/Web_Shell_1/\n",
            "  inflating: Attack_Data_Master/Web_Shell_1/UAD-WS1-1371.txt  \n",
            "  inflating: Attack_Data_Master/Web_Shell_1/UAD-WS1-1613.txt  \n",
            "  inflating: Attack_Data_Master/Web_Shell_1/UAD-WS1-2311.txt  \n",
            "  inflating: Attack_Data_Master/Web_Shell_1/UAD-WS1-2462.txt  \n",
            "  inflating: Attack_Data_Master/Web_Shell_1/UAD-WS1-2783.txt  \n",
            "  inflating: Attack_Data_Master/Web_Shell_1/UAD-WS1-4555.txt  \n",
            "  inflating: Attack_Data_Master/Web_Shell_1/UAD-WS1-4557.txt  \n",
            "  inflating: Attack_Data_Master/Web_Shell_1/UAD-WS1-4563.txt  \n",
            "  inflating: Attack_Data_Master/Web_Shell_1/UAD-WS1-4564.txt  \n",
            "  inflating: Attack_Data_Master/Web_Shell_1/UAD-WS1-4566.txt  \n",
            "  inflating: Attack_Data_Master/Web_Shell_1/UAD-WS1-4568.txt  \n",
            "  inflating: Attack_Data_Master/Web_Shell_1/UAD-WS1-4569.txt  \n",
            "  inflating: Attack_Data_Master/Web_Shell_1/UAD-WS1-4605.txt  \n",
            "  inflating: Attack_Data_Master/Web_Shell_1/UAD-WS1-961.txt  \n",
            "   creating: Attack_Data_Master/Web_Shell_10/\n",
            "  inflating: Attack_Data_Master/Web_Shell_10/UAD-WS10-1083.txt  \n",
            "  inflating: Attack_Data_Master/Web_Shell_10/UAD-WS10-1086.txt  \n",
            "  inflating: Attack_Data_Master/Web_Shell_10/UAD-WS10-1371.txt  \n",
            "  inflating: Attack_Data_Master/Web_Shell_10/UAD-WS10-1613.txt  \n",
            "  inflating: Attack_Data_Master/Web_Shell_10/UAD-WS10-2301.txt  \n",
            "  inflating: Attack_Data_Master/Web_Shell_10/UAD-WS10-2311.txt  \n",
            "  inflating: Attack_Data_Master/Web_Shell_10/UAD-WS10-2424.txt  \n",
            "  inflating: Attack_Data_Master/Web_Shell_10/UAD-WS10-2487.txt  \n",
            "  inflating: Attack_Data_Master/Web_Shell_10/UAD-WS10-2783.txt  \n",
            "  inflating: Attack_Data_Master/Web_Shell_10/UAD-WS10-3754.txt  \n",
            "  inflating: Attack_Data_Master/Web_Shell_10/UAD-WS10-3766.txt  \n",
            "  inflating: Attack_Data_Master/Web_Shell_10/UAD-WS10-4548.txt  \n",
            "  inflating: Attack_Data_Master/Web_Shell_10/UAD-WS10-4953.txt  \n",
            "  inflating: Attack_Data_Master/Web_Shell_10/UAD-WS10-5314.txt  \n",
            "  inflating: Attack_Data_Master/Web_Shell_10/UAD-WS10-5657.txt  \n",
            "  inflating: Attack_Data_Master/Web_Shell_10/UAD-WS10-961.txt  \n",
            "   creating: Attack_Data_Master/Web_Shell_2/\n",
            "  inflating: Attack_Data_Master/Web_Shell_2/UAD-WS2-1371.txt  \n",
            "  inflating: Attack_Data_Master/Web_Shell_2/UAD-WS2-1613.txt  \n",
            "  inflating: Attack_Data_Master/Web_Shell_2/UAD-WS2-2311.txt  \n",
            "  inflating: Attack_Data_Master/Web_Shell_2/UAD-WS2-2462.txt  \n",
            "  inflating: Attack_Data_Master/Web_Shell_2/UAD-WS2-2783.txt  \n",
            "  inflating: Attack_Data_Master/Web_Shell_2/UAD-WS2-4568.txt  \n",
            "  inflating: Attack_Data_Master/Web_Shell_2/UAD-WS2-4569.txt  \n",
            "  inflating: Attack_Data_Master/Web_Shell_2/UAD-WS2-4605.txt  \n",
            "  inflating: Attack_Data_Master/Web_Shell_2/UAD-WS2-4609.txt  \n",
            "  inflating: Attack_Data_Master/Web_Shell_2/UAD-WS2-4620.txt  \n",
            "  inflating: Attack_Data_Master/Web_Shell_2/UAD-WS2-4731.txt  \n",
            "  inflating: Attack_Data_Master/Web_Shell_2/UAD-WS2-4767.txt  \n",
            "  inflating: Attack_Data_Master/Web_Shell_2/UAD-WS2-961.txt  \n",
            "   creating: Attack_Data_Master/Web_Shell_3/\n",
            "  inflating: Attack_Data_Master/Web_Shell_3/UAD-WS3-1371.txt  \n",
            "  inflating: Attack_Data_Master/Web_Shell_3/UAD-WS3-1613.txt  \n",
            "  inflating: Attack_Data_Master/Web_Shell_3/UAD-WS3-2311.txt  \n",
            "  inflating: Attack_Data_Master/Web_Shell_3/UAD-WS3-2462.txt  \n",
            "  inflating: Attack_Data_Master/Web_Shell_3/UAD-WS3-2783.txt  \n",
            "  inflating: Attack_Data_Master/Web_Shell_3/UAD-WS3-4810.txt  \n",
            "  inflating: Attack_Data_Master/Web_Shell_3/UAD-WS3-961.txt  \n",
            "   creating: Attack_Data_Master/Web_Shell_4/\n",
            "  inflating: Attack_Data_Master/Web_Shell_4/UAD-WS4-1371.txt  \n",
            "  inflating: Attack_Data_Master/Web_Shell_4/UAD-WS4-1613.txt  \n",
            "  inflating: Attack_Data_Master/Web_Shell_4/UAD-WS4-2311.txt  \n",
            "  inflating: Attack_Data_Master/Web_Shell_4/UAD-WS4-2462.txt  \n",
            "  inflating: Attack_Data_Master/Web_Shell_4/UAD-WS4-2783.txt  \n",
            "  inflating: Attack_Data_Master/Web_Shell_4/UAD-WS4-4609.txt  \n",
            "  inflating: Attack_Data_Master/Web_Shell_4/UAD-WS4-4753.txt  \n",
            "  inflating: Attack_Data_Master/Web_Shell_4/UAD-WS4-4872.txt  \n",
            "  inflating: Attack_Data_Master/Web_Shell_4/UAD-WS4-4883.txt  \n",
            "  inflating: Attack_Data_Master/Web_Shell_4/UAD-WS4-961.txt  \n",
            "   creating: Attack_Data_Master/Web_Shell_5/\n",
            "  inflating: Attack_Data_Master/Web_Shell_5/UAD-WS5-1371.txt  \n",
            "  inflating: Attack_Data_Master/Web_Shell_5/UAD-WS5-1613.txt  \n",
            "  inflating: Attack_Data_Master/Web_Shell_5/UAD-WS5-2311.txt  \n",
            "  inflating: Attack_Data_Master/Web_Shell_5/UAD-WS5-2377.txt  \n",
            "  inflating: Attack_Data_Master/Web_Shell_5/UAD-WS5-2462.txt  \n",
            "  inflating: Attack_Data_Master/Web_Shell_5/UAD-WS5-2783.txt  \n",
            "  inflating: Attack_Data_Master/Web_Shell_5/UAD-WS5-5029.txt  \n",
            "  inflating: Attack_Data_Master/Web_Shell_5/UAD-WS5-5047.txt  \n",
            "  inflating: Attack_Data_Master/Web_Shell_5/UAD-WS5-961.txt  \n",
            "   creating: Attack_Data_Master/Web_Shell_6/\n",
            "  inflating: Attack_Data_Master/Web_Shell_6/UAD-WS6-1371.txt  \n",
            "  inflating: Attack_Data_Master/Web_Shell_6/UAD-WS6-1613.txt  \n",
            "  inflating: Attack_Data_Master/Web_Shell_6/UAD-WS6-2311.txt  \n",
            "  inflating: Attack_Data_Master/Web_Shell_6/UAD-WS6-2462.txt  \n",
            "  inflating: Attack_Data_Master/Web_Shell_6/UAD-WS6-2783.txt  \n",
            "  inflating: Attack_Data_Master/Web_Shell_6/UAD-WS6-4750.txt  \n",
            "  inflating: Attack_Data_Master/Web_Shell_6/UAD-WS6-4953.txt  \n",
            "  inflating: Attack_Data_Master/Web_Shell_6/UAD-WS6-5153.txt  \n",
            "  inflating: Attack_Data_Master/Web_Shell_6/UAD-WS6-5164.txt  \n",
            "  inflating: Attack_Data_Master/Web_Shell_6/UAD-WS6-5189.txt  \n",
            "  inflating: Attack_Data_Master/Web_Shell_6/UAD-WS6-961.txt  \n",
            "   creating: Attack_Data_Master/Web_Shell_7/\n",
            "  inflating: Attack_Data_Master/Web_Shell_7/UAD-WS7-1371.txt  \n",
            "  inflating: Attack_Data_Master/Web_Shell_7/UAD-WS7-1613.txt  \n",
            "  inflating: Attack_Data_Master/Web_Shell_7/UAD-WS7-2311.txt  \n",
            "  inflating: Attack_Data_Master/Web_Shell_7/UAD-WS7-2462.txt  \n",
            "  inflating: Attack_Data_Master/Web_Shell_7/UAD-WS7-2783.txt  \n",
            "  inflating: Attack_Data_Master/Web_Shell_7/UAD-WS7-3754.txt  \n",
            "  inflating: Attack_Data_Master/Web_Shell_7/UAD-WS7-4548.txt  \n",
            "  inflating: Attack_Data_Master/Web_Shell_7/UAD-WS7-4568.txt  \n",
            "  inflating: Attack_Data_Master/Web_Shell_7/UAD-WS7-4751.txt  \n",
            "  inflating: Attack_Data_Master/Web_Shell_7/UAD-WS7-5251.txt  \n",
            "  inflating: Attack_Data_Master/Web_Shell_7/UAD-WS7-5262.txt  \n",
            "  inflating: Attack_Data_Master/Web_Shell_7/UAD-WS7-5314.txt  \n",
            "  inflating: Attack_Data_Master/Web_Shell_7/UAD-WS7-5317.txt  \n",
            "  inflating: Attack_Data_Master/Web_Shell_7/UAD-WS7-961.txt  \n",
            "   creating: Attack_Data_Master/Web_Shell_8/\n",
            "  inflating: Attack_Data_Master/Web_Shell_8/UAD-WS8-1086.txt  \n",
            "  inflating: Attack_Data_Master/Web_Shell_8/UAD-WS8-1371.txt  \n",
            "  inflating: Attack_Data_Master/Web_Shell_8/UAD-WS8-1613.txt  \n",
            "  inflating: Attack_Data_Master/Web_Shell_8/UAD-WS8-2311.txt  \n",
            "  inflating: Attack_Data_Master/Web_Shell_8/UAD-WS8-2424.txt  \n",
            "  inflating: Attack_Data_Master/Web_Shell_8/UAD-WS8-2462.txt  \n",
            "  inflating: Attack_Data_Master/Web_Shell_8/UAD-WS8-2487.txt  \n",
            "  inflating: Attack_Data_Master/Web_Shell_8/UAD-WS8-2783.txt  \n",
            "  inflating: Attack_Data_Master/Web_Shell_8/UAD-WS8-3754.txt  \n",
            "  inflating: Attack_Data_Master/Web_Shell_8/UAD-WS8-4548.txt  \n",
            "  inflating: Attack_Data_Master/Web_Shell_8/UAD-WS8-5426.txt  \n",
            "  inflating: Attack_Data_Master/Web_Shell_8/UAD-WS8-5437.txt  \n",
            "  inflating: Attack_Data_Master/Web_Shell_8/UAD-WS8-961.txt  \n",
            "   creating: Attack_Data_Master/Web_Shell_9/\n",
            "  inflating: Attack_Data_Master/Web_Shell_9/UAD-WS9-1371.txt  \n",
            "  inflating: Attack_Data_Master/Web_Shell_9/UAD-WS9-1613.txt  \n",
            "  inflating: Attack_Data_Master/Web_Shell_9/UAD-WS9-2311.txt  \n",
            "  inflating: Attack_Data_Master/Web_Shell_9/UAD-WS9-2462.txt  \n",
            "  inflating: Attack_Data_Master/Web_Shell_9/UAD-WS9-2783.txt  \n",
            "  inflating: Attack_Data_Master/Web_Shell_9/UAD-WS9-4569.txt  \n",
            "  inflating: Attack_Data_Master/Web_Shell_9/UAD-WS9-4955.txt  \n",
            "  inflating: Attack_Data_Master/Web_Shell_9/UAD-WS9-5314.txt  \n",
            "  inflating: Attack_Data_Master/Web_Shell_9/UAD-WS9-5318.txt  \n",
            "  inflating: Attack_Data_Master/Web_Shell_9/UAD-WS9-5539.txt  \n",
            "  inflating: Attack_Data_Master/Web_Shell_9/UAD-WS9-961.txt  \n"
          ],
          "name": "stdout"
        }
      ]
    },
    {
      "cell_type": "code",
      "metadata": {
        "id": "zFlf8Bb8qquc"
      },
      "source": [
        "from glob import glob\n",
        "import os\n",
        "train_dir = 'Training_Data_Master/'\n",
        "test_dir  = 'Attack_Data_Master/'\n",
        "\n",
        "# Read data in a dataframe\n",
        "def read_in_data(path, is_normal = 1): \n",
        "  list_of_dataframes = []\n",
        "  if is_normal == 1:\n",
        "    for filename in os.listdir(path): # iterate through all label folders in a directory [buildings, forest, glacier, mountain, sea, street]\n",
        "        data = pd.read_csv(path+filename, sep=' ', header=None)\n",
        "        list_of_dataframes.append(data.stack())\n",
        "    \n",
        "  else:\n",
        "    for folder in os.listdir(path): # iterate through all label folders in a directory [buildings, forest, glacier, mountain, sea, street]\n",
        "      files = glob(str(path + folder +\"/*.txt\"), recursive=False) # get a list of jpg files from each label folder \n",
        "      for filename in files: \n",
        "        data = pd.read_csv(filename, sep=' ', header=None)\n",
        "        list_of_dataframes.append(data.stack())\n",
        "\n",
        "  df = pd.concat(list_of_dataframes)\n",
        "  df = df.astype('int32')\n",
        "  df = pd.DataFrame(df)\n",
        "  return df   "
      ],
      "execution_count": 6,
      "outputs": []
    },
    {
      "cell_type": "code",
      "metadata": {
        "colab": {
          "base_uri": "https://localhost:8080/",
          "height": 212
        },
        "id": "MMCrttJsQQnJ",
        "outputId": "44622aed-a81c-4963-af79-68f4c7814d1c"
      },
      "source": [
        "# Trainning set\n",
        "train = read_in_data(train_dir)\n",
        "train.rename(columns={0:'Syscall'}, inplace=True)\n",
        "train = train.droplevel(level=0, axis = 0)\n",
        "print('Normal training data size:', train.shape)\n",
        "train.head(5)"
      ],
      "execution_count": 4,
      "outputs": [
        {
          "output_type": "stream",
          "text": [
            "Normal training data size: (308077, 1)\n"
          ],
          "name": "stdout"
        },
        {
          "output_type": "execute_result",
          "data": {
            "text/html": [
              "<div>\n",
              "<style scoped>\n",
              "    .dataframe tbody tr th:only-of-type {\n",
              "        vertical-align: middle;\n",
              "    }\n",
              "\n",
              "    .dataframe tbody tr th {\n",
              "        vertical-align: top;\n",
              "    }\n",
              "\n",
              "    .dataframe thead th {\n",
              "        text-align: right;\n",
              "    }\n",
              "</style>\n",
              "<table border=\"1\" class=\"dataframe\">\n",
              "  <thead>\n",
              "    <tr style=\"text-align: right;\">\n",
              "      <th></th>\n",
              "      <th>Syscall</th>\n",
              "    </tr>\n",
              "  </thead>\n",
              "  <tbody>\n",
              "    <tr>\n",
              "      <th>0</th>\n",
              "      <td>6</td>\n",
              "    </tr>\n",
              "    <tr>\n",
              "      <th>1</th>\n",
              "      <td>174</td>\n",
              "    </tr>\n",
              "    <tr>\n",
              "      <th>2</th>\n",
              "      <td>175</td>\n",
              "    </tr>\n",
              "    <tr>\n",
              "      <th>3</th>\n",
              "      <td>195</td>\n",
              "    </tr>\n",
              "    <tr>\n",
              "      <th>4</th>\n",
              "      <td>195</td>\n",
              "    </tr>\n",
              "  </tbody>\n",
              "</table>\n",
              "</div>"
            ],
            "text/plain": [
              "   Syscall\n",
              "0        6\n",
              "1      174\n",
              "2      175\n",
              "3      195\n",
              "4      195"
            ]
          },
          "metadata": {
            "tags": []
          },
          "execution_count": 4
        }
      ]
    },
    {
      "cell_type": "code",
      "metadata": {
        "colab": {
          "base_uri": "https://localhost:8080/",
          "height": 212
        },
        "id": "m8TEn4b-N6Cx",
        "outputId": "38dfd3bc-a8fe-48fd-8aa1-331088ed10e0"
      },
      "source": [
        "# Testing set\n",
        "test = read_in_data(test_dir, is_normal = 0)\n",
        "test.rename(columns={0:'Syscall'}, inplace=True)\n",
        "test = test.droplevel(level=0, axis = 0)\n",
        "print('Intrusion Testing data size:', test.shape)\n",
        "test.head(5)"
      ],
      "execution_count": 5,
      "outputs": [
        {
          "output_type": "stream",
          "text": [
            "Intrusion Testing data size: (317388, 1)\n"
          ],
          "name": "stdout"
        },
        {
          "output_type": "execute_result",
          "data": {
            "text/html": [
              "<div>\n",
              "<style scoped>\n",
              "    .dataframe tbody tr th:only-of-type {\n",
              "        vertical-align: middle;\n",
              "    }\n",
              "\n",
              "    .dataframe tbody tr th {\n",
              "        vertical-align: top;\n",
              "    }\n",
              "\n",
              "    .dataframe thead th {\n",
              "        text-align: right;\n",
              "    }\n",
              "</style>\n",
              "<table border=\"1\" class=\"dataframe\">\n",
              "  <thead>\n",
              "    <tr style=\"text-align: right;\">\n",
              "      <th></th>\n",
              "      <th>Syscall</th>\n",
              "    </tr>\n",
              "  </thead>\n",
              "  <tbody>\n",
              "    <tr>\n",
              "      <th>0</th>\n",
              "      <td>4</td>\n",
              "    </tr>\n",
              "    <tr>\n",
              "      <th>1</th>\n",
              "      <td>4</td>\n",
              "    </tr>\n",
              "    <tr>\n",
              "      <th>2</th>\n",
              "      <td>78</td>\n",
              "    </tr>\n",
              "    <tr>\n",
              "      <th>3</th>\n",
              "      <td>240</td>\n",
              "    </tr>\n",
              "    <tr>\n",
              "      <th>4</th>\n",
              "      <td>240</td>\n",
              "    </tr>\n",
              "  </tbody>\n",
              "</table>\n",
              "</div>"
            ],
            "text/plain": [
              "   Syscall\n",
              "0        4\n",
              "1        4\n",
              "2       78\n",
              "3      240\n",
              "4      240"
            ]
          },
          "metadata": {
            "tags": []
          },
          "execution_count": 5
        }
      ]
    },
    {
      "cell_type": "markdown",
      "metadata": {
        "id": "RE-KOfLEESHE"
      },
      "source": [
        "## **EDA - Histogram of original data**\n",
        "\n"
      ]
    },
    {
      "cell_type": "code",
      "metadata": {
        "colab": {
          "base_uri": "https://localhost:8080/",
          "height": 430
        },
        "id": "z-ze-8EJlT1V",
        "outputId": "494b68cc-14a0-4fbe-c514-379396ceae8a"
      },
      "source": [
        "plt.figure(figsize=(20,6))\n",
        "plt.hist(train['Syscall'], label='Normal', alpha=0.6, density=True)\n",
        "plt.hist(test['Syscall'], label='Intrusion', color='tomato', alpha=0.6, density=True)\n",
        "plt.legend()\n",
        "plt.ylabel('Proportions')\n",
        "plt.xlabel('Syscall num')\n",
        "plt.grid(axis='y', alpha=0.75)\n",
        "plt.title('An Overlaid Histogram of Syscall Proportions in Normal and Intrusion Data from ' + DATA,y=1.02, fontsize=15)"
      ],
      "execution_count": 7,
      "outputs": [
        {
          "output_type": "execute_result",
          "data": {
            "text/plain": [
              "Text(0.5, 1.02, 'An Overlaid Histogram of Syscall Proportions in Normal and Intrusion Data from ADFA-LD')"
            ]
          },
          "metadata": {
            "tags": []
          },
          "execution_count": 7
        },
        {
          "output_type": "display_data",
          "data": {
            "image/png": "[encoded data removed]",
            "text/plain": [
              "<Figure size 1440x432 with 1 Axes>"
            ]
          },
          "metadata": {
            "tags": [],
            "needs_background": "light"
          }
        }
      ]
    },
    {
      "cell_type": "code",
      "metadata": {
        "colab": {
          "base_uri": "https://localhost:8080/"
        },
        "id": "bxD6OKUIRn33",
        "outputId": "e1df30e4-0195-4daf-910f-ba0527f230bd"
      },
      "source": [
        "import nltk\n",
        "nltk.download(\"popular\")"
      ],
      "execution_count": 8,
      "outputs": [
        {
          "output_type": "stream",
          "text": [
            "[nltk_data] Downloading collection 'popular'\n",
            "[nltk_data]    | \n",
            "[nltk_data]    | Downloading package cmudict to /root/nltk_data...\n",
            "[nltk_data]    |   Unzipping corpora/cmudict.zip.\n",
            "[nltk_data]    | Downloading package gazetteers to /root/nltk_data...\n",
            "[nltk_data]    |   Unzipping corpora/gazetteers.zip.\n",
            "[nltk_data]    | Downloading package genesis to /root/nltk_data...\n",
            "[nltk_data]    |   Unzipping corpora/genesis.zip.\n",
            "[nltk_data]    | Downloading package gutenberg to /root/nltk_data...\n",
            "[nltk_data]    |   Unzipping corpora/gutenberg.zip.\n",
            "[nltk_data]    | Downloading package inaugural to /root/nltk_data...\n",
            "[nltk_data]    |   Unzipping corpora/inaugural.zip.\n",
            "[nltk_data]    | Downloading package movie_reviews to\n",
            "[nltk_data]    |     /root/nltk_data...\n",
            "[nltk_data]    |   Unzipping corpora/movie_reviews.zip.\n",
            "[nltk_data]    | Downloading package names to /root/nltk_data...\n",
            "[nltk_data]    |   Unzipping corpora/names.zip.\n",
            "[nltk_data]    | Downloading package shakespeare to /root/nltk_data...\n",
            "[nltk_data]    |   Unzipping corpora/shakespeare.zip.\n",
            "[nltk_data]    | Downloading package stopwords to /root/nltk_data...\n",
            "[nltk_data]    |   Unzipping corpora/stopwords.zip.\n",
            "[nltk_data]    | Downloading package treebank to /root/nltk_data...\n",
            "[nltk_data]    |   Unzipping corpora/treebank.zip.\n",
            "[nltk_data]    | Downloading package twitter_samples to\n",
            "[nltk_data]    |     /root/nltk_data...\n",
            "[nltk_data]    |   Unzipping corpora/twitter_samples.zip.\n",
            "[nltk_data]    | Downloading package omw to /root/nltk_data...\n",
            "[nltk_data]    |   Unzipping corpora/omw.zip.\n",
            "[nltk_data]    | Downloading package wordnet to /root/nltk_data...\n",
            "[nltk_data]    |   Unzipping corpora/wordnet.zip.\n",
            "[nltk_data]    | Downloading package wordnet_ic to /root/nltk_data...\n",
            "[nltk_data]    |   Unzipping corpora/wordnet_ic.zip.\n",
            "[nltk_data]    | Downloading package words to /root/nltk_data...\n",
            "[nltk_data]    |   Unzipping corpora/words.zip.\n",
            "[nltk_data]    | Downloading package maxent_ne_chunker to\n",
            "[nltk_data]    |     /root/nltk_data...\n",
            "[nltk_data]    |   Unzipping chunkers/maxent_ne_chunker.zip.\n",
            "[nltk_data]    | Downloading package punkt to /root/nltk_data...\n",
            "[nltk_data]    |   Unzipping tokenizers/punkt.zip.\n",
            "[nltk_data]    | Downloading package snowball_data to\n",
            "[nltk_data]    |     /root/nltk_data...\n",
            "[nltk_data]    | Downloading package averaged_perceptron_tagger to\n",
            "[nltk_data]    |     /root/nltk_data...\n",
            "[nltk_data]    |   Unzipping taggers/averaged_perceptron_tagger.zip.\n",
            "[nltk_data]    | \n",
            "[nltk_data]  Done downloading collection popular\n"
          ],
          "name": "stdout"
        },
        {
          "output_type": "execute_result",
          "data": {
            "text/plain": [
              "True"
            ]
          },
          "metadata": {
            "tags": []
          },
          "execution_count": 8
        }
      ]
    },
    {
      "cell_type": "code",
      "metadata": {
        "id": "RUuNTl8PaMoY"
      },
      "source": [
        "## Tokenizing syscall sequences into n-grams of 6\n",
        "\n",
        "from nltk.tokenize import word_tokenize\n",
        "from nltk import ngrams\n",
        "\n",
        "def process_data(df):\n",
        "  ## Convert elements in Syscall col into string of NORMAL sequence\n",
        "  syscall_names = df.to_string(columns = ['Syscall'], index=False, header = False)\n",
        "\n",
        "  token = word_tokenize(syscall_names)  # Tokenize the string of sequence\n",
        "\n",
        "  # Parse the sequence into length of 6\n",
        "  sequence_list = list(nltk.ngrams(token,6))\n",
        "\n",
        "  df_sequence = pd.DataFrame(sequence_list)\n",
        "  df = df_sequence.astype('int32')\n",
        "  return df"
      ],
      "execution_count": 9,
      "outputs": []
    },
    {
      "cell_type": "code",
      "metadata": {
        "colab": {
          "base_uri": "https://localhost:8080/",
          "height": 212
        },
        "id": "sV8ZinEFb0aS",
        "outputId": "5204d460-6fb6-4e14-ca9f-bb055259c0b2"
      },
      "source": [
        "train = process_data(train)\n",
        "print(train.shape)\n",
        "train.head(5)"
      ],
      "execution_count": 10,
      "outputs": [
        {
          "output_type": "stream",
          "text": [
            "(308072, 6)\n"
          ],
          "name": "stdout"
        },
        {
          "output_type": "execute_result",
          "data": {
            "text/html": [
              "<div>\n",
              "<style scoped>\n",
              "    .dataframe tbody tr th:only-of-type {\n",
              "        vertical-align: middle;\n",
              "    }\n",
              "\n",
              "    .dataframe tbody tr th {\n",
              "        vertical-align: top;\n",
              "    }\n",
              "\n",
              "    .dataframe thead th {\n",
              "        text-align: right;\n",
              "    }\n",
              "</style>\n",
              "<table border=\"1\" class=\"dataframe\">\n",
              "  <thead>\n",
              "    <tr style=\"text-align: right;\">\n",
              "      <th></th>\n",
              "      <th>0</th>\n",
              "      <th>1</th>\n",
              "      <th>2</th>\n",
              "      <th>3</th>\n",
              "      <th>4</th>\n",
              "      <th>5</th>\n",
              "    </tr>\n",
              "  </thead>\n",
              "  <tbody>\n",
              "    <tr>\n",
              "      <th>0</th>\n",
              "      <td>6</td>\n",
              "      <td>174</td>\n",
              "      <td>175</td>\n",
              "      <td>195</td>\n",
              "      <td>195</td>\n",
              "      <td>11</td>\n",
              "    </tr>\n",
              "    <tr>\n",
              "      <th>1</th>\n",
              "      <td>174</td>\n",
              "      <td>175</td>\n",
              "      <td>195</td>\n",
              "      <td>195</td>\n",
              "      <td>11</td>\n",
              "      <td>33</td>\n",
              "    </tr>\n",
              "    <tr>\n",
              "      <th>2</th>\n",
              "      <td>175</td>\n",
              "      <td>195</td>\n",
              "      <td>195</td>\n",
              "      <td>11</td>\n",
              "      <td>33</td>\n",
              "      <td>125</td>\n",
              "    </tr>\n",
              "    <tr>\n",
              "      <th>3</th>\n",
              "      <td>195</td>\n",
              "      <td>195</td>\n",
              "      <td>11</td>\n",
              "      <td>33</td>\n",
              "      <td>125</td>\n",
              "      <td>3</td>\n",
              "    </tr>\n",
              "    <tr>\n",
              "      <th>4</th>\n",
              "      <td>195</td>\n",
              "      <td>11</td>\n",
              "      <td>33</td>\n",
              "      <td>125</td>\n",
              "      <td>3</td>\n",
              "      <td>5</td>\n",
              "    </tr>\n",
              "  </tbody>\n",
              "</table>\n",
              "</div>"
            ],
            "text/plain": [
              "     0    1    2    3    4    5\n",
              "0    6  174  175  195  195   11\n",
              "1  174  175  195  195   11   33\n",
              "2  175  195  195   11   33  125\n",
              "3  195  195   11   33  125    3\n",
              "4  195   11   33  125    3    5"
            ]
          },
          "metadata": {
            "tags": []
          },
          "execution_count": 10
        }
      ]
    },
    {
      "cell_type": "code",
      "metadata": {
        "colab": {
          "base_uri": "https://localhost:8080/",
          "height": 212
        },
        "id": "RkS0UxQVQ3bP",
        "outputId": "18706b1f-f83d-4bca-e0f7-96f7dce376c6"
      },
      "source": [
        "test = process_data(test)\n",
        "print(test.shape)\n",
        "test.head(5)"
      ],
      "execution_count": 11,
      "outputs": [
        {
          "output_type": "stream",
          "text": [
            "(317383, 6)\n"
          ],
          "name": "stdout"
        },
        {
          "output_type": "execute_result",
          "data": {
            "text/html": [
              "<div>\n",
              "<style scoped>\n",
              "    .dataframe tbody tr th:only-of-type {\n",
              "        vertical-align: middle;\n",
              "    }\n",
              "\n",
              "    .dataframe tbody tr th {\n",
              "        vertical-align: top;\n",
              "    }\n",
              "\n",
              "    .dataframe thead th {\n",
              "        text-align: right;\n",
              "    }\n",
              "</style>\n",
              "<table border=\"1\" class=\"dataframe\">\n",
              "  <thead>\n",
              "    <tr style=\"text-align: right;\">\n",
              "      <th></th>\n",
              "      <th>0</th>\n",
              "      <th>1</th>\n",
              "      <th>2</th>\n",
              "      <th>3</th>\n",
              "      <th>4</th>\n",
              "      <th>5</th>\n",
              "    </tr>\n",
              "  </thead>\n",
              "  <tbody>\n",
              "    <tr>\n",
              "      <th>0</th>\n",
              "      <td>4</td>\n",
              "      <td>4</td>\n",
              "      <td>78</td>\n",
              "      <td>240</td>\n",
              "      <td>240</td>\n",
              "      <td>240</td>\n",
              "    </tr>\n",
              "    <tr>\n",
              "      <th>1</th>\n",
              "      <td>4</td>\n",
              "      <td>78</td>\n",
              "      <td>240</td>\n",
              "      <td>240</td>\n",
              "      <td>240</td>\n",
              "      <td>4</td>\n",
              "    </tr>\n",
              "    <tr>\n",
              "      <th>2</th>\n",
              "      <td>78</td>\n",
              "      <td>240</td>\n",
              "      <td>240</td>\n",
              "      <td>240</td>\n",
              "      <td>4</td>\n",
              "      <td>4</td>\n",
              "    </tr>\n",
              "    <tr>\n",
              "      <th>3</th>\n",
              "      <td>240</td>\n",
              "      <td>240</td>\n",
              "      <td>240</td>\n",
              "      <td>4</td>\n",
              "      <td>4</td>\n",
              "      <td>4</td>\n",
              "    </tr>\n",
              "    <tr>\n",
              "      <th>4</th>\n",
              "      <td>240</td>\n",
              "      <td>240</td>\n",
              "      <td>4</td>\n",
              "      <td>4</td>\n",
              "      <td>4</td>\n",
              "      <td>4</td>\n",
              "    </tr>\n",
              "  </tbody>\n",
              "</table>\n",
              "</div>"
            ],
            "text/plain": [
              "     0    1    2    3    4    5\n",
              "0    4    4   78  240  240  240\n",
              "1    4   78  240  240  240    4\n",
              "2   78  240  240  240    4    4\n",
              "3  240  240  240    4    4    4\n",
              "4  240  240    4    4    4    4"
            ]
          },
          "metadata": {
            "tags": []
          },
          "execution_count": 11
        }
      ]
    },
    {
      "cell_type": "markdown",
      "metadata": {
        "id": "376udEA5GdPB"
      },
      "source": [
        " ## **Data Cleaning**\n",
        " Remove rows that exist in both normal and intrusion df"
      ]
    },
    {
      "cell_type": "code",
      "metadata": {
        "id": "w6k8jwvcaEtb"
      },
      "source": [
        "# Clean data, so it only contains unique rows from either dataset\n",
        "def clean_data(df, intersect_df):\n",
        "  cleaned_df = df.merge(intersect_df, indicator=True, how='left').loc[lambda x : x['_merge'] != 'both']\n",
        "  cleaned_df.drop(columns=['_merge'], inplace=True)\n",
        "  cleaned_df.reset_index(drop=True,inplace=True)\n",
        "  return cleaned_df"
      ],
      "execution_count": 13,
      "outputs": []
    },
    {
      "cell_type": "code",
      "metadata": {
        "colab": {
          "base_uri": "https://localhost:8080/"
        },
        "id": "JjvibYshaLun",
        "outputId": "6ad62f55-33f1-427d-a48e-8e7bf02597c0"
      },
      "source": [
        "## Get % of duplicates in both datasets\n",
        "\n",
        "# Convert normal df to set, and intrusion df to set\n",
        "normal_list = train.values.tolist()\n",
        "intrusion_list = test.values.tolist()\n",
        "normal_set = set(tuple(i) for i in normal_list)\n",
        "intrusion_set = set(tuple(i) for i in intrusion_list)\n",
        "print('Set of normal sequences: %d \\nSet of intrusion sequences: %d'% (len(normal_set), len(intrusion_set)))\n",
        "\n",
        "# get their intersection\n",
        "intersect = normal_set.intersection(intrusion_set)\n",
        "\n",
        "# Check if there is any intersect \n",
        "if len(intersect) != 0:\n",
        "  intersect_list = [list(x) for x in intersect]\n",
        "\n",
        "  print('Intersect list len',len(intersect_list))\n",
        "\n",
        "  # Converting intersect_list to df\n",
        "  intersect_df = pd.DataFrame(intersect_list)\n",
        "\n",
        "  # Get number of duplicating rows existing in intrusion df - aka rows that exist in both normal and intrusion\n",
        "  duplicate_intrusion = pd.merge(intersect_df, test, how=\"inner\", on=[0, 1, 2, 3, 4, 5], validate='one_to_many')\n",
        "\n",
        "  # Get number of duplicating rows in normal df\n",
        "  duplicate_normal = pd.merge(intersect_df, train, how=\"inner\", on=[0, 1, 2, 3, 4, 5], validate='one_to_many')\n",
        "\n",
        "  print(DATA+' Duplication Percentage: %.2f'%  ((len(duplicate_normal)+len(duplicate_intrusion)) /( len(train) + len(test) ) *100), '%')\n",
        "  cleaned_intrusion = clean_data(test, intersect_df)\n",
        "  cleaned_normal    = clean_data(train, intersect_df)\n",
        "\n",
        "  # Updating normal and intrusion dfs if the cleaned set is not empty\n",
        "  if len(cleaned_normal) != 0:\n",
        "    train = cleaned_normal\n",
        "  # If the cleaned set is empty, don't update it. We don't want an empty dataset.\n",
        "  else: \n",
        "    print('Empty Cleaned_normal')\n",
        "\n",
        " # Repeat the same process to Intrusion cleaned set\n",
        "  if len(cleaned_intrusion) != 0:\n",
        "    test = cleaned_intrusion\n",
        "  else: \n",
        "    print('**Empty Cleaned_Intrusion')\n",
        "\n",
        "# Else, no duplication found \n",
        "else:\n",
        "  print(DATA+' No Duplication!')"
      ],
      "execution_count": 14,
      "outputs": [
        {
          "output_type": "stream",
          "text": [
            "Set of normal sequences: 63421 \n",
            "Set of intrusion sequences: 70688\n",
            "Intersect list len 4245\n",
            "ADFA-LD Duplication Percentage: 43.19 %\n"
          ],
          "name": "stdout"
        }
      ]
    },
    {
      "cell_type": "markdown",
      "metadata": {
        "id": "8GMYBPNarqFf"
      },
      "source": [
        "## **Histogram of Processed Data**"
      ]
    },
    {
      "cell_type": "code",
      "metadata": {
        "colab": {
          "base_uri": "https://localhost:8080/",
          "height": 430
        },
        "id": "dwIfN5bUCXMO",
        "outputId": "7e15e43d-bce2-43cb-edf4-731f30367e88"
      },
      "source": [
        "# After Cleaning\n",
        "plt.figure(figsize=(20,6))\n",
        "plt.hist(train[0], label='Normal', alpha=0.6, density=True)\n",
        "plt.hist(test[0], label='Intrusion', color='tomato', alpha=0.6, density=True)\n",
        "plt.legend()\n",
        "plt.ylabel('Proportions')\n",
        "plt.xlabel('Syscall num')\n",
        "plt.grid(axis='y', alpha=0.75)\n",
        "plt.title('An Overlaid Histogram of Syscall Proportions in Normal and Intrusion Data from ' + DATA,y=1.02, fontsize=15)"
      ],
      "execution_count": 15,
      "outputs": [
        {
          "output_type": "execute_result",
          "data": {
            "text/plain": [
              "Text(0.5, 1.02, 'An Overlaid Histogram of Syscall Proportions in Normal and Intrusion Data from ADFA-LD')"
            ]
          },
          "metadata": {
            "tags": []
          },
          "execution_count": 15
        },
        {
          "output_type": "display_data",
          "data": {
            "image/png": "[encoded data removed]",
            "text/plain": [
              "<Figure size 1440x432 with 1 Axes>"
            ]
          },
          "metadata": {
            "tags": [],
            "needs_background": "light"
          }
        }
      ]
    },
    {
      "cell_type": "code",
      "metadata": {
        "id": "NIqz_AiY0R8q"
      },
      "source": [
        "# Save cleaned train and test sets\n",
        "train.to_csv('train.csv', index=False)\n",
        "test.to_csv('test.csv', index=False)"
      ],
      "execution_count": 16,
      "outputs": []
    },
    {
      "cell_type": "markdown",
      "metadata": {
        "id": "Qk_fLEaHr0SL"
      },
      "source": [
        "**Labeling Sequences**"
      ]
    },
    {
      "cell_type": "code",
      "metadata": {
        "colab": {
          "base_uri": "https://localhost:8080/"
        },
        "id": "0KILRKFiA2EV",
        "outputId": "fe4fb10e-e664-474d-9ef1-b4a558877f0d"
      },
      "source": [
        "# Intrusion sequences is labeled 1. Rename columns of the dataframe\n",
        "test['Label'] = 1\n",
        "test.rename(columns={0: 'Position1', 1: 'Position2', 2: 'Position3', 3: 'Position4',\n",
        "                          4: 'Position5', 5: 'Position6'}, inplace=True)\n",
        "\n",
        "print(test.head(5), '\\n')"
      ],
      "execution_count": 17,
      "outputs": [
        {
          "output_type": "stream",
          "text": [
            "   Position1  Position2  Position3  Position4  Position5  Position6  Label\n",
            "0          4          4         78        240        240        240      1\n",
            "1          4         78        240        240        240          4      1\n",
            "2         78        240        240        240          4          4      1\n",
            "3        240        240        240          4          4          4      1\n",
            "4          4          4          4          4         78          4      1 \n",
            "\n"
          ],
          "name": "stdout"
        }
      ]
    },
    {
      "cell_type": "code",
      "metadata": {
        "colab": {
          "base_uri": "https://localhost:8080/"
        },
        "id": "oN2KngnOyG5E",
        "outputId": "fbfe426b-be12-4302-bee0-595a2f6c6c86"
      },
      "source": [
        "# Normal sequences is labeled 0. Rename columns of the dataframe\n",
        "train['Label'] = 0\n",
        "train.rename(columns={0: 'Position1', 1: 'Position2', 2: 'Position3', 3: 'Position4',\n",
        "                        4: 'Position5', 5: 'Position6'}, inplace=True)\n",
        "print(train.head(5), '\\n')\n",
        "\n",
        "print('Normal len:',len(train),'\\nIntrusion len:', len(test))"
      ],
      "execution_count": 19,
      "outputs": [
        {
          "output_type": "stream",
          "text": [
            "   Position1  Position2  Position3  Position4  Position5  Position6  Label\n",
            "0          6        174        175        195        195         11      0\n",
            "1        174        175        195        195         11         33      0\n",
            "2        175        195        195         11         33        125      0\n",
            "3        195        195         11         33        125          3      0\n",
            "4        195         11         33        125          3          5      0 \n",
            "\n",
            "Normal len: 161363 \n",
            "Intrusion len: 193932\n"
          ],
          "name": "stdout"
        }
      ]
    },
    {
      "cell_type": "markdown",
      "metadata": {
        "id": "7ohcyx-nmoYj"
      },
      "source": [
        "## **Partition Training and Testing dataset 70/30**\n",
        "\n",
        "We do not need to bootstrap since there are more than enough data from both classes."
      ]
    },
    {
      "cell_type": "code",
      "metadata": {
        "colab": {
          "base_uri": "https://localhost:8080/"
        },
        "id": "NF4L1Uw4n5aL",
        "outputId": "39f31447-1aa7-4e6e-f902-28884e07ea95"
      },
      "source": [
        "\n",
        "normal_len = len(train)\n",
        "intrusion_len = len(test)\n",
        "print('normal len %d and intrusion len %d' %(normal_len, intrusion_len))\n",
        "\n",
        "SIZE = 7000\n",
        "\n",
        "# If both classes have more than 7000 sequences, then get 7000 samples from each class and  split it for training and tetsing\n",
        "if (normal_len >= SIZE) & (intrusion_len >= SIZE): \n",
        "  samples = train.sample(n=SIZE)\n",
        "  samples = samples.append(test.sample(n=SIZE), ignore_index = False)\n",
        "  #print('Get 7k normal sequences and 7k intrusion sequences. Sample len:',len(samples))\n",
        "\n",
        "# Sample number of records based on the label that has less data: if Normal has less data --> sample both normal and intrusion with the amount of normal data; vice versa\n",
        "else:\n",
        "  if normal_len < intrusion_len:\n",
        "    samples = train.sample(n=normal_len)\n",
        "    samples = samples.append(test.sample(n=normal_len), ignore_index = False)\n",
        "  else:\n",
        "    samples = train.sample(n= intrusion_len)\n",
        "    samples = samples.append(test.sample(n= intrusion_len), ignore_index = False)\n",
        "\n",
        "\n",
        "# Spliting into training and testing\n",
        "x_train, x_test, y_train, y_test = train_test_split(samples.iloc[:,:6], samples['Label'], test_size = 0.30) \n",
        "\n",
        "\n",
        "print('Train sz:',len(x_train), len(y_train))\n",
        "filt = y_train.loc[y_train == 1]\n",
        "n_filt = y_train.loc[y_train == 0]\n",
        "print('Train set: Intrusion vs. Normal cases', len(y_train.iloc[filt] ), len(y_train.iloc[n_filt] ))\n",
        "\n",
        "print('Test sz:', len(x_test), len(y_test))\n",
        "filt = y_test.loc[y_test == 1]\n",
        "n_filt = y_test.loc[y_test == 0]\n",
        "print('Test set: Intrusion vs. Normal cases', len(y_test.iloc[filt] ), len(y_test.iloc[n_filt] ))\n"
      ],
      "execution_count": 22,
      "outputs": [
        {
          "output_type": "stream",
          "text": [
            "normal len 161363 and intrusion len 193932\n",
            "Train sz: 9800 9800\n",
            "Train set: Intrusion vs. Normal cases 4940 4860\n",
            "Test sz: 4200 4200\n",
            "Test set: Intrusion vs. Normal cases 2060 2140\n"
          ],
          "name": "stdout"
        }
      ]
    },
    {
      "cell_type": "markdown",
      "metadata": {
        "id": "ymW016tCLOBh"
      },
      "source": [
        "\n",
        "# **Performance Measures**\n",
        "\n",
        "\n",
        "1.   Function calc_false_positive: Calculates FPR\n",
        "2.   Function print_performance: Formats printing performance metrics and ROC curve for each model\n",
        "3.   Function color_confusion_matrix: prints out a heatmap of confusion matrix in blue color scale\n",
        "\n",
        "\n",
        "\n",
        "\n"
      ]
    },
    {
      "cell_type": "code",
      "metadata": {
        "id": "XA1PZX4XBNLO"
      },
      "source": [
        "# This function calculate False Positive Rate given a confusion matrix\n",
        "def calc_false_positive (cmatrix):\n",
        "  specificity = cmatrix[0,0]/(cmatrix[0,0] + cmatrix[0,1])\n",
        "  return 1-specificity\n",
        "\n",
        "# This function prints performance metrics and ROC curve given the model name, true labels and predicted labels\n",
        "def print_performance(model_name, true_labels, pred_labels):\n",
        "  # rows are actual, columns are predicted\n",
        "  cmatrix = confusion_matrix(true_labels, pred_labels)\n",
        "  fpr = calc_false_positive(cmatrix)\n",
        "\n",
        "  print('Confusion Matrix: \\n',cmatrix)\n",
        "  print('\\nTesting Accuracy: %.2f'% metrics.accuracy_score(true_labels, pred_labels))\n",
        "  print('Precision:%.2f'%  metrics.precision_score(true_labels, pred_labels))\n",
        "  print('Recall: %.2f'% metrics.recall_score(true_labels, pred_labels))\n",
        "  print('False Positive Rate: %.2f'% fpr)\n",
        "  print('\\nClassification report:', classification_report(true_labels, pred_labels), sep='\\n')\n",
        "  print('AUC: %.2f'% roc_auc_score(true_labels, pred_labels))\n",
        "\n",
        "  false_positive_rate, recall, thresholds = roc_curve(true_labels, pred_labels)\n",
        "  roc_auc = auc(false_positive_rate, recall)\n",
        "  plt.figure()\n",
        "  plt.title( model_name+' ROC Curve on ' + DATA)\n",
        "  plt.plot(false_positive_rate, recall, 'b', label = 'AUC = %0.2f' %roc_auc)\n",
        "  plt.legend(loc='lower right')\n",
        "  plt.plot([0,1], [0,1], 'r--')\n",
        "  plt.xlim([0.0,1.0])\n",
        "  plt.ylim([0.0,1.0])\n",
        "  plt.ylabel('Recall')\n",
        "  plt.xlabel('False Positive Rate (1-Specificity)')\n",
        "  #plt.savefig(model_name+'-ROC.jpg')\n",
        "  plt.show()\n",
        "\n",
        "# Plot a heatmap of confusion matrix given the model name, a classifier model, testing data and the predicted label\n",
        "def color_confusion_matrix( model_name, model, x_test, y_test, y_predicted):\n",
        "  class_names = ['Normal', 'Intrusion']\n",
        "\n",
        "  fig, ax = plt.subplots(figsize=(6, 6))\n",
        "  plot_confusion_matrix(model, x_test, y_test, display_labels=class_names, \n",
        "                        values_format='d', ax = ax, cmap=plt.cm.Blues)\n",
        "  plt.title('Confusion Matrix of ' + str(model_name))\n",
        "  #plt.savefig(model_name+'-CM.jpg')\n",
        "  plt.show()\n",
        "\n",
        "  cmatrix = confusion_matrix(y_test, y_predicted)\n",
        "  print(cmatrix)"
      ],
      "execution_count": 31,
      "outputs": []
    },
    {
      "cell_type": "markdown",
      "metadata": {
        "id": "s-keFefagnSl"
      },
      "source": [
        "# **K-means**"
      ]
    },
    {
      "cell_type": "code",
      "metadata": {
        "colab": {
          "base_uri": "https://localhost:8080/",
          "height": 665
        },
        "id": "a0DPPwlWKeoA",
        "outputId": "1be9e403-d9ee-497b-f640-6b591ae9471c"
      },
      "source": [
        "from sklearn.cluster import KMeans\n",
        "from sklearn import metrics\n",
        "from sklearn.metrics import adjusted_rand_score\n",
        "\n",
        "# Choose K cluster = 2\n",
        "kmeans = KMeans(n_clusters=2)\n",
        "# Fit Kmeans to the training set\n",
        "kmeans.fit(x_train)\n",
        "\n",
        "\n",
        "# Recording TPR and FPR for the TRAINING ROC curves\n",
        "y_pred = kmeans.predict(x_train)\n",
        "KM_train = {}\n",
        "KM_train['fpr'], KM_train['tpr'], thresh = roc_curve(y_train, y_pred)\n",
        "KM_train['auc'] = roc_auc_score(y_train, y_pred)\n",
        "\n",
        "\n",
        "## TESTING K-MEANS\n",
        "y_predicted = kmeans.predict(x_test)\n",
        "\n",
        "print_performance('KMeans',y_test, y_predicted)\n",
        "\n",
        "# Number of iterations before converging\n",
        "print('Number of iterations before converging:', kmeans.n_iter_)\n",
        "\n",
        "\n",
        "# Recording TPR and FPR for the TESTING ROC curves\n",
        "KM_test = {}\n",
        "KM_test['fpr'], KM_test['tpr'], thresh = roc_curve(y_test, y_predicted)\n",
        "KM_test['auc'] = roc_auc_score(y_test, y_predicted)\n",
        "\n",
        "\n",
        "print('Train AUC: %.3f vs Test AUC: %.3f' %(KM_train['auc'], KM_test['auc']))"
      ],
      "execution_count": 24,
      "outputs": [
        {
          "output_type": "stream",
          "text": [
            "Confusion Matrix: \n",
            " [[1300  840]\n",
            " [ 772 1288]]\n",
            "\n",
            "Testing Accuracy: 0.62\n",
            "Precision:0.61\n",
            "Recall: 0.63\n",
            "False Positive Rate: 0.39\n",
            "\n",
            "Classification report:\n",
            "              precision    recall  f1-score   support\n",
            "\n",
            "           0       0.63      0.61      0.62      2140\n",
            "           1       0.61      0.63      0.62      2060\n",
            "\n",
            "    accuracy                           0.62      4200\n",
            "   macro avg       0.62      0.62      0.62      4200\n",
            "weighted avg       0.62      0.62      0.62      4200\n",
            "\n",
            "AUC: 0.62\n"
          ],
          "name": "stdout"
        },
        {
          "output_type": "display_data",
          "data": {
            "image/png": "[encoded data removed]",
            "text/plain": [
              "<Figure size 432x288 with 1 Axes>"
            ]
          },
          "metadata": {
            "tags": [],
            "needs_background": "light"
          }
        },
        {
          "output_type": "stream",
          "text": [
            "Number of iterations before converging: 7\n",
            "Train AUC: 0.604 vs Test AUC: 0.616\n"
          ],
          "name": "stdout"
        }
      ]
    },
    {
      "cell_type": "markdown",
      "metadata": {
        "id": "CKMnutnOgsZ5"
      },
      "source": [
        "# **Logistic Regression**"
      ]
    },
    {
      "cell_type": "code",
      "metadata": {
        "colab": {
          "base_uri": "https://localhost:8080/",
          "height": 648
        },
        "id": "mk83mqk_fC9k",
        "outputId": "c852d0c4-11cb-4a43-91a5-f156cf8b3441"
      },
      "source": [
        "from sklearn.linear_model import LogisticRegression\n",
        "\n",
        "# Fit the model on the training set and predict the testing set\n",
        "lgModel = LogisticRegression().fit(x_train, y_train)\n",
        "y_pred = lgModel.predict(x_train)\n",
        "\n",
        "# Recording TPR and FPR for the TESTING ROC curves\n",
        "LR_train = {}\n",
        "LR_train['fpr'], LR_train['tpr'], thresh = roc_curve(y_train, y_pred)\n",
        "LR_train['auc'] = roc_auc_score(y_train, y_pred)\n",
        "\n",
        "\n",
        "## TESTING Logistic Regression\n",
        "y_predicted = lgModel.predict(x_test)\n",
        "\n",
        "# Evaluating Performance on Testing data\n",
        "print_performance('Logistic Regression',y_test, y_predicted)\n",
        "\n",
        "# Recording TPR and FPR for the multi-ROC curves\n",
        "LR_test = {}\n",
        "LR_test['fpr'], LR_test['tpr'], thresh = roc_curve(y_test, y_predicted)\n",
        "LR_test['auc'] = roc_auc_score(y_test, y_predicted)\n",
        "\n",
        "print('Train AUC: %.3f vs Test AUC: %.3f' %(LR_train['auc'], LR_test['auc']))"
      ],
      "execution_count": 25,
      "outputs": [
        {
          "output_type": "stream",
          "text": [
            "Confusion Matrix: \n",
            " [[1286  854]\n",
            " [ 791 1269]]\n",
            "\n",
            "Testing Accuracy: 0.61\n",
            "Precision:0.60\n",
            "Recall: 0.62\n",
            "False Positive Rate: 0.40\n",
            "\n",
            "Classification report:\n",
            "              precision    recall  f1-score   support\n",
            "\n",
            "           0       0.62      0.60      0.61      2140\n",
            "           1       0.60      0.62      0.61      2060\n",
            "\n",
            "    accuracy                           0.61      4200\n",
            "   macro avg       0.61      0.61      0.61      4200\n",
            "weighted avg       0.61      0.61      0.61      4200\n",
            "\n",
            "AUC: 0.61\n"
          ],
          "name": "stdout"
        },
        {
          "output_type": "display_data",
          "data": {
            "image/png": "[encoded data removed]",
            "text/plain": [
              "<Figure size 432x288 with 1 Axes>"
            ]
          },
          "metadata": {
            "tags": [],
            "needs_background": "light"
          }
        },
        {
          "output_type": "stream",
          "text": [
            "Train AUC: 0.603 vs Test AUC: 0.608\n"
          ],
          "name": "stdout"
        }
      ]
    },
    {
      "cell_type": "markdown",
      "metadata": {
        "id": "boOPLuv1zl0p"
      },
      "source": [
        "# **SVM**\n",
        "\n",
        "This model uses a Polynomial kernel, and the rest of the parameters are as default\n",
        "\n",
        "\n",
        "\n",
        "\n"
      ]
    },
    {
      "cell_type": "code",
      "metadata": {
        "colab": {
          "base_uri": "https://localhost:8080/",
          "height": 682
        },
        "id": "-Ywq1HtyL-RV",
        "outputId": "b2857fcc-e812-4242-ebe6-58aed1c73bf6"
      },
      "source": [
        "from sklearn import svm\n",
        "\n",
        "#### Create a SVM classifier using polynomial Kernel\n",
        "print('\\n****Polynomial kernel model: ')\n",
        "svm_model = svm.SVC(kernel = 'poly')\n",
        "\n",
        "#Train the  & Get accuracy from training\n",
        "svm_model.fit(x_train, y_train)\n",
        "y_pred = svm_model.predict(x_train)\n",
        "\n",
        "# Recording TPR and FPR for plotting TRAINING ROC curves\n",
        "SVM_train = {}\n",
        "SVM_train['fpr'], SVM_train['tpr'], thresh = roc_curve(y_train, y_pred)\n",
        "SVM_train['auc'] = roc_auc_score(y_train, y_pred)\n",
        "\n",
        "\n",
        "# Test the model w testing data\n",
        "y_predicted = svm_model.predict(x_test)\n",
        "\n",
        "# Evaluate the model \n",
        "print_performance('SVM', y_test, y_predicted)\n",
        "\n",
        "# Recording TPR and FPR for TESTING-ROC curves\n",
        "SVM_test = {}\n",
        "SVM_test['fpr'], SVM_test['tpr'], thresh = roc_curve(y_test, y_predicted)\n",
        "SVM_test['auc'] = roc_auc_score(y_test, y_predicted)\n",
        "\n",
        "print('Train AUC: %.3f vs Test AUC: %.3f' %(SVM_train['auc'], SVM_test['auc']))"
      ],
      "execution_count": 26,
      "outputs": [
        {
          "output_type": "stream",
          "text": [
            "\n",
            "****Polynomial kernel model: \n",
            "Confusion Matrix: \n",
            " [[1707  433]\n",
            " [1048 1012]]\n",
            "\n",
            "Testing Accuracy: 0.65\n",
            "Precision:0.70\n",
            "Recall: 0.49\n",
            "False Positive Rate: 0.20\n",
            "\n",
            "Classification report:\n",
            "              precision    recall  f1-score   support\n",
            "\n",
            "           0       0.62      0.80      0.70      2140\n",
            "           1       0.70      0.49      0.58      2060\n",
            "\n",
            "    accuracy                           0.65      4200\n",
            "   macro avg       0.66      0.64      0.64      4200\n",
            "weighted avg       0.66      0.65      0.64      4200\n",
            "\n",
            "AUC: 0.64\n"
          ],
          "name": "stdout"
        },
        {
          "output_type": "display_data",
          "data": {
            "image/png": "[encoded data removed]",
            "text/plain": [
              "<Figure size 432x288 with 1 Axes>"
            ]
          },
          "metadata": {
            "tags": [],
            "needs_background": "light"
          }
        },
        {
          "output_type": "stream",
          "text": [
            "Train AUC: 0.657 vs Test AUC: 0.644\n"
          ],
          "name": "stdout"
        }
      ]
    },
    {
      "cell_type": "code",
      "metadata": {
        "colab": {
          "base_uri": "https://localhost:8080/",
          "height": 393
        },
        "id": "XKSizyx2J1-0",
        "outputId": "b561de6a-fc53-4b18-fff9-d3ff64b34073"
      },
      "source": [
        "# Plot a heatmap confusion matrix\n",
        "color_confusion_matrix('SVM', svm_model, x_test, y_test, y_predicted)"
      ],
      "execution_count": 32,
      "outputs": [
        {
          "output_type": "display_data",
          "data": {
            "image/png": "[encoded data removed]",
            "text/plain": [
              "<Figure size 432x432 with 2 Axes>"
            ]
          },
          "metadata": {
            "tags": [],
            "needs_background": "light"
          }
        },
        {
          "output_type": "stream",
          "text": [
            "[[1707  433]\n",
            " [1048 1012]]\n"
          ],
          "name": "stdout"
        }
      ]
    },
    {
      "cell_type": "markdown",
      "metadata": {
        "id": "CyAknSAkQ3be"
      },
      "source": [
        "# **Neural Net**\n",
        "\n",
        "This model contains 3 layers: input layer of 6 nodes, a fully connected layer of 6 nodes and an output layer of 2 nodes"
      ]
    },
    {
      "cell_type": "code",
      "metadata": {
        "id": "USe11YPvQ3bf"
      },
      "source": [
        "# Scale syscall number to between 0 and 1\n",
        "# The maximum syscall number in ADFA-LD data is 325\n",
        "max_syscall = 325\n",
        "x_train_nn = x_train/max_syscall\n",
        "x_test_nn = x_test/max_syscall"
      ],
      "execution_count": 33,
      "outputs": []
    },
    {
      "cell_type": "code",
      "metadata": {
        "colab": {
          "base_uri": "https://localhost:8080/"
        },
        "id": "kuOUNJieQ3bg",
        "outputId": "b5953b8f-8090-4639-d3f0-c1124e5826a1"
      },
      "source": [
        "import tensorflow as tf\n",
        "from tensorflow import keras\n",
        "\n",
        "nn_model = keras.Sequential([\n",
        "    keras.layers.Input(shape = (6,)),  # model expect input to be a vector of 6 numbers\n",
        "    keras.layers.Dense(6, activation = 'relu'),\n",
        "    keras.layers.Dense(2, activation = 'sigmoid')\n",
        "])\n",
        "\n",
        "nn_model.compile(optimizer='adam',\n",
        "              loss='sparse_categorical_crossentropy',\n",
        "              metrics=['accuracy'])\n",
        "\n",
        "# Fit the model to training set\n",
        "history = nn_model.fit(x_train_nn, y_train, epochs=10, batch_size=100, verbose=1)  # we pass the data, labels and epochs and watch the magic!"
      ],
      "execution_count": 34,
      "outputs": [
        {
          "output_type": "stream",
          "text": [
            "Epoch 1/10\n",
            "98/98 [==============================] - 3s 2ms/step - loss: 0.7168 - accuracy: 0.4852\n",
            "Epoch 2/10\n",
            "98/98 [==============================] - 0s 2ms/step - loss: 0.6950 - accuracy: 0.4974\n",
            "Epoch 3/10\n",
            "98/98 [==============================] - 0s 1ms/step - loss: 0.6882 - accuracy: 0.5643\n",
            "Epoch 4/10\n",
            "98/98 [==============================] - 0s 1ms/step - loss: 0.6800 - accuracy: 0.5806\n",
            "Epoch 5/10\n",
            "98/98 [==============================] - 0s 2ms/step - loss: 0.6713 - accuracy: 0.5925\n",
            "Epoch 6/10\n",
            "98/98 [==============================] - 0s 1ms/step - loss: 0.6681 - accuracy: 0.6016\n",
            "Epoch 7/10\n",
            "98/98 [==============================] - 0s 1ms/step - loss: 0.6672 - accuracy: 0.5938\n",
            "Epoch 8/10\n",
            "98/98 [==============================] - 0s 2ms/step - loss: 0.6610 - accuracy: 0.6114\n",
            "Epoch 9/10\n",
            "98/98 [==============================] - 0s 2ms/step - loss: 0.6648 - accuracy: 0.5990\n",
            "Epoch 10/10\n",
            "98/98 [==============================] - 0s 2ms/step - loss: 0.6626 - accuracy: 0.6083\n"
          ],
          "name": "stdout"
        }
      ]
    },
    {
      "cell_type": "code",
      "metadata": {
        "id": "RGUvRkXUjo3K"
      },
      "source": [
        "# Get predict Training classes\n",
        "y_pred = np.argmax(nn_model.predict(x_train_nn), axis=-1)\n",
        "\n",
        "# Recording TPR and FPR for the TRAINING ROC curves\n",
        "NN_train = {}\n",
        "NN_train['fpr'], NN_train['tpr'], thresh = roc_curve(y_train, y_pred)\n",
        "NN_train['auc'] = roc_auc_score(y_train, y_pred)"
      ],
      "execution_count": 35,
      "outputs": []
    },
    {
      "cell_type": "code",
      "metadata": {
        "colab": {
          "base_uri": "https://localhost:8080/",
          "height": 682
        },
        "id": "BGujVI6TQ3bg",
        "outputId": "a343aebd-4606-4bdb-fcac-da8cf156d6e7"
      },
      "source": [
        "# Get the loss and accuracy on testing set\n",
        "test_loss, test_acc = nn_model.evaluate(x_test_nn,  y_test, verbose=1) \n",
        "y_predicted = np.argmax(nn_model.predict(x_test_nn), axis=-1)\n",
        "\n",
        "\n",
        "print('Test accuracy:', test_acc,' Test loss:', test_loss)\n",
        "print_performance('Neural Network',y_test, y_predicted)\n",
        "\n",
        "# Recording TPR and FPR for the TESTING-ROC curves\n",
        "NN_test = {}\n",
        "NN_test['fpr'], NN_test['tpr'], thresh = roc_curve(y_test, y_predicted)\n",
        "NN_test['auc'] = roc_auc_score(y_test, y_predicted)\n",
        "\n",
        "print('Train AUC: %.3f vs Test AUC: %.3f' %(NN_train['auc'], NN_test['auc']))"
      ],
      "execution_count": 36,
      "outputs": [
        {
          "output_type": "stream",
          "text": [
            "132/132 [==============================] - 0s 2ms/step - loss: 0.6597 - accuracy: 0.6138\n",
            "Test accuracy: 0.6138095259666443  Test loss: 0.6596806049346924\n",
            "Confusion Matrix: \n",
            " [[1044 1096]\n",
            " [ 526 1534]]\n",
            "\n",
            "Testing Accuracy: 0.61\n",
            "Precision:0.58\n",
            "Recall: 0.74\n",
            "False Positive Rate: 0.51\n",
            "\n",
            "Classification report:\n",
            "              precision    recall  f1-score   support\n",
            "\n",
            "           0       0.66      0.49      0.56      2140\n",
            "           1       0.58      0.74      0.65      2060\n",
            "\n",
            "    accuracy                           0.61      4200\n",
            "   macro avg       0.62      0.62      0.61      4200\n",
            "weighted avg       0.62      0.61      0.61      4200\n",
            "\n",
            "AUC: 0.62\n"
          ],
          "name": "stdout"
        },
        {
          "output_type": "display_data",
          "data": {
            "image/png": "[encoded data removed]",
            "text/plain": [
              "<Figure size 432x288 with 1 Axes>"
            ]
          },
          "metadata": {
            "tags": [],
            "needs_background": "light"
          }
        },
        {
          "output_type": "stream",
          "text": [
            "Train AUC: 0.606 vs Test AUC: 0.616\n"
          ],
          "name": "stdout"
        }
      ]
    },
    {
      "cell_type": "code",
      "metadata": {
        "colab": {
          "base_uri": "https://localhost:8080/"
        },
        "id": "mehetMzFUBrt",
        "outputId": "b5b78f80-7bc6-4f43-bb37-0079e81270cf"
      },
      "source": [
        "nn_model.summary()\n",
        "\n",
        "#history.history"
      ],
      "execution_count": 37,
      "outputs": [
        {
          "output_type": "stream",
          "text": [
            "Model: \"sequential\"\n",
            "_________________________________________________________________\n",
            "Layer (type)                 Output Shape              Param #   \n",
            "=================================================================\n",
            "dense (Dense)                (None, 6)                 42        \n",
            "_________________________________________________________________\n",
            "dense_1 (Dense)              (None, 2)                 14        \n",
            "=================================================================\n",
            "Total params: 56\n",
            "Trainable params: 56\n",
            "Non-trainable params: 0\n",
            "_________________________________________________________________\n"
          ],
          "name": "stdout"
        }
      ]
    },
    {
      "cell_type": "markdown",
      "metadata": {
        "id": "eak45tL1s7AT"
      },
      "source": [
        "# **Decision Tree**\n",
        "\n",
        "This model uses GINI criterion to split the data and requires at least 10 observations to split and 5 observations in the leaf."
      ]
    },
    {
      "cell_type": "code",
      "metadata": {
        "colab": {
          "base_uri": "https://localhost:8080/",
          "height": 1000
        },
        "id": "h_mhdZxSs6Z5",
        "outputId": "3c6636d2-9b9d-4df7-9d6f-9dee952bc46e"
      },
      "source": [
        "from sklearn.tree import DecisionTreeClassifier\n",
        "\n",
        "# Create and Train DecTree model\n",
        "decTree = DecisionTreeClassifier(criterion='gini', min_samples_split=10,min_samples_leaf=5,max_features='auto')\n",
        "decTree = decTree.fit(x_train, y_train)\n",
        "\n",
        "# Recording TPR and FPR for the TRAINING ROC curves\n",
        "y_pred = decTree.predict(x_train)\n",
        "DT_train = {}\n",
        "DT_train['fpr'], DT_train['tpr'], thresh = roc_curve(y_train, y_pred)\n",
        "DT_train['auc'] = roc_auc_score(y_train, y_pred)\n",
        "\n",
        "# Predict testing data\n",
        "y_predicted = decTree.predict(x_test)\n",
        "\n",
        "# Print performance measures\n",
        "print_performance('Decision Tree',y_test, y_predicted)\n",
        "\n",
        "# Color Confusion Matrix\n",
        "color_confusion_matrix('Decision Tree', decTree, x_test, y_test, y_predicted)\n",
        "\n",
        "# Recording TPR and FPR for TESTING-ROC curves\n",
        "DT_test = {}\n",
        "DT_test['fpr'], DT_test['tpr'], thresh = roc_curve(y_test, y_predicted)\n",
        "DT_test['auc'] = roc_auc_score(y_test, y_predicted)\n",
        "\n",
        "print('Train AUC: %.3f vs Test AUC: %.3f' %(DT_train['auc'], DT_test['auc']))"
      ],
      "execution_count": 38,
      "outputs": [
        {
          "output_type": "stream",
          "text": [
            "Confusion Matrix: \n",
            " [[1835  305]\n",
            " [ 311 1749]]\n",
            "\n",
            "Testing Accuracy: 0.85\n",
            "Precision:0.85\n",
            "Recall: 0.85\n",
            "False Positive Rate: 0.14\n",
            "\n",
            "Classification report:\n",
            "              precision    recall  f1-score   support\n",
            "\n",
            "           0       0.86      0.86      0.86      2140\n",
            "           1       0.85      0.85      0.85      2060\n",
            "\n",
            "    accuracy                           0.85      4200\n",
            "   macro avg       0.85      0.85      0.85      4200\n",
            "weighted avg       0.85      0.85      0.85      4200\n",
            "\n",
            "AUC: 0.85\n"
          ],
          "name": "stdout"
        },
        {
          "output_type": "display_data",
          "data": {
            "image/png": "[encoded data removed]",
            "text/plain": [
              "<Figure size 432x288 with 1 Axes>"
            ]
          },
          "metadata": {
            "tags": [],
            "needs_background": "light"
          }
        },
        {
          "output_type": "display_data",
          "data": {
            "image/png": "[encoded data removed]",
            "text/plain": [
              "<Figure size 432x432 with 2 Axes>"
            ]
          },
          "metadata": {
            "tags": [],
            "needs_background": "light"
          }
        },
        {
          "output_type": "stream",
          "text": [
            "[[1835  305]\n",
            " [ 311 1749]]\n",
            "Train AUC: 0.902 vs Test AUC: 0.853\n"
          ],
          "name": "stdout"
        }
      ]
    },
    {
      "cell_type": "markdown",
      "metadata": {
        "id": "mOGaush6RBtf"
      },
      "source": [
        "# **Random Forest**\n",
        "\n",
        "This model has no max depth and allows bootstrapping observations during training. It uses GINI criterion to split and requires a minimum of 10 observations to split and the leaf node must have above 5 observations.\n",
        "\n",
        "\n"
      ]
    },
    {
      "cell_type": "code",
      "metadata": {
        "colab": {
          "base_uri": "https://localhost:8080/",
          "height": 1000
        },
        "id": "C-g6W8k4k_A3",
        "outputId": "1c62c3a5-b2c2-4e41-b08a-fd0df7ef6ecd"
      },
      "source": [
        "from sklearn.ensemble import RandomForestClassifier\n",
        "\n",
        "# Build model\n",
        "randomForest = RandomForestClassifier(max_depth=None, min_samples_split=10, min_samples_leaf=5, \n",
        "                                      max_features='auto', bootstrap=True,verbose=0, criterion='gini')\n",
        "# Train the model with training set\n",
        "randomForest.fit(x_train, y_train)\n",
        "\n",
        "# Recording TPR and FPR for the TRAINING ROC curves\n",
        "y_pred = randomForest.predict(x_train)\n",
        "RF_train = {}\n",
        "RF_train['fpr'], RF_train['tpr'], thresh = roc_curve(y_train, y_pred)\n",
        "RF_train['auc'] = roc_auc_score(y_train, y_pred)\n",
        "\n",
        "# Predict the labels for testing set\n",
        "y_predicted = randomForest.predict(x_test)\n",
        "\n",
        "# Print performance measures\n",
        "print_performance('Random Forest',y_test, y_predicted)\n",
        "\n",
        "# Color Confusion Matrix\n",
        "color_confusion_matrix('Random Forest', randomForest, x_test, y_test, y_predicted)\n",
        "\n",
        "# Recording TPR and FPR for the multi-ROC curves\n",
        "RF_test = {}\n",
        "RF_test['fpr'], RF_test['tpr'], thresh = roc_curve(y_test, y_predicted)\n",
        "RF_test['auc'] = roc_auc_score(y_test, y_predicted)\n",
        "\n",
        "print('Train AUC: %.3f vs Test AUC: %.3f' %(RF_train['auc'], RF_test['auc']))"
      ],
      "execution_count": 39,
      "outputs": [
        {
          "output_type": "stream",
          "text": [
            "Confusion Matrix: \n",
            " [[1933  207]\n",
            " [ 238 1822]]\n",
            "\n",
            "Testing Accuracy: 0.89\n",
            "Precision:0.90\n",
            "Recall: 0.88\n",
            "False Positive Rate: 0.10\n",
            "\n",
            "Classification report:\n",
            "              precision    recall  f1-score   support\n",
            "\n",
            "           0       0.89      0.90      0.90      2140\n",
            "           1       0.90      0.88      0.89      2060\n",
            "\n",
            "    accuracy                           0.89      4200\n",
            "   macro avg       0.89      0.89      0.89      4200\n",
            "weighted avg       0.89      0.89      0.89      4200\n",
            "\n",
            "AUC: 0.89\n"
          ],
          "name": "stdout"
        },
        {
          "output_type": "display_data",
          "data": {
            "image/png": "[encoded data removed]",
            "text/plain": [
              "<Figure size 432x288 with 1 Axes>"
            ]
          },
          "metadata": {
            "tags": [],
            "needs_background": "light"
          }
        },
        {
          "output_type": "display_data",
          "data": {
            "image/png": "[encoded data removed]",
            "text/plain": [
              "<Figure size 432x432 with 2 Axes>"
            ]
          },
          "metadata": {
            "tags": [],
            "needs_background": "light"
          }
        },
        {
          "output_type": "stream",
          "text": [
            "[[1933  207]\n",
            " [ 238 1822]]\n",
            "Train AUC: 0.931 vs Test AUC: 0.894\n"
          ],
          "name": "stdout"
        }
      ]
    },
    {
      "cell_type": "markdown",
      "metadata": {
        "id": "doGliXotvRgg"
      },
      "source": [
        "# **KNN**\n",
        "\n",
        "This model classifies each observation based on 3 nearest neighbors with uniform weight."
      ]
    },
    {
      "cell_type": "code",
      "metadata": {
        "colab": {
          "base_uri": "https://localhost:8080/",
          "height": 1000
        },
        "id": "vHH_-Veot_FD",
        "outputId": "bfc0dcbf-d9a0-4b54-bf07-03b70721a9fa"
      },
      "source": [
        "from sklearn.neighbors import KNeighborsClassifier\n",
        "\n",
        "# Creat and Train KNN model\n",
        "KNN = KNeighborsClassifier(n_neighbors=3, weights='uniform')\n",
        "KNN.fit(x_train, y_train)\n",
        "\n",
        "# Recording TPR and FPR for the TRAINING ROC curves\n",
        "y_pred = KNN.predict(x_train)\n",
        "KNN_train = {}\n",
        "KNN_train['fpr'], KNN_train['tpr'], thresh = roc_curve(y_train, y_pred)\n",
        "KNN_train['auc'] = roc_auc_score(y_train, y_pred)\n",
        "\n",
        "# Predict testing data\n",
        "y_predicted = KNN.predict(x_test)\n",
        "\n",
        "# Print performance measures\n",
        "print_performance('KNN',y_test, y_predicted)\n",
        "\n",
        "# Color Confusion Matrix\n",
        "color_confusion_matrix('KNN', KNN, x_test, y_test, y_predicted)\n",
        "\n",
        "# Recording TPR and FPR for TESTING-ROC curves\n",
        "KNN_test = {}\n",
        "KNN_test['fpr'], KNN_test['tpr'], thresh = roc_curve(y_test, y_predicted)\n",
        "KNN_test['auc'] = roc_auc_score(y_test, y_predicted)\n",
        "\n",
        "print('Train AUC: %.3f vs Test AUC: %.3f' %(KNN_train['auc'], KNN_test['auc']))"
      ],
      "execution_count": 40,
      "outputs": [
        {
          "output_type": "stream",
          "text": [
            "Confusion Matrix: \n",
            " [[1760  380]\n",
            " [ 406 1654]]\n",
            "\n",
            "Testing Accuracy: 0.81\n",
            "Precision:0.81\n",
            "Recall: 0.80\n",
            "False Positive Rate: 0.18\n",
            "\n",
            "Classification report:\n",
            "              precision    recall  f1-score   support\n",
            "\n",
            "           0       0.81      0.82      0.82      2140\n",
            "           1       0.81      0.80      0.81      2060\n",
            "\n",
            "    accuracy                           0.81      4200\n",
            "   macro avg       0.81      0.81      0.81      4200\n",
            "weighted avg       0.81      0.81      0.81      4200\n",
            "\n",
            "AUC: 0.81\n"
          ],
          "name": "stdout"
        },
        {
          "output_type": "display_data",
          "data": {
            "image/png": "[encoded data removed]",
            "text/plain": [
              "<Figure size 432x288 with 1 Axes>"
            ]
          },
          "metadata": {
            "tags": [],
            "needs_background": "light"
          }
        },
        {
          "output_type": "display_data",
          "data": {
            "image/png": "[encoded data removed]",
            "text/plain": [
              "<Figure size 432x432 with 2 Axes>"
            ]
          },
          "metadata": {
            "tags": [],
            "needs_background": "light"
          }
        },
        {
          "output_type": "stream",
          "text": [
            "[[1760  380]\n",
            " [ 406 1654]]\n",
            "Train AUC: 0.902 vs Test AUC: 0.813\n"
          ],
          "name": "stdout"
        }
      ]
    },
    {
      "cell_type": "markdown",
      "metadata": {
        "id": "Rv2CQsOUxLSv"
      },
      "source": [
        "# **Naive Bayes**"
      ]
    },
    {
      "cell_type": "code",
      "metadata": {
        "colab": {
          "base_uri": "https://localhost:8080/",
          "height": 648
        },
        "id": "DCLL6xLRwU1s",
        "outputId": "40dad76e-1269-48ad-8f39-e587383361e4"
      },
      "source": [
        "from sklearn.naive_bayes import GaussianNB\n",
        "\n",
        "# Create a Gaussian Naive Bayes classifier and train with training set\n",
        "NaiveBayes = GaussianNB()\n",
        "NaiveBayes.fit(x_train, y_train)\n",
        "\n",
        "# Recording TPR and FPR for the TRAINING ROC curves\n",
        "y_pred = NaiveBayes.predict(x_train)\n",
        "NB_train = {}\n",
        "NB_train['fpr'], NB_train['tpr'], thresh = roc_curve(y_train, y_pred)\n",
        "NB_train['auc'] = roc_auc_score(y_train, y_pred)\n",
        "\n",
        "# Predict testing data\n",
        "y_predicted = NaiveBayes.predict(x_test)\n",
        "\n",
        "# Print performance measures\n",
        "print_performance('Naive Bayes',y_test, y_predicted)\n",
        "\n",
        "# Recording TPR and FPR for the TESTING-ROC curves\n",
        "NB_test = {}\n",
        "NB_test['fpr'], NB_test['tpr'], thresh = roc_curve(y_test, y_predicted)\n",
        "NB_test['auc'] = roc_auc_score(y_test, y_predicted)\n",
        "\n",
        "print('Train AUC: %.3f vs Test AUC: %.3f' %(NB_train['auc'], NB_test['auc']))"
      ],
      "execution_count": 41,
      "outputs": [
        {
          "output_type": "stream",
          "text": [
            "Confusion Matrix: \n",
            " [[1316  824]\n",
            " [ 800 1260]]\n",
            "\n",
            "Testing Accuracy: 0.61\n",
            "Precision:0.60\n",
            "Recall: 0.61\n",
            "False Positive Rate: 0.39\n",
            "\n",
            "Classification report:\n",
            "              precision    recall  f1-score   support\n",
            "\n",
            "           0       0.62      0.61      0.62      2140\n",
            "           1       0.60      0.61      0.61      2060\n",
            "\n",
            "    accuracy                           0.61      4200\n",
            "   macro avg       0.61      0.61      0.61      4200\n",
            "weighted avg       0.61      0.61      0.61      4200\n",
            "\n",
            "AUC: 0.61\n"
          ],
          "name": "stdout"
        },
        {
          "output_type": "display_data",
          "data": {
            "image/png": "[encoded data removed]",
            "text/plain": [
              "<Figure size 432x288 with 1 Axes>"
            ]
          },
          "metadata": {
            "tags": [],
            "needs_background": "light"
          }
        },
        {
          "output_type": "stream",
          "text": [
            "Train AUC: 0.603 vs Test AUC: 0.613\n"
          ],
          "name": "stdout"
        }
      ]
    },
    {
      "cell_type": "markdown",
      "metadata": {
        "id": "uEo_klFtXk2P"
      },
      "source": [
        "# **Graphing multi-ROC Curves**"
      ]
    },
    {
      "cell_type": "code",
      "metadata": {
        "id": "pdp0-YcZePBf"
      },
      "source": [
        "# Graphing overlaid ROC curves, where each one represents a model AUC score\n",
        "def graph_multi_ROC ():\n",
        "  # Set color for each model\n",
        "  colors = {'KM': 'lightcoral','LR': 'darkorange', 'SVM':'lime', 'NB': 'steelblue',\n",
        "            'NN': 'purple','DT': 'magenta','RF': 'deeppink','KNN': 'darkturquoise',\n",
        "            'BERT': 'darkred', 'GPT': 'blue'}\n",
        "  # Set marker for each model          \n",
        "  markers = {'KM':'1--','LR': 'v--', 'SVM': '^--', 'NN': '*--', 'DT': 'o--', 'RF': '+--', 'KNN': '.--', 'NB': 'x--', 'BERT':'<--', 'GPT': '>--'}\n",
        "  \n",
        "  plt.figure(figsize=(9,6))\n",
        "\n",
        "  plt.plot(KM_test.get('fpr'), KM_test.get('tpr'), markers.get('KM'), color=colors.get('KM'),  label=\"KM - AUC=\" + str(KM_test.get('auc').round(3)))\n",
        "  plt.plot(LR_test.get('fpr'), LR_test.get('tpr'), markers.get('LR'), color=colors.get('LR'),  label=\"LR - AUC=\" + str(LR_test.get('auc').round(3)))\n",
        "  plt.plot(SVM_test.get('fpr'),SVM_test.get('tpr'),markers.get('SVM'),color=colors.get('SVM'), label=\"SVM - AUC=\"+ str(SVM_test.get('auc').round(3)))\n",
        "  plt.plot(NN_test.get('fpr'), NN_test.get('tpr'), markers.get('NN'), color=colors.get('NN'),  label=\"NN - AUC=\" + str(NN_test.get('auc').round(3)))\n",
        "  plt.plot(DT_test.get('fpr'), DT_test.get('tpr'), markers.get('DT'), color=colors.get('DT'),  label=\"DT - AUC=\" + str(DT_test.get('auc').round(3)))\n",
        "  plt.plot(RF_test.get('fpr'), RF_test.get('tpr'), markers.get('RF'), color=colors.get('RF'),  label=\"RF - AUC=\" + str(RF_test.get('auc').round(3)))\n",
        "  plt.plot(KNN_test.get('fpr'),KNN_test.get('tpr'),markers.get('KNN'),color=colors.get('KNN'), label=\"KNN - AUC=\"+ str(KNN_test.get('auc').round(3)))\n",
        "  plt.plot(NB_test.get('fpr'), NB_test.get('tpr'), markers.get('NB'), color=colors.get('NB'),  label=\"NB - AUC=\" + str(NB_test.get('auc').round(3)))\n",
        "  plt.plot(BERT_test.get('fpr'),BERT_test.get('tpr'), markers.get('BERT'), color=colors.get('BERT'),  label=\"BERT - AUC=\"+ str(BERT_test.get('auc').round(3)))\n",
        "  plt.plot(GPT_test.get('fpr'),GPT_test.get('tpr'), markers.get('GPT'), color=colors.get('GPT'),  label=\"GPT-2 - AUC=\"+ str(GPT_test.get('auc').round(3)))\n",
        "\n",
        "  plt.plot([0,1], [0,1], 'k--', label='Random Chances')\n",
        "  plt.xlim([0.0,1.0])\n",
        "  plt.ylim([0.0,1.02])\n",
        "  plt.ylabel('Recall')\n",
        "  plt.xlabel('False Positive Rate (1-Specificity)')\n",
        "  plt.legend(loc='lower right') \n",
        "  plt.title( 'Testing ROCs on ' + DATA)\n",
        "  #plt.savefig(DATA_I+'-'+train_or_test+'.jpg', dpi = 80)\n",
        "  plt.show()"
      ],
      "execution_count": 42,
      "outputs": []
    },
    {
      "cell_type": "markdown",
      "metadata": {
        "id": "bZ-JMcBqmnN9"
      },
      "source": [
        "# **BERT**\n"
      ]
    },
    {
      "cell_type": "code",
      "metadata": {
        "colab": {
          "base_uri": "https://localhost:8080/"
        },
        "id": "7k6L-u3Lmmpb",
        "outputId": "aabae45a-b45c-46d2-e79b-23ab94ec1c15"
      },
      "source": [
        "!pip install pytorch_pretrained_bert pytorch-nlp"
      ],
      "execution_count": 43,
      "outputs": [
        {
          "output_type": "stream",
          "text": [
            "Collecting pytorch_pretrained_bert\n",
            "\u001b[?25l  Downloading https://files.pythonhosted.org/packages/d7/e0/c08d5553b89973d9a240605b9c12404bcf8227590de62bae27acbcfe076b/pytorch_pretrained_bert-0.6.2-py3-none-any.whl (123kB)\n",
            "\r\u001b[K     |██▋                             | 10kB 26.6MB/s eta 0:00:01\r\u001b[K     |█████▎                          | 20kB 30.6MB/s eta 0:00:01\r\u001b[K     |████████                        | 30kB 21.1MB/s eta 0:00:01\r\u001b[K     |██████████▋                     | 40kB 24.7MB/s eta 0:00:01\r\u001b[K     |█████████████▎                  | 51kB 24.0MB/s eta 0:00:01\r\u001b[K     |███████████████▉                | 61kB 26.6MB/s eta 0:00:01\r\u001b[K     |██████████████████▌             | 71kB 17.9MB/s eta 0:00:01\r\u001b[K     |█████████████████████▏          | 81kB 18.6MB/s eta 0:00:01\r\u001b[K     |███████████████████████▉        | 92kB 17.6MB/s eta 0:00:01\r\u001b[K     |██████████████████████████▌     | 102kB 17.5MB/s eta 0:00:01\r\u001b[K     |█████████████████████████████▏  | 112kB 17.5MB/s eta 0:00:01\r\u001b[K     |███████████████████████████████▊| 122kB 17.5MB/s eta 0:00:01\r\u001b[K     |████████████████████████████████| 133kB 17.5MB/s \n",
            "\u001b[?25hCollecting pytorch-nlp\n",
            "\u001b[?25l  Downloading https://files.pythonhosted.org/packages/4f/51/f0ee1efb75f7cc2e3065c5da1363d6be2eec79691b2821594f3f2329528c/pytorch_nlp-0.5.0-py3-none-any.whl (90kB)\n",
            "\r\u001b[K     |███▋                            | 10kB 27.6MB/s eta 0:00:01\r\u001b[K     |███████▎                        | 20kB 34.9MB/s eta 0:00:01\r\u001b[K     |███████████                     | 30kB 37.9MB/s eta 0:00:01\r\u001b[K     |██████████████▌                 | 40kB 38.2MB/s eta 0:00:01\r\u001b[K     |██████████████████▏             | 51kB 40.5MB/s eta 0:00:01\r\u001b[K     |█████████████████████▉          | 61kB 34.8MB/s eta 0:00:01\r\u001b[K     |█████████████████████████▌      | 71kB 35.8MB/s eta 0:00:01\r\u001b[K     |█████████████████████████████   | 81kB 32.0MB/s eta 0:00:01\r\u001b[K     |████████████████████████████████| 92kB 11.2MB/s \n",
            "\u001b[?25hRequirement already satisfied: requests in /usr/local/lib/python3.7/dist-packages (from pytorch_pretrained_bert) (2.23.0)\n",
            "Collecting boto3\n",
            "\u001b[?25l  Downloading https://files.pythonhosted.org/packages/b0/56/97a4dd51951f3b23c734ad2bb4d9be30198d38b053fbfe65902f3a8b7e28/boto3-1.17.68-py2.py3-none-any.whl (131kB)\n",
            "\u001b[K     |████████████████████████████████| 133kB 36.5MB/s \n",
            "\u001b[?25hRequirement already satisfied: tqdm in /usr/local/lib/python3.7/dist-packages (from pytorch_pretrained_bert) (4.41.1)\n",
            "Requirement already satisfied: regex in /usr/local/lib/python3.7/dist-packages (from pytorch_pretrained_bert) (2019.12.20)\n",
            "Requirement already satisfied: torch>=0.4.1 in /usr/local/lib/python3.7/dist-packages (from pytorch_pretrained_bert) (1.8.1+cu101)\n",
            "Requirement already satisfied: numpy in /usr/local/lib/python3.7/dist-packages (from pytorch_pretrained_bert) (1.19.5)\n",
            "Requirement already satisfied: certifi>=2017.4.17 in /usr/local/lib/python3.7/dist-packages (from requests->pytorch_pretrained_bert) (2020.12.5)\n",
            "Requirement already satisfied: urllib3!=1.25.0,!=1.25.1,<1.26,>=1.21.1 in /usr/local/lib/python3.7/dist-packages (from requests->pytorch_pretrained_bert) (1.24.3)\n",
            "Requirement already satisfied: idna<3,>=2.5 in /usr/local/lib/python3.7/dist-packages (from requests->pytorch_pretrained_bert) (2.10)\n",
            "Requirement already satisfied: chardet<4,>=3.0.2 in /usr/local/lib/python3.7/dist-packages (from requests->pytorch_pretrained_bert) (3.0.4)\n",
            "Collecting botocore<1.21.0,>=1.20.68\n",
            "\u001b[?25l  Downloading https://files.pythonhosted.org/packages/43/8d/214334141c72d426d4a19c11f185ad23d4b604ce230a67fb1dfc36ac7b80/botocore-1.20.68-py2.py3-none-any.whl (7.5MB)\n",
            "\u001b[K     |████████████████████████████████| 7.5MB 53.8MB/s \n",
            "\u001b[?25hCollecting jmespath<1.0.0,>=0.7.1\n",
            "  Downloading https://files.pythonhosted.org/packages/07/cb/5f001272b6faeb23c1c9e0acc04d48eaaf5c862c17709d20e3469c6e0139/jmespath-0.10.0-py2.py3-none-any.whl\n",
            "Collecting s3transfer<0.5.0,>=0.4.0\n",
            "\u001b[?25l  Downloading https://files.pythonhosted.org/packages/63/d0/693477c688348654ddc21dcdce0817653a294aa43f41771084c25e7ff9c7/s3transfer-0.4.2-py2.py3-none-any.whl (79kB)\n",
            "\u001b[K     |████████████████████████████████| 81kB 12.4MB/s \n",
            "\u001b[?25hRequirement already satisfied: typing-extensions in /usr/local/lib/python3.7/dist-packages (from torch>=0.4.1->pytorch_pretrained_bert) (3.7.4.3)\n",
            "Requirement already satisfied: python-dateutil<3.0.0,>=2.1 in /usr/local/lib/python3.7/dist-packages (from botocore<1.21.0,>=1.20.68->boto3->pytorch_pretrained_bert) (2.8.1)\n",
            "Requirement already satisfied: six>=1.5 in /usr/local/lib/python3.7/dist-packages (from python-dateutil<3.0.0,>=2.1->botocore<1.21.0,>=1.20.68->boto3->pytorch_pretrained_bert) (1.15.0)\n",
            "\u001b[31mERROR: botocore 1.20.68 has requirement urllib3<1.27,>=1.25.4, but you'll have urllib3 1.24.3 which is incompatible.\u001b[0m\n",
            "Installing collected packages: jmespath, botocore, s3transfer, boto3, pytorch-pretrained-bert, pytorch-nlp\n",
            "Successfully installed boto3-1.17.68 botocore-1.20.68 jmespath-0.10.0 pytorch-nlp-0.5.0 pytorch-pretrained-bert-0.6.2 s3transfer-0.4.2\n"
          ],
          "name": "stdout"
        }
      ]
    },
    {
      "cell_type": "code",
      "metadata": {
        "id": "TsHMmMB76B9W"
      },
      "source": [
        "from pytorch_pretrained_bert import BertModel\n",
        "from torch import nn\n",
        "from pytorch_pretrained_bert import BertTokenizer\n",
        "from keras.preprocessing.sequence import pad_sequences\n",
        "import torch\n",
        "from torch.utils.data import TensorDataset, DataLoader, RandomSampler, SequentialSampler\n",
        "from torch.optim import Adam\n",
        "from torch.nn.utils import clip_grad_norm_\n",
        "from IPython.display import clear_output"
      ],
      "execution_count": 44,
      "outputs": []
    },
    {
      "cell_type": "markdown",
      "metadata": {
        "id": "J_NgiJJQm6Xx"
      },
      "source": [
        "**Prepare for Train and test data for BERT**"
      ]
    },
    {
      "cell_type": "code",
      "metadata": {
        "colab": {
          "base_uri": "https://localhost:8080/"
        },
        "id": "fDMTse2Jm0Bc",
        "outputId": "c6c15403-0395-49f3-a1a8-f780ec589df1"
      },
      "source": [
        "train_texts = []\n",
        "for i in range(x_train.shape[0]):\n",
        "     train_texts.append(\" \".join(np.array(x_train.iloc[i,:]).astype(str)))\n",
        "train_texts = tuple(train_texts) \n",
        "\n",
        "test_texts = []\n",
        "for i in range(x_test.shape[0]):\n",
        "     test_texts.append(\" \".join(np.array(x_test.iloc[i,:]).astype(str)))\n",
        "test_texts = tuple(test_texts) \n",
        "\n",
        "train_labels = tuple(y_train.tolist())\n",
        "test_labels = tuple(y_test.tolist())\n",
        "\n",
        "len(train_texts), len(train_labels), len(test_texts), len(test_labels)"
      ],
      "execution_count": 45,
      "outputs": [
        {
          "output_type": "execute_result",
          "data": {
            "text/plain": [
              "(9800, 9800, 4200, 4200)"
            ]
          },
          "metadata": {
            "tags": []
          },
          "execution_count": 45
        }
      ]
    },
    {
      "cell_type": "code",
      "metadata": {
        "colab": {
          "base_uri": "https://localhost:8080/"
        },
        "id": "Gf2Lbwylm_ia",
        "outputId": "e56c097c-ad28-4de5-8463-22410117216d"
      },
      "source": [
        "# Tokenizer \n",
        "tokenizer = BertTokenizer.from_pretrained('bert-base-uncased', do_lower_case=True)\n",
        "\n",
        "# Example\n",
        "tokenizer.tokenize(train_texts[8])"
      ],
      "execution_count": 46,
      "outputs": [
        {
          "output_type": "stream",
          "text": [
            "100%|██████████| 231508/231508 [00:00<00:00, 18307219.65B/s]\n"
          ],
          "name": "stderr"
        },
        {
          "output_type": "execute_result",
          "data": {
            "text/plain": [
              "['125', '125', '125', '125', '91', '45']"
            ]
          },
          "metadata": {
            "tags": []
          },
          "execution_count": 46
        }
      ]
    },
    {
      "cell_type": "code",
      "metadata": {
        "colab": {
          "base_uri": "https://localhost:8080/"
        },
        "id": "_dp_XAarnZqN",
        "outputId": "73a085ba-cc21-433d-bcac-10f8f6f8a078"
      },
      "source": [
        "# Convert to tokens using tokenizer\n",
        "train_tokens = list(map(lambda t: ['[CLS]'] + tokenizer.tokenize(t)[:20] + ['[SEP]'], train_texts))\n",
        "test_tokens = list(map(lambda t: ['[CLS]'] + tokenizer.tokenize(t)[:20] + ['[SEP]'], test_texts))\n",
        "\n",
        "print('Number of Training Sequences:',len(train_tokens), '\\nNumber of Testing Sequences:', len(test_tokens) )       "
      ],
      "execution_count": 49,
      "outputs": [
        {
          "output_type": "stream",
          "text": [
            "Number of Training Sequences: 9800 \n",
            "Number of Testing Sequences: 4200\n"
          ],
          "name": "stdout"
        }
      ]
    },
    {
      "cell_type": "code",
      "metadata": {
        "colab": {
          "base_uri": "https://localhost:8080/"
        },
        "id": "8MH_bWrznbYv",
        "outputId": "c1955251-dc02-4b97-a106-11f01c4ac97e"
      },
      "source": [
        "# Following is to convert List of words to list of numbers. (Words are replaced by their index in dictionar)\n",
        "train_tokens_ids = pad_sequences(list(map(tokenizer.convert_tokens_to_ids, train_tokens)), maxlen=20, truncating=\"post\", padding=\"post\", dtype=\"int\")\n",
        "test_tokens_ids = pad_sequences(list(map(tokenizer.convert_tokens_to_ids, test_tokens)), maxlen=20, truncating=\"post\", padding=\"post\", dtype=\"int\")\n",
        "\n",
        "train_tokens_ids.shape, test_tokens_ids.shape"
      ],
      "execution_count": 50,
      "outputs": [
        {
          "output_type": "execute_result",
          "data": {
            "text/plain": [
              "((9800, 20), (4200, 20))"
            ]
          },
          "metadata": {
            "tags": []
          },
          "execution_count": 50
        }
      ]
    },
    {
      "cell_type": "code",
      "metadata": {
        "colab": {
          "base_uri": "https://localhost:8080/"
        },
        "id": "2B9WKzfendjw",
        "outputId": "51e4142a-cdc8-4df3-ef86-a3b110103bf7"
      },
      "source": [
        "# Prepare labels\n",
        "# True if intrusion or False if normal\n",
        "train_y = np.array(train_labels) == 1\n",
        "test_y = np.array(test_labels) == 1\n",
        "train_y.shape, test_y.shape, np.mean(train_y), np.mean(test_y)"
      ],
      "execution_count": 52,
      "outputs": [
        {
          "output_type": "execute_result",
          "data": {
            "text/plain": [
              "((9800,), (4200,), 0.5040816326530613, 0.49047619047619045)"
            ]
          },
          "metadata": {
            "tags": []
          },
          "execution_count": 52
        }
      ]
    },
    {
      "cell_type": "code",
      "metadata": {
        "id": "B1q-b-LKnfbH"
      },
      "source": [
        "# To mask the paddings\n",
        "train_masks = [[float(i > 0) for i in ii] for ii in train_tokens_ids]\n",
        "test_masks = [[float(i > 0) for i in ii] for ii in test_tokens_ids]"
      ],
      "execution_count": 53,
      "outputs": []
    },
    {
      "cell_type": "code",
      "metadata": {
        "id": "7tZ3gKOtng_v"
      },
      "source": [
        "# Define BERT model\n",
        "class BertBinaryClassifier(nn.Module):\n",
        "    def __init__(self, dropout=0.1):\n",
        "        super(BertBinaryClassifier, self).__init__()\n",
        "\n",
        "        self.bert = BertModel.from_pretrained('bert-base-uncased')\n",
        "        self.dropout = nn.Dropout(dropout)\n",
        "        self.linear = nn.Linear(768, 1)\n",
        "        self.sigmoid = nn.Sigmoid()\n",
        "    \n",
        "    def forward(self, tokens, masks=None):\n",
        "        # First Layer\n",
        "        _, pooled_output = self.bert(tokens, attention_mask=masks, output_all_encoded_layers=False)\n",
        "\n",
        "        dropout_output = self.dropout(pooled_output)\n",
        "\n",
        "        linear_output = self.linear(dropout_output)\n",
        "        \n",
        "        # output layer\n",
        "        proba = self.sigmoid(linear_output)\n",
        "        \n",
        "        return proba\n",
        "      \n",
        "    def train_m(self,x,y,train_mask,epochs,batchsize):\n",
        "      train_tokens_tensor = torch.tensor(x)\n",
        "      train_y_tensor = torch.tensor(y.reshape(-1, 1)).float()\n",
        "      train_masks_tensor = torch.tensor(train_mask)\n",
        "\n",
        "      train_dataset = TensorDataset(train_tokens_tensor, train_masks_tensor, train_y_tensor)\n",
        "      train_sampler = RandomSampler(train_dataset)\n",
        "      train_dataloader = DataLoader(train_dataset, sampler=train_sampler, batch_size=batchsize) \n",
        "\n",
        "\n",
        "      param_optimizer = list(self.sigmoid.named_parameters()) \n",
        "      optimizer_grouped_parameters = [{\"params\": [p for n, p in param_optimizer]}]\n",
        "      optimizer = Adam(self.bert.parameters(), lr=2e-5)\n",
        "      for epoch_num in range(epochs):\n",
        "          self.train() # Training Flag\n",
        "          train_loss = 0\n",
        "          for step_num, batch_data in enumerate(train_dataloader):\n",
        "              \n",
        "              # Load batch on device memory\n",
        "              token_ids, masks, labels = tuple(t.to(device) for t in batch_data)\n",
        "\n",
        "              # Get the output of the model for provided input\n",
        "              logits = self(token_ids, masks)\n",
        "              \n",
        "              # Loss function\n",
        "              loss_func = nn.BCELoss()\n",
        "\n",
        "              # Calculate Loss\n",
        "              batch_loss = loss_func(logits, labels)\n",
        "              train_loss += batch_loss.item()\n",
        "              \n",
        "              # backpropagate the error\n",
        "              self.zero_grad()\n",
        "              batch_loss.backward()\n",
        "              \n",
        "              # Update the Weights of the Model\n",
        "              clip_grad_norm_(parameters=self.parameters(), max_norm=1.0)\n",
        "              optimizer.step()\n",
        "              \n",
        "              clear_output(wait=True)\n",
        "              print('Epoch: ', epoch_num + 1)\n",
        "              print(\"\\r\" + \"{0}/{1} loss: {2} \".format(step_num, len(train_labels) / batchsize, train_loss / (step_num + 1)))        "
      ],
      "execution_count": 54,
      "outputs": []
    },
    {
      "cell_type": "code",
      "metadata": {
        "colab": {
          "base_uri": "https://localhost:8080/"
        },
        "id": "MA0ADfkpnjgv",
        "outputId": "d1a1623e-b4f3-4769-b5b2-0acd6680ee3e"
      },
      "source": [
        "device = torch.device(\"cuda\" if torch.cuda.is_available() else \"cpu\")\n",
        "device"
      ],
      "execution_count": 55,
      "outputs": [
        {
          "output_type": "execute_result",
          "data": {
            "text/plain": [
              "device(type='cuda')"
            ]
          },
          "metadata": {
            "tags": []
          },
          "execution_count": 55
        }
      ]
    },
    {
      "cell_type": "code",
      "metadata": {
        "id": "1CZERb2Onk_v",
        "colab": {
          "base_uri": "https://localhost:8080/"
        },
        "outputId": "938546f6-0d75-449f-fd00-b5e709af0bd7"
      },
      "source": [
        "bert_clf = BertBinaryClassifier()\n",
        "bert_clf = bert_clf.cuda()"
      ],
      "execution_count": 56,
      "outputs": [
        {
          "output_type": "stream",
          "text": [
            "100%|██████████| 407873900/407873900 [00:07<00:00, 56345252.88B/s]\n"
          ],
          "name": "stderr"
        }
      ]
    },
    {
      "cell_type": "markdown",
      "metadata": {
        "id": "pjM08A0OoGro"
      },
      "source": [
        "**Fine Tune BERT**"
      ]
    },
    {
      "cell_type": "code",
      "metadata": {
        "colab": {
          "base_uri": "https://localhost:8080/"
        },
        "id": "uUS_cifIn1_Y",
        "outputId": "29cde88e-fcbe-410f-81cf-c2d057838473"
      },
      "source": [
        "# Train BERT NLP\n",
        "bert_clf.train_m(train_tokens_ids,train_y,train_masks,4,16)"
      ],
      "execution_count": 57,
      "outputs": [
        {
          "output_type": "stream",
          "text": [
            "Epoch:  4\n",
            "\r612/612.5 loss: 0.15918883203291812 \n"
          ],
          "name": "stdout"
        }
      ]
    },
    {
      "cell_type": "markdown",
      "metadata": {
        "id": "RUTlJLsooNrq"
      },
      "source": [
        "**Evaluate on Testing Set**"
      ]
    },
    {
      "cell_type": "code",
      "metadata": {
        "id": "ly5Mhn9SoKxw"
      },
      "source": [
        "# Convert token ids to tensor \n",
        "test_tokens_tensor = torch.tensor(test_tokens_ids)\n",
        "\n",
        "# Convert labels to tensors\n",
        "test_y_tensor = torch.tensor(test_y.reshape(-1, 1)).float()\n",
        "\n",
        "# Convert to tensro for maks\n",
        "test_masks_tensor = torch.tensor(test_masks)\n",
        "\n",
        "# Load Token, token mask and label into Dataloader\n",
        "test_dataset = TensorDataset(test_tokens_tensor, test_masks_tensor, test_y_tensor)\n",
        "\n",
        "# Define sampler\n",
        "test_sampler = SequentialSampler(test_dataset)\n",
        "\n",
        "# Defile test data loader\n",
        "test_dataloader = DataLoader(test_dataset, sampler=test_sampler, batch_size=16)"
      ],
      "execution_count": 58,
      "outputs": []
    },
    {
      "cell_type": "code",
      "metadata": {
        "id": "Q1gC8UusoWfo"
      },
      "source": [
        "bert_clf.eval() # Define eval\n",
        "bert_predicted = [] # To Store predicted result\n",
        "all_logits = [] # Actual output that is between 0 to 1 is stored here\n",
        "with torch.no_grad():\n",
        "    for step_num, batch_data in enumerate(test_dataloader):\n",
        "\n",
        "        # Load the batch on gpu memory\n",
        "        token_ids, masks, labels = tuple(t.to(device) for t in batch_data)\n",
        "\n",
        "        # Calculate ouput of bert\n",
        "        logits = bert_clf(token_ids, masks)\n",
        "\n",
        "        # Get the numpy logits\n",
        "        numpy_logits = logits.cpu().detach().numpy()  # Detach from the GPU memory\n",
        "        \n",
        "        # Using the threshold find binary \n",
        "        bert_predicted += list(numpy_logits[:, 0] > 0.5)  # Threshold conversion\n",
        "        all_logits += list(numpy_logits[:, 0])"
      ],
      "execution_count": 59,
      "outputs": []
    },
    {
      "cell_type": "code",
      "metadata": {
        "colab": {
          "base_uri": "https://localhost:8080/",
          "height": 631
        },
        "id": "hKmOvtXDoiL9",
        "outputId": "abc8bb62-286b-4121-ca5a-b6515606f683"
      },
      "source": [
        "print_performance('BERT',test_y, bert_predicted)\n",
        "\n",
        "# Recording TPR and FPR for the TESTING-ROC curves\n",
        "BERT_test = {}\n",
        "BERT_test['fpr'], BERT_test['tpr'], thresh = roc_curve(test_y, bert_predicted)\n",
        "BERT_test['auc'] = roc_auc_score(test_y, bert_predicted)"
      ],
      "execution_count": 60,
      "outputs": [
        {
          "output_type": "stream",
          "text": [
            "Confusion Matrix: \n",
            " [[2024  116]\n",
            " [ 111 1949]]\n",
            "\n",
            "Testing Accuracy: 0.95\n",
            "Precision:0.94\n",
            "Recall: 0.95\n",
            "False Positive Rate: 0.05\n",
            "\n",
            "Classification report:\n",
            "              precision    recall  f1-score   support\n",
            "\n",
            "       False       0.95      0.95      0.95      2140\n",
            "        True       0.94      0.95      0.94      2060\n",
            "\n",
            "    accuracy                           0.95      4200\n",
            "   macro avg       0.95      0.95      0.95      4200\n",
            "weighted avg       0.95      0.95      0.95      4200\n",
            "\n",
            "AUC: 0.95\n"
          ],
          "name": "stdout"
        },
        {
          "output_type": "display_data",
          "data": {
            "image/png": "[encoded data removed]",
            "text/plain": [
              "<Figure size 432x288 with 1 Axes>"
            ]
          },
          "metadata": {
            "tags": [],
            "needs_background": "light"
          }
        }
      ]
    },
    {
      "cell_type": "markdown",
      "metadata": {
        "id": "mSuD_5c43X10"
      },
      "source": [
        "# **GPT-2**"
      ]
    },
    {
      "cell_type": "code",
      "metadata": {
        "colab": {
          "base_uri": "https://localhost:8080/"
        },
        "id": "3HueSQ1KsukV",
        "outputId": "7e0a874b-b094-4dcf-c20a-141d5485e1b3"
      },
      "source": [
        "!pip install transformers\n",
        "\n",
        "from transformers import GPT2Tokenizer, GPT2ForSequenceClassification"
      ],
      "execution_count": 61,
      "outputs": [
        {
          "output_type": "stream",
          "text": [
            "Collecting transformers\n",
            "\u001b[?25l  Downloading https://files.pythonhosted.org/packages/d8/b2/57495b5309f09fa501866e225c84532d1fd89536ea62406b2181933fb418/transformers-4.5.1-py3-none-any.whl (2.1MB)\n",
            "\u001b[K     |████████████████████████████████| 2.1MB 19.2MB/s \n",
            "\u001b[?25hCollecting tokenizers<0.11,>=0.10.1\n",
            "\u001b[?25l  Downloading https://files.pythonhosted.org/packages/ae/04/5b870f26a858552025a62f1649c20d29d2672c02ff3c3fb4c688ca46467a/tokenizers-0.10.2-cp37-cp37m-manylinux2010_x86_64.whl (3.3MB)\n",
            "\u001b[K     |████████████████████████████████| 3.3MB 38.1MB/s \n",
            "\u001b[?25hRequirement already satisfied: importlib-metadata; python_version < \"3.8\" in /usr/local/lib/python3.7/dist-packages (from transformers) (3.10.1)\n",
            "Requirement already satisfied: regex!=2019.12.17 in /usr/local/lib/python3.7/dist-packages (from transformers) (2019.12.20)\n",
            "Requirement already satisfied: numpy>=1.17 in /usr/local/lib/python3.7/dist-packages (from transformers) (1.19.5)\n",
            "Requirement already satisfied: packaging in /usr/local/lib/python3.7/dist-packages (from transformers) (20.9)\n",
            "Requirement already satisfied: tqdm>=4.27 in /usr/local/lib/python3.7/dist-packages (from transformers) (4.41.1)\n",
            "Requirement already satisfied: filelock in /usr/local/lib/python3.7/dist-packages (from transformers) (3.0.12)\n",
            "Collecting sacremoses\n",
            "\u001b[?25l  Downloading https://files.pythonhosted.org/packages/75/ee/67241dc87f266093c533a2d4d3d69438e57d7a90abb216fa076e7d475d4a/sacremoses-0.0.45-py3-none-any.whl (895kB)\n",
            "\u001b[K     |████████████████████████████████| 901kB 52.8MB/s \n",
            "\u001b[?25hRequirement already satisfied: requests in /usr/local/lib/python3.7/dist-packages (from transformers) (2.23.0)\n",
            "Requirement already satisfied: typing-extensions>=3.6.4; python_version < \"3.8\" in /usr/local/lib/python3.7/dist-packages (from importlib-metadata; python_version < \"3.8\"->transformers) (3.7.4.3)\n",
            "Requirement already satisfied: zipp>=0.5 in /usr/local/lib/python3.7/dist-packages (from importlib-metadata; python_version < \"3.8\"->transformers) (3.4.1)\n",
            "Requirement already satisfied: pyparsing>=2.0.2 in /usr/local/lib/python3.7/dist-packages (from packaging->transformers) (2.4.7)\n",
            "Requirement already satisfied: joblib in /usr/local/lib/python3.7/dist-packages (from sacremoses->transformers) (1.0.1)\n",
            "Requirement already satisfied: click in /usr/local/lib/python3.7/dist-packages (from sacremoses->transformers) (7.1.2)\n",
            "Requirement already satisfied: six in /usr/local/lib/python3.7/dist-packages (from sacremoses->transformers) (1.15.0)\n",
            "Requirement already satisfied: certifi>=2017.4.17 in /usr/local/lib/python3.7/dist-packages (from requests->transformers) (2020.12.5)\n",
            "Requirement already satisfied: urllib3!=1.25.0,!=1.25.1,<1.26,>=1.21.1 in /usr/local/lib/python3.7/dist-packages (from requests->transformers) (1.24.3)\n",
            "Requirement already satisfied: idna<3,>=2.5 in /usr/local/lib/python3.7/dist-packages (from requests->transformers) (2.10)\n",
            "Requirement already satisfied: chardet<4,>=3.0.2 in /usr/local/lib/python3.7/dist-packages (from requests->transformers) (3.0.4)\n",
            "Installing collected packages: tokenizers, sacremoses, transformers\n",
            "Successfully installed sacremoses-0.0.45 tokenizers-0.10.2 transformers-4.5.1\n"
          ],
          "name": "stdout"
        }
      ]
    },
    {
      "cell_type": "code",
      "metadata": {
        "id": "5-gD9nyo4S1D",
        "colab": {
          "base_uri": "https://localhost:8080/",
          "height": 163,
          "referenced_widgets": [
            "599d65f0aa3b4ed682168e76fe34e861",
            "57e05ca6b7db4292ac9d5b00ce8a3825",
            "28b34b3bdbf542709570a5ffa1acc43b",
            "bb3a5fef4aa7488db3483994fb5dbf44",
            "b2ce28df01754ddd83e302d21b719746",
            "8f807215ea3e4b5f9adf3105a4e48c99",
            "06f8df2ebfbf42f199f44ec1244e17fe",
            "6f8391bf4c144c10bd90130ea8a5514f",
            "db772d0b12cb47d59248f517e768f07f",
            "266436279345413da845616a2635e16f",
            "a3bba877f91544be9d414840643d8822",
            "23dd849c73664edabfd5799fe1407e32",
            "f05d4b99bcf142719a6cc8cec717be6b",
            "b5883c292187440aaba3968b775d7319",
            "d9d944e4500c4b1fbf6932af54424a4c",
            "57f538ef6c384c259a9478fcd168800d",
            "c55e942db3064c3e9d04f42078bf6a7c",
            "5d93fd3d2a014359850071ed5c9c5f05",
            "c8d3555ffab3480eafc204db884a64db",
            "f2174589c9904cabaae11aa8fc9f2e95",
            "813a9f757d0649c6ae7b8c76a9aa4016",
            "44fe0d2fb19e42a295bb04b5f4c32033",
            "d503eb92c5474cda9947f80581a77c7c",
            "34107a018eb24e06ad722c3749c8f136"
          ]
        },
        "outputId": "c4227bc7-a0fa-466f-dc89-cba066c44f7d"
      },
      "source": [
        "tokenizer = GPT2Tokenizer.from_pretrained('microsoft/DialoGPT-small')"
      ],
      "execution_count": 62,
      "outputs": [
        {
          "output_type": "display_data",
          "data": {
            "application/vnd.jupyter.widget-view+json": {
              "model_id": "599d65f0aa3b4ed682168e76fe34e861",
              "version_minor": 0,
              "version_major": 2
            },
            "text/plain": [
              "HBox(children=(FloatProgress(value=0.0, description='Downloading', max=1042301.0, style=ProgressStyle(descript…"
            ]
          },
          "metadata": {
            "tags": []
          }
        },
        {
          "output_type": "stream",
          "text": [
            "\n"
          ],
          "name": "stdout"
        },
        {
          "output_type": "display_data",
          "data": {
            "application/vnd.jupyter.widget-view+json": {
              "model_id": "db772d0b12cb47d59248f517e768f07f",
              "version_minor": 0,
              "version_major": 2
            },
            "text/plain": [
              "HBox(children=(FloatProgress(value=0.0, description='Downloading', max=456318.0, style=ProgressStyle(descripti…"
            ]
          },
          "metadata": {
            "tags": []
          }
        },
        {
          "output_type": "stream",
          "text": [
            "\n"
          ],
          "name": "stdout"
        },
        {
          "output_type": "display_data",
          "data": {
            "application/vnd.jupyter.widget-view+json": {
              "model_id": "c55e942db3064c3e9d04f42078bf6a7c",
              "version_minor": 0,
              "version_major": 2
            },
            "text/plain": [
              "HBox(children=(FloatProgress(value=0.0, description='Downloading', max=26.0, style=ProgressStyle(description_w…"
            ]
          },
          "metadata": {
            "tags": []
          }
        },
        {
          "output_type": "stream",
          "text": [
            "\n"
          ],
          "name": "stdout"
        }
      ]
    },
    {
      "cell_type": "code",
      "metadata": {
        "id": "LkYOrTFA4YUN"
      },
      "source": [
        "# Padding sequences from the right to a max length of 20\n",
        "tokenizer.padding_side = \"right\"\n",
        "tokenizer.pad_token = tokenizer.eos_token\n",
        "train_tokens = tokenizer(train_texts,return_tensors='pt',truncation=True,padding=True,max_length=20)\n",
        "test_tokens = tokenizer(test_texts,return_tensors='pt',truncation=True,padding=True,max_length=20)"
      ],
      "execution_count": 63,
      "outputs": []
    },
    {
      "cell_type": "code",
      "metadata": {
        "colab": {
          "base_uri": "https://localhost:8080/"
        },
        "id": "oHRofoti4g24",
        "outputId": "d2dade94-1f8c-4714-f278-b246a31848de"
      },
      "source": [
        "# Following is to convert List of words to list of numbers. (Words are replaced by their index in dictionar)\n",
        "\n",
        "train_tokens_ids = train_tokens.input_ids\n",
        "test_tokens_ids = test_tokens.input_ids\n",
        "\n",
        "train_tokens_ids.shape, test_tokens_ids.shape"
      ],
      "execution_count": 64,
      "outputs": [
        {
          "output_type": "execute_result",
          "data": {
            "text/plain": [
              "(torch.Size([9800, 6]), torch.Size([4200, 6]))"
            ]
          },
          "metadata": {
            "tags": []
          },
          "execution_count": 64
        }
      ]
    },
    {
      "cell_type": "code",
      "metadata": {
        "id": "udvDwEdz4haO"
      },
      "source": [
        "train_masks = train_tokens.attention_mask\n",
        "test_masks = test_tokens.attention_mask"
      ],
      "execution_count": 65,
      "outputs": []
    },
    {
      "cell_type": "markdown",
      "metadata": {
        "id": "23qklJA_6Q2L"
      },
      "source": [
        "**Create GPT-2 Classifer**"
      ]
    },
    {
      "cell_type": "code",
      "metadata": {
        "id": "2LiNms1g6PqS"
      },
      "source": [
        "class GTP2BinaryClassifier(nn.Module):\n",
        "    def __init__(self, dropout=0.1):\n",
        "        super(GTP2BinaryClassifier, self).__init__()\n",
        "        self.gtp2 = GPT2ForSequenceClassification.from_pretrained('microsoft/DialoGPT-small')\n",
        "      \n",
        "    def train_m(self,x,y,train_mask,epochs,batchsize):\n",
        "      train_tokens_tensor = torch.tensor(x)\n",
        "      train_y_tensor = torch.tensor(y.reshape(-1, 1)).long()\n",
        "      train_masks_tensor = torch.tensor(train_mask)\n",
        "\n",
        "      train_dataset = TensorDataset(train_tokens_tensor, train_masks_tensor, train_y_tensor)\n",
        "      train_sampler = RandomSampler(train_dataset)\n",
        "      train_dataloader = DataLoader(train_dataset, sampler=train_sampler, batch_size=batchsize) \n",
        "\n",
        "\n",
        "      # param_optimizer = list(self.gtp2.parameters()) \n",
        "      # optimizer_grouped_parameters = [{\"params\": [p for n, p in param_optimizer]}]\n",
        "      optimizer = Adam(self.gtp2.parameters(), lr=5e-5)\n",
        "      for epoch_num in range(epochs):\n",
        "          self.gtp2.train() # Training Flag\n",
        "          train_loss = 0\n",
        "          for step_num, batch_data in enumerate(train_dataloader):\n",
        "              \n",
        "              # Load batch on device memory\n",
        "              token_ids, masks, labels = tuple(t.to(device) for t in batch_data)\n",
        "              self.zero_grad()\n",
        "\n",
        "              # Get the output of the model for provided input\n",
        "              outputs = self.gtp2(token_ids,attention_mask=masks,labels=labels)\n",
        "              loss, logits = outputs[:2]\n",
        "              # logits = self(token_ids, masks)\n",
        "              \n",
        "              # Total Loss\n",
        "              train_loss += loss.item()\n",
        "              \n",
        "              # Backward pass the loss\n",
        "              loss.backward()\n",
        "              torch.nn.utils.clip_grad_norm_(self.gtp2.parameters(), 1.0)\n",
        "              \n",
        "              optimizer.step()\n",
        "              logits = logits.detach().cpu().numpy()\n",
        "\n",
        "              clear_output(wait=True)\n",
        "        \n",
        "              print('Epoch: ', epoch_num + 1)\n",
        "              print(\"\\r\" + \"{0}/{1} loss: {2} \".format(step_num, len(train_labels) / batchsize, train_loss / (step_num + 1)))\n",
        "        "
      ],
      "execution_count": 66,
      "outputs": []
    },
    {
      "cell_type": "code",
      "metadata": {
        "colab": {
          "base_uri": "https://localhost:8080/",
          "height": 218,
          "referenced_widgets": [
            "d1525e8a7bba400e8890b82a2d1bc95d",
            "f9c348b725f24215bd9c6c8f3f951584",
            "6cfa9fd3f6144f49bdb61bbb18b0b33f",
            "74daf9742123429290839f333c1b16d2",
            "7e8285e571bc47f78e054db58913a682",
            "1e16cd53ec3646d3be1097789f593e2f",
            "c6c8aeb552b94c6db37921f70d1d1211",
            "188a31b21c634e52b177cdcccf903304",
            "7325b46faf3d4785bd03d6956ccea186",
            "594804522c7d4796877899cb907d7d5f",
            "f1c95b0d82004e99a0af8608f4332df5",
            "0cb9a7ab2355490db58c00fe98d2e8b0",
            "3ecd939a6c7344a996e78136b12b1057",
            "6b2cd1aa587041e8866ddc2b8fe27331",
            "5333414d84504765bb54aa45203b1160",
            "95fcbc10e9df418ebe6b71055e6d7bd3"
          ]
        },
        "id": "MPZ0MZU06Xxu",
        "outputId": "ab3ec8e2-23a2-4731-bff7-557f7fee058d"
      },
      "source": [
        "gtp_clf = GTP2BinaryClassifier()\n",
        "gtp_clf = gtp_clf.cuda()"
      ],
      "execution_count": 67,
      "outputs": [
        {
          "output_type": "display_data",
          "data": {
            "application/vnd.jupyter.widget-view+json": {
              "model_id": "d1525e8a7bba400e8890b82a2d1bc95d",
              "version_minor": 0,
              "version_major": 2
            },
            "text/plain": [
              "HBox(children=(FloatProgress(value=0.0, description='Downloading', max=641.0, style=ProgressStyle(description_…"
            ]
          },
          "metadata": {
            "tags": []
          }
        },
        {
          "output_type": "stream",
          "text": [
            "\n"
          ],
          "name": "stdout"
        },
        {
          "output_type": "display_data",
          "data": {
            "application/vnd.jupyter.widget-view+json": {
              "model_id": "7325b46faf3d4785bd03d6956ccea186",
              "version_minor": 0,
              "version_major": 2
            },
            "text/plain": [
              "HBox(children=(FloatProgress(value=0.0, description='Downloading', max=351265583.0, style=ProgressStyle(descri…"
            ]
          },
          "metadata": {
            "tags": []
          }
        },
        {
          "output_type": "stream",
          "text": [
            "\n"
          ],
          "name": "stdout"
        },
        {
          "output_type": "stream",
          "text": [
            "Some weights of the model checkpoint at microsoft/DialoGPT-small were not used when initializing GPT2ForSequenceClassification: ['lm_head.weight']\n",
            "- This IS expected if you are initializing GPT2ForSequenceClassification from the checkpoint of a model trained on another task or with another architecture (e.g. initializing a BertForSequenceClassification model from a BertForPreTraining model).\n",
            "- This IS NOT expected if you are initializing GPT2ForSequenceClassification from the checkpoint of a model that you expect to be exactly identical (initializing a BertForSequenceClassification model from a BertForSequenceClassification model).\n",
            "Some weights of GPT2ForSequenceClassification were not initialized from the model checkpoint at microsoft/DialoGPT-small and are newly initialized: ['score.weight']\n",
            "You should probably TRAIN this model on a down-stream task to be able to use it for predictions and inference.\n"
          ],
          "name": "stderr"
        }
      ]
    },
    {
      "cell_type": "code",
      "metadata": {
        "colab": {
          "base_uri": "https://localhost:8080/"
        },
        "id": "uc6BBhJ_6gQL",
        "outputId": "25ea01ce-7e31-4a84-e12b-a5a4ad50c0bf"
      },
      "source": [
        "# Configure the Padding token id\n",
        "gtp_clf.gtp2.config.pad_token_id = tokenizer.eos_token_id\n",
        "gtp_clf.train_m(train_tokens_ids,train_y,train_masks,4,16)"
      ],
      "execution_count": 68,
      "outputs": [
        {
          "output_type": "stream",
          "text": [
            "Epoch:  4\n",
            "\r612/612.5 loss: 0.20237322429728316 \n"
          ],
          "name": "stdout"
        }
      ]
    },
    {
      "cell_type": "markdown",
      "metadata": {
        "id": "bIQXu7cL6n1g"
      },
      "source": [
        "**Evaluate on Testing Set**"
      ]
    },
    {
      "cell_type": "code",
      "metadata": {
        "colab": {
          "base_uri": "https://localhost:8080/"
        },
        "id": "fpBPha-z6gyA",
        "outputId": "a6616603-18a5-4f74-f3be-9bc13a477ed1"
      },
      "source": [
        "test_tokens_tensor = torch.tensor(test_tokens_ids)\n",
        "test_y_tensor = torch.tensor(test_y.reshape(-1, 1)).long()\n",
        "\n",
        "test_masks_tensor = torch.tensor(test_masks)\n",
        "\n",
        "\n",
        "test_dataset = TensorDataset(test_tokens_tensor, test_masks_tensor, test_y_tensor)\n",
        "test_sampler = SequentialSampler(test_dataset)\n",
        "test_dataloader = DataLoader(test_dataset, sampler=test_sampler, batch_size=16)\n"
      ],
      "execution_count": 69,
      "outputs": [
        {
          "output_type": "stream",
          "text": [
            "/usr/local/lib/python3.7/dist-packages/ipykernel_launcher.py:1: UserWarning: To copy construct from a tensor, it is recommended to use sourceTensor.clone().detach() or sourceTensor.clone().detach().requires_grad_(True), rather than torch.tensor(sourceTensor).\n",
            "  \"\"\"Entry point for launching an IPython kernel.\n",
            "/usr/local/lib/python3.7/dist-packages/ipykernel_launcher.py:4: UserWarning: To copy construct from a tensor, it is recommended to use sourceTensor.clone().detach() or sourceTensor.clone().detach().requires_grad_(True), rather than torch.tensor(sourceTensor).\n",
            "  after removing the cwd from sys.path.\n"
          ],
          "name": "stderr"
        }
      ]
    },
    {
      "cell_type": "code",
      "metadata": {
        "id": "9QSujIkh6s79"
      },
      "source": [
        "# Evaluate Model\n",
        "gtp_clf.eval() # Define eval\n",
        "gpt_predicted = [] # Store Result\n",
        "with torch.no_grad():\n",
        "    for step_num, batch_data in enumerate(test_dataloader):\n",
        "\n",
        "        token_ids, masks, labels = tuple(t.to(device) for t in batch_data)\n",
        "\n",
        "        # ----------------------------------------------------------------\n",
        "        outputs = gtp_clf.gtp2(token_ids,attention_mask=masks,labels=labels)\n",
        "        loss, logits = outputs[:2]\n",
        "        numpy_logits = logits.detach().cpu().numpy()\n",
        "        # ----------------------------------------------------------------\n",
        "        gpt_predicted +=list(numpy_logits.argmax(axis=-1).flatten().tolist())"
      ],
      "execution_count": 70,
      "outputs": []
    },
    {
      "cell_type": "code",
      "metadata": {
        "colab": {
          "base_uri": "https://localhost:8080/",
          "height": 631
        },
        "id": "Ke386Aoj6xXG",
        "outputId": "2eaf6c70-f6e7-43c5-819e-37073c27ea84"
      },
      "source": [
        "print_performance('GPT2',test_y, gpt_predicted)\n",
        "\n",
        "# Recording TPR and FPR for the TESTING-ROC curves\n",
        "GPT_test = {}\n",
        "GPT_test['fpr'], GPT_test['tpr'], thresh = roc_curve(test_y, gpt_predicted)\n",
        "GPT_test['auc'] = roc_auc_score(test_y, gpt_predicted) "
      ],
      "execution_count": 71,
      "outputs": [
        {
          "output_type": "stream",
          "text": [
            "Confusion Matrix: \n",
            " [[1989  151]\n",
            " [ 154 1906]]\n",
            "\n",
            "Testing Accuracy: 0.93\n",
            "Precision:0.93\n",
            "Recall: 0.93\n",
            "False Positive Rate: 0.07\n",
            "\n",
            "Classification report:\n",
            "              precision    recall  f1-score   support\n",
            "\n",
            "       False       0.93      0.93      0.93      2140\n",
            "        True       0.93      0.93      0.93      2060\n",
            "\n",
            "    accuracy                           0.93      4200\n",
            "   macro avg       0.93      0.93      0.93      4200\n",
            "weighted avg       0.93      0.93      0.93      4200\n",
            "\n",
            "AUC: 0.93\n"
          ],
          "name": "stdout"
        },
        {
          "output_type": "display_data",
          "data": {
            "image/png": "[encoded data removed]",
            "text/plain": [
              "<Figure size 432x288 with 1 Axes>"
            ]
          },
          "metadata": {
            "tags": [],
            "needs_background": "light"
          }
        }
      ]
    },
    {
      "cell_type": "code",
      "metadata": {
        "colab": {
          "base_uri": "https://localhost:8080/",
          "height": 404
        },
        "id": "DJgQwUXi62OA",
        "outputId": "ebdc2df1-4f22-464f-fa37-1d9f5d05d957"
      },
      "source": [
        "# Ploting the overlaid ROC curves on testing results:\n",
        "graph_multi_ROC()"
      ],
      "execution_count": 72,
      "outputs": [
        {
          "output_type": "display_data",
          "data": {
            "image/png": "[encoded data removed]",
            "text/plain": [
              "<Figure size 648x432 with 1 Axes>"
            ]
          },
          "metadata": {
            "tags": [],
            "needs_background": "light"
          }
        }
      ]
    },
    {
      "cell_type": "markdown",
      "metadata": {
        "id": "CtoZZkWd8e-a"
      },
      "source": [
        "## **End**"
      ]
    }
  ]
}